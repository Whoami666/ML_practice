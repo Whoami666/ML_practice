{
  "cells": [
    {
      "cell_type": "markdown",
      "metadata": {
        "id": "tBrDXMdDy-Qn"
      },
      "source": [
        "# HSE 2023: Введение в машинное обучение БИ 22/23\n",
        "\n",
        "## ДЗ 2"
      ]
    },
    {
      "cell_type": "markdown",
      "source": [
        "# Внимание!\n",
        "Если в задании просят объяснить что-либо, то это значит, что требуется письменный ответ, который является частью задания и оценивается\n",
        "\n",
        "Мы только принимаем ipynb ноутбуки. Если вы используете Google Colab, то вам необходимо скачать ноутбук перед сдачей ДЗ\n"
      ],
      "metadata": {
        "id": "RXXi5K1mf41d"
      }
    },
    {
      "cell_type": "code",
      "execution_count": null,
      "metadata": {
        "ExecuteTime": {
          "end_time": "2020-09-26T16:48:20.566549Z",
          "start_time": "2020-09-26T16:48:19.893995Z"
        },
        "id": "mSR-a9vVy-Qp"
      },
      "outputs": [],
      "source": [
        "import pandas as pd\n",
        "import numpy as np\n",
        "import matplotlib.pyplot as plt\n",
        "import seaborn as sns\n",
        "import sklearn\n",
        "from sklearn import datasets\n",
        "#from sklearn.datasets import load_boston\n",
        "from sklearn.model_selection import GridSearchCV\n",
        "from sklearn.model_selection import train_test_split\n",
        "from sklearn.linear_model import Ridge\n",
        "from sklearn.preprocessing import StandardScaler, LabelEncoder\n",
        "from sklearn.linear_model import LinearRegression, Ridge, Lasso, ElasticNet\n",
        "from sklearn.metrics import mean_squared_error, r2_score\n",
        "import statsmodels.api as sm\n",
        "from statsmodels.regression.linear_model import OLSResults\n",
        "from math import sqrt\n",
        "import random\n",
        "import sys\n",
        "\n",
        "import warnings\n",
        "warnings.filterwarnings(\"ignore\")\n",
        "\n",
        "%matplotlib inline\n",
        "\n",
        "sns.set(style=\"darkgrid\")"
      ]
    },
    {
      "cell_type": "markdown",
      "metadata": {
        "id": "HUjuv9Qty-Qq"
      },
      "source": [
        "### Данные\n",
        "\n",
        "Для этого ДЗ мы будем использовать датасет по ценам бриллиантов из seaborn"
      ]
    },
    {
      "cell_type": "code",
      "execution_count": null,
      "metadata": {
        "id": "tHWSWTXDy-Qq"
      },
      "outputs": [],
      "source": [
        "data = sns.load_dataset('diamonds')\n",
        "\n",
        "y = data.price\n",
        "X = data.drop(['price'], axis=1)\n",
        "columns = data.drop(['price'], axis=1).columns"
      ]
    },
    {
      "cell_type": "markdown",
      "metadata": {
        "id": "K81w8s35y-Qq"
      },
      "source": [
        "## Линейная регрессия"
      ]
    },
    {
      "cell_type": "markdown",
      "metadata": {
        "id": "cYgEN-FMy-Qr"
      },
      "source": [
        "#### 0. [0.25 балла] Закодируйте категориальные признаки"
      ]
    },
    {
      "cell_type": "code",
      "execution_count": null,
      "metadata": {
        "id": "-IrSlQaWy-Qr",
        "colab": {
          "base_uri": "https://localhost:8080/",
          "height": 240
        },
        "outputId": "582a9ad6-e9b3-44c8-aaeb-219ccc634679"
      },
      "outputs": [
        {
          "output_type": "stream",
          "name": "stdout",
          "text": [
            "Data shape: (53940, 23)\n"
          ]
        },
        {
          "output_type": "execute_result",
          "data": {
            "text/plain": [
              "   carat  depth  table     x     y     z  cut_Premium  cut_Very Good  \\\n",
              "0   0.23   61.5   55.0  3.95  3.98  2.43            0              0   \n",
              "1   0.21   59.8   61.0  3.89  3.84  2.31            1              0   \n",
              "\n",
              "   cut_Good  cut_Fair  ...  color_H  color_I  color_J  clarity_VVS1  \\\n",
              "0         0         0  ...        0        0        0             0   \n",
              "1         0         0  ...        0        0        0             0   \n",
              "\n",
              "   clarity_VVS2  clarity_VS1  clarity_VS2  clarity_SI1  clarity_SI2  \\\n",
              "0             0            0            0            0            1   \n",
              "1             0            0            0            1            0   \n",
              "\n",
              "   clarity_I1  \n",
              "0           0  \n",
              "1           0  \n",
              "\n",
              "[2 rows x 23 columns]"
            ],
            "text/html": [
              "\n",
              "  <div id=\"df-efec64f3-9e3b-4b5a-9fc5-ed2240d22fe5\">\n",
              "    <div class=\"colab-df-container\">\n",
              "      <div>\n",
              "<style scoped>\n",
              "    .dataframe tbody tr th:only-of-type {\n",
              "        vertical-align: middle;\n",
              "    }\n",
              "\n",
              "    .dataframe tbody tr th {\n",
              "        vertical-align: top;\n",
              "    }\n",
              "\n",
              "    .dataframe thead th {\n",
              "        text-align: right;\n",
              "    }\n",
              "</style>\n",
              "<table border=\"1\" class=\"dataframe\">\n",
              "  <thead>\n",
              "    <tr style=\"text-align: right;\">\n",
              "      <th></th>\n",
              "      <th>carat</th>\n",
              "      <th>depth</th>\n",
              "      <th>table</th>\n",
              "      <th>x</th>\n",
              "      <th>y</th>\n",
              "      <th>z</th>\n",
              "      <th>cut_Premium</th>\n",
              "      <th>cut_Very Good</th>\n",
              "      <th>cut_Good</th>\n",
              "      <th>cut_Fair</th>\n",
              "      <th>...</th>\n",
              "      <th>color_H</th>\n",
              "      <th>color_I</th>\n",
              "      <th>color_J</th>\n",
              "      <th>clarity_VVS1</th>\n",
              "      <th>clarity_VVS2</th>\n",
              "      <th>clarity_VS1</th>\n",
              "      <th>clarity_VS2</th>\n",
              "      <th>clarity_SI1</th>\n",
              "      <th>clarity_SI2</th>\n",
              "      <th>clarity_I1</th>\n",
              "    </tr>\n",
              "  </thead>\n",
              "  <tbody>\n",
              "    <tr>\n",
              "      <th>0</th>\n",
              "      <td>0.23</td>\n",
              "      <td>61.5</td>\n",
              "      <td>55.0</td>\n",
              "      <td>3.95</td>\n",
              "      <td>3.98</td>\n",
              "      <td>2.43</td>\n",
              "      <td>0</td>\n",
              "      <td>0</td>\n",
              "      <td>0</td>\n",
              "      <td>0</td>\n",
              "      <td>...</td>\n",
              "      <td>0</td>\n",
              "      <td>0</td>\n",
              "      <td>0</td>\n",
              "      <td>0</td>\n",
              "      <td>0</td>\n",
              "      <td>0</td>\n",
              "      <td>0</td>\n",
              "      <td>0</td>\n",
              "      <td>1</td>\n",
              "      <td>0</td>\n",
              "    </tr>\n",
              "    <tr>\n",
              "      <th>1</th>\n",
              "      <td>0.21</td>\n",
              "      <td>59.8</td>\n",
              "      <td>61.0</td>\n",
              "      <td>3.89</td>\n",
              "      <td>3.84</td>\n",
              "      <td>2.31</td>\n",
              "      <td>1</td>\n",
              "      <td>0</td>\n",
              "      <td>0</td>\n",
              "      <td>0</td>\n",
              "      <td>...</td>\n",
              "      <td>0</td>\n",
              "      <td>0</td>\n",
              "      <td>0</td>\n",
              "      <td>0</td>\n",
              "      <td>0</td>\n",
              "      <td>0</td>\n",
              "      <td>0</td>\n",
              "      <td>1</td>\n",
              "      <td>0</td>\n",
              "      <td>0</td>\n",
              "    </tr>\n",
              "  </tbody>\n",
              "</table>\n",
              "<p>2 rows × 23 columns</p>\n",
              "</div>\n",
              "      <button class=\"colab-df-convert\" onclick=\"convertToInteractive('df-efec64f3-9e3b-4b5a-9fc5-ed2240d22fe5')\"\n",
              "              title=\"Convert this dataframe to an interactive table.\"\n",
              "              style=\"display:none;\">\n",
              "        \n",
              "  <svg xmlns=\"http://www.w3.org/2000/svg\" height=\"24px\"viewBox=\"0 0 24 24\"\n",
              "       width=\"24px\">\n",
              "    <path d=\"M0 0h24v24H0V0z\" fill=\"none\"/>\n",
              "    <path d=\"M18.56 5.44l.94 2.06.94-2.06 2.06-.94-2.06-.94-.94-2.06-.94 2.06-2.06.94zm-11 1L8.5 8.5l.94-2.06 2.06-.94-2.06-.94L8.5 2.5l-.94 2.06-2.06.94zm10 10l.94 2.06.94-2.06 2.06-.94-2.06-.94-.94-2.06-.94 2.06-2.06.94z\"/><path d=\"M17.41 7.96l-1.37-1.37c-.4-.4-.92-.59-1.43-.59-.52 0-1.04.2-1.43.59L10.3 9.45l-7.72 7.72c-.78.78-.78 2.05 0 2.83L4 21.41c.39.39.9.59 1.41.59.51 0 1.02-.2 1.41-.59l7.78-7.78 2.81-2.81c.8-.78.8-2.07 0-2.86zM5.41 20L4 18.59l7.72-7.72 1.47 1.35L5.41 20z\"/>\n",
              "  </svg>\n",
              "      </button>\n",
              "      \n",
              "  <style>\n",
              "    .colab-df-container {\n",
              "      display:flex;\n",
              "      flex-wrap:wrap;\n",
              "      gap: 12px;\n",
              "    }\n",
              "\n",
              "    .colab-df-convert {\n",
              "      background-color: #E8F0FE;\n",
              "      border: none;\n",
              "      border-radius: 50%;\n",
              "      cursor: pointer;\n",
              "      display: none;\n",
              "      fill: #1967D2;\n",
              "      height: 32px;\n",
              "      padding: 0 0 0 0;\n",
              "      width: 32px;\n",
              "    }\n",
              "\n",
              "    .colab-df-convert:hover {\n",
              "      background-color: #E2EBFA;\n",
              "      box-shadow: 0px 1px 2px rgba(60, 64, 67, 0.3), 0px 1px 3px 1px rgba(60, 64, 67, 0.15);\n",
              "      fill: #174EA6;\n",
              "    }\n",
              "\n",
              "    [theme=dark] .colab-df-convert {\n",
              "      background-color: #3B4455;\n",
              "      fill: #D2E3FC;\n",
              "    }\n",
              "\n",
              "    [theme=dark] .colab-df-convert:hover {\n",
              "      background-color: #434B5C;\n",
              "      box-shadow: 0px 1px 3px 1px rgba(0, 0, 0, 0.15);\n",
              "      filter: drop-shadow(0px 1px 2px rgba(0, 0, 0, 0.3));\n",
              "      fill: #FFFFFF;\n",
              "    }\n",
              "  </style>\n",
              "\n",
              "      <script>\n",
              "        const buttonEl =\n",
              "          document.querySelector('#df-efec64f3-9e3b-4b5a-9fc5-ed2240d22fe5 button.colab-df-convert');\n",
              "        buttonEl.style.display =\n",
              "          google.colab.kernel.accessAllowed ? 'block' : 'none';\n",
              "\n",
              "        async function convertToInteractive(key) {\n",
              "          const element = document.querySelector('#df-efec64f3-9e3b-4b5a-9fc5-ed2240d22fe5');\n",
              "          const dataTable =\n",
              "            await google.colab.kernel.invokeFunction('convertToInteractive',\n",
              "                                                     [key], {});\n",
              "          if (!dataTable) return;\n",
              "\n",
              "          const docLinkHtml = 'Like what you see? Visit the ' +\n",
              "            '<a target=\"_blank\" href=https://colab.research.google.com/notebooks/data_table.ipynb>data table notebook</a>'\n",
              "            + ' to learn more about interactive tables.';\n",
              "          element.innerHTML = '';\n",
              "          dataTable['output_type'] = 'display_data';\n",
              "          await google.colab.output.renderOutput(dataTable, element);\n",
              "          const docLink = document.createElement('div');\n",
              "          docLink.innerHTML = docLinkHtml;\n",
              "          element.appendChild(docLink);\n",
              "        }\n",
              "      </script>\n",
              "    </div>\n",
              "  </div>\n",
              "  "
            ]
          },
          "metadata": {},
          "execution_count": 3
        }
      ],
      "source": [
        "X_cat = X.copy() #на всякий случай, если понадобится\n",
        "X = pd.get_dummies(X, drop_first=True)\n",
        "print(f\"Data shape: {X.shape}\")\n",
        "X.head(2)"
      ]
    },
    {
      "cell_type": "markdown",
      "metadata": {
        "id": "7dVwP45Gy-Qr"
      },
      "source": [
        "#### 1. [0.25 балла] Разбейте данные на train и test с пропорцией 80:20 и random_state=17."
      ]
    },
    {
      "cell_type": "code",
      "execution_count": null,
      "metadata": {
        "id": "U7z8TIh5y-Qs"
      },
      "outputs": [],
      "source": [
        "X_train, X_test, y_train, y_test = train_test_split(X, y, test_size=0.2, random_state=17)"
      ]
    },
    {
      "cell_type": "markdown",
      "metadata": {
        "id": "7daIQRfKy-Qs"
      },
      "source": [
        "#### 2. [1 балл] Обучите модели на train'е используя библиотеку StatsModels и примените ее к test'у; используйте $RMSE$ и $R ^ 2$ в качестве метрики качества. Попробуйте также применить реализации линейной регрессии из sklearn:\n",
        "\n",
        "* [`LinearRegression`](http://scikit-learn.org/stable/modules/generated/sklearn.linear_model.LinearRegression.html);\n",
        "* [`Ridge`](http://scikit-learn.org/stable/modules/generated/sklearn.linear_model.Ridge.html) with $\\alpha = 0.01$;\n",
        "* [`Lasso`](http://scikit-learn.org/stable/modules/generated/sklearn.linear_model.Lasso.html) with $\\alpha = 0.01$\n",
        "* [`ElasticNet`](https://scikit-learn.org/stable/modules/generated/sklearn.linear_model.ElasticNet.html) with $\\alpha = 0.01$, $l_{1}$_$ratio = 0.6$\n",
        "\n",
        "Не забывайте скейлить данные с помощью StandardScaler перед обучением моделей!"
      ]
    },
    {
      "cell_type": "code",
      "source": [
        "def result_printer(model, y_test_given, y_pred_given):\n",
        "  print(\"Results for\", model)\n",
        "  print(\"Test MSE = %.4f\" % mean_squared_error(y_test_given, y_pred_given))\n",
        "  print(\"Test RMSE = %.4f\" % mean_squared_error(y_test_given, y_pred_given)**(1/2))\n",
        "  print(\"Test R^2 = %.4f\" % r2_score(y_test_given, y_pred_given))"
      ],
      "metadata": {
        "id": "1k4JKZwikVje"
      },
      "execution_count": null,
      "outputs": []
    },
    {
      "cell_type": "code",
      "source": [
        "scaler = StandardScaler()\n",
        "X_train_scaled = scaler.fit_transform(X_train)\n",
        "X_test_scaled = scaler.transform(X_test)"
      ],
      "metadata": {
        "id": "gQeABdYqhkSr"
      },
      "execution_count": null,
      "outputs": []
    },
    {
      "cell_type": "code",
      "source": [
        "ols_model = sm.OLS(y_train, X_train_scaled).fit()\n",
        "y_pred = ols_model.predict(X_test_scaled)\n",
        "result_printer('Linreg with statmodels', y_test, y_pred)"
      ],
      "metadata": {
        "colab": {
          "base_uri": "https://localhost:8080/"
        },
        "id": "jW3jdkhRjEj-",
        "outputId": "ac7081cd-6b4d-4090-f433-917c918fe246"
      },
      "execution_count": null,
      "outputs": [
        {
          "output_type": "stream",
          "name": "stdout",
          "text": [
            "Results for Linreg with statmodels\n",
            "Test MSE = 16739595.0836\n",
            "Test RMSE = 4091.4050\n",
            "Test R^2 = -0.0337\n"
          ]
        }
      ]
    },
    {
      "cell_type": "code",
      "source": [
        "linreg = LinearRegression()\n",
        "linreg.fit(X_train_scaled, y_train)\n",
        "y_pred = linreg.predict(X_test_scaled)\n",
        "result_printer('Linreg with statmodels', y_test, y_pred)"
      ],
      "metadata": {
        "colab": {
          "base_uri": "https://localhost:8080/"
        },
        "id": "5Ep5bzzchhXu",
        "outputId": "b74ecfe0-00bf-4795-9409-5a6e761cd122"
      },
      "execution_count": null,
      "outputs": [
        {
          "output_type": "stream",
          "name": "stdout",
          "text": [
            "Results for Linreg with statmodels\n",
            "Test MSE = 1322478.1309\n",
            "Test RMSE = 1149.9905\n",
            "Test R^2 = 0.9183\n"
          ]
        }
      ]
    },
    {
      "cell_type": "code",
      "source": [
        "ridge = Ridge(alpha=0.01)\n",
        "ridge.fit(X_train_scaled, y_train)\n",
        "y_pred = ridge.predict(X_test_scaled)\n",
        "result_printer('Ridge with alpha = 0.01', y_test, y_pred)"
      ],
      "metadata": {
        "colab": {
          "base_uri": "https://localhost:8080/"
        },
        "id": "u3MhhQxvk8_Y",
        "outputId": "8876c4b4-7c7c-49b7-ca7c-321e68a6718b"
      },
      "execution_count": null,
      "outputs": [
        {
          "output_type": "stream",
          "name": "stdout",
          "text": [
            "Results for Ridge with alpha = 0.01\n",
            "Test MSE = 1322477.0903\n",
            "Test RMSE = 1149.9900\n",
            "Test R^2 = 0.9183\n"
          ]
        }
      ]
    },
    {
      "cell_type": "code",
      "source": [
        "lasso = Lasso(alpha=0.01)\n",
        "lasso.fit(X_train_scaled, y_train)\n",
        "y_pred = lasso.predict(X_test_scaled)\n",
        "result_printer('Lasso with alpha = 0.01', y_test, y_pred)"
      ],
      "metadata": {
        "colab": {
          "base_uri": "https://localhost:8080/"
        },
        "id": "-MlU--DNk884",
        "outputId": "2a114880-68d1-42aa-a171-ff3674a58765"
      },
      "execution_count": null,
      "outputs": [
        {
          "output_type": "stream",
          "name": "stdout",
          "text": [
            "Results for Lasso with alpha = 0.01\n",
            "Test MSE = 1322463.0655\n",
            "Test RMSE = 1149.9839\n",
            "Test R^2 = 0.9183\n"
          ]
        }
      ]
    },
    {
      "cell_type": "code",
      "source": [
        "elastic = ElasticNet(alpha=0.01, l1_ratio=0.5)\n",
        "elastic.fit(X_train_scaled, y_train)\n",
        "y_pred = elastic.predict(X_test_scaled)\n",
        "result_printer('ElasticNet with alpha = 0.01 and L1_ratio = 0.6', y_test, y_pred)"
      ],
      "metadata": {
        "colab": {
          "base_uri": "https://localhost:8080/"
        },
        "id": "fZAxIdKwk97w",
        "outputId": "f25bb575-4de6-400b-f07f-4f879b78b6d0"
      },
      "execution_count": null,
      "outputs": [
        {
          "output_type": "stream",
          "name": "stdout",
          "text": [
            "Results for ElasticNet with alpha = 0.01 and L1_ratio = 0.6\n",
            "Test MSE = 1325135.2057\n",
            "Test RMSE = 1151.1452\n",
            "Test R^2 = 0.9182\n"
          ]
        }
      ]
    },
    {
      "cell_type": "markdown",
      "metadata": {
        "id": "69JOftKRy-Qt"
      },
      "source": [
        "#### 3. [1 балл] Исследуйте значения параметров полученных моделей и проверьте какие веса получились нулевыми. Прокомментируйте значимость коэффициентов, обшую значимость модели и остальные факторы из результирующей таблицы"
      ]
    },
    {
      "cell_type": "code",
      "execution_count": null,
      "metadata": {
        "id": "Np1biYQ7y-Qt"
      },
      "outputs": [],
      "source": [
        "def show_weights(features, weights, title_txt):\n",
        "    sorted_weights = list(zip(weights, features))\n",
        "\n",
        "    any_zero_flg = 0\n",
        "    print(title_txt)\n",
        "    for pair in sorted_weights:\n",
        "      if pair[1] == 0:\n",
        "        print('zero weight', pair[0])\n",
        "        any_zero_flg = 1\n",
        "    print('No zero weights\\n') if any_zero_flg == 0 else 1\n",
        "\n",
        "    weights = [x[0] for x in sorted_weights]\n",
        "    features = [x[1] for x in sorted_weights]\n",
        "    sns.barplot(y=features, x=weights)\n",
        "\n",
        "    plt.tick_params(axis='y', labelsize=8)\n",
        "    plt.tick_params(axis='x', labelsize=9)\n",
        "    plt.xlabel('weights', fontsize=10)\n",
        "    plt.title(title_txt, fontsize=11)"
      ]
    },
    {
      "cell_type": "code",
      "source": [
        "fig, axs = plt.subplots(2, 2, figsize=(14, 11))\n",
        "\n",
        "plt.subplot(2, 2, 1)\n",
        "show_weights(X_train.columns, linreg.coef_, 'LinearRegression, sklearn')\n",
        "\n",
        "plt.subplot(2, 2, 2)\n",
        "show_weights(X_train.columns, ridge.coef_, 'Ridge')\n",
        "\n",
        "plt.subplot(2, 2, 3)\n",
        "show_weights(X_train.columns, lasso.coef_, 'Lasso')\n",
        "\n",
        "plt.subplot(2, 2, 4)\n",
        "show_weights(X_train.columns, elastic.coef_, 'ElasticNet')"
      ],
      "metadata": {
        "colab": {
          "base_uri": "https://localhost:8080/",
          "height": 1000
        },
        "id": "eEP36mwvndYO",
        "outputId": "f0c1b9b6-e7df-48d2-aebf-eef3cbbac8df"
      },
      "execution_count": null,
      "outputs": [
        {
          "output_type": "stream",
          "name": "stdout",
          "text": [
            "LinearRegression, sklearn\n",
            "No zero weights\n",
            "\n",
            "Ridge\n",
            "No zero weights\n",
            "\n",
            "Lasso\n",
            "No zero weights\n",
            "\n",
            "ElasticNet\n",
            "No zero weights\n",
            "\n"
          ]
        },
        {
          "output_type": "display_data",
          "data": {
            "text/plain": [
              "<Figure size 1400x1100 with 4 Axes>"
            ],
            "image/png": "[encoded data removed]"
          },
          "metadata": {}
        }
      ]
    },
    {
      "cell_type": "code",
      "source": [
        "\"\"\"\n",
        "В принципе веса у моделей относительно одинаковые. Сильно отличается только Х\n",
        "Carat имеет огромный вес, наименьший вес у У, но он все равно не нулевой.\n",
        "\"\"\""
      ],
      "metadata": {
        "id": "cCW6p8RrpvIl",
        "colab": {
          "base_uri": "https://localhost:8080/",
          "height": 36
        },
        "outputId": "9b726ac9-005b-4164-d72e-a0e7e8201016"
      },
      "execution_count": null,
      "outputs": [
        {
          "output_type": "execute_result",
          "data": {
            "text/plain": [
              "'\\nВ принципе веса у моделей относительно одинаковые. Сильно отличается только Х\\nCarat имеет огромный вес, наименьший вес у У, но он все равно не нулевой.\\n'"
            ],
            "application/vnd.google.colaboratory.intrinsic+json": {
              "type": "string"
            }
          },
          "metadata": {},
          "execution_count": 14
        }
      ]
    },
    {
      "cell_type": "markdown",
      "metadata": {
        "id": "yLcvGlUZy-Qt"
      },
      "source": [
        "#### 4. [1 балл] Реализуйте один из алгоритмов отбора признаков (Elimination by P-value, Forward elimination, Backward elimination), сделайте выводы."
      ]
    },
    {
      "cell_type": "code",
      "execution_count": null,
      "metadata": {
        "id": "TnrbRbkwy-Qt"
      },
      "outputs": [],
      "source": [
        "def backward_elim(model, X_train1, X_test1, y_train1, y_test1): #называем их так, чтобы не пересекались с глобальными\n",
        "  print(model)\n",
        "\n",
        "  scaler = StandardScaler()\n",
        "  X_train_scaled1 = scaler.fit_transform(X_train1)\n",
        "  X_test_scaled1 = scaler.transform(X_test1)\n",
        "\n",
        "  model.fit(X_train_scaled1, y_train1)\n",
        "  y_pred1 = model.predict(X_test_scaled1)\n",
        "  RMSE_pred = mean_squared_error(y_test1, y_pred1)**(1/2) #RMSE со всеми фичами\n",
        "\n",
        "  features = X_train.columns\n",
        "\n",
        "  while(True):\n",
        "    X_train_scaled1 = scaler.fit_transform(X_train1) #обучаем на нашем наборе фичей\n",
        "    X_test_scaled1 = scaler.transform(X_test1)\n",
        "    model.fit(X_train_scaled1, y_train1)\n",
        "    y_pred1 = model.predict(X_test_scaled1)\n",
        "\n",
        "    RMSE = mean_squared_error(y_test1, y_pred1)**(1/2)\n",
        "\n",
        "    if RMSE > RMSE_pred: #если ухудшили показатели модели, то останавливаемся\n",
        "      print(\"\\nBest RMSE = %.4f\" % RMSE_pred)\n",
        "      break\n",
        "\n",
        "    else:\n",
        "      print('->', RMSE)\n",
        "      RMSE_pred = RMSE\n",
        "\n",
        "      sorted_weights = sorted(zip(abs(model.coef_), features))\n",
        "      features = [i for i in features if i != sorted_weights[0][1]] #убираем самую бесполезную фичу\n",
        "      print('removed', sorted_weights[0][1])\n",
        "\n",
        "      X_train1 = X_train1[features] #обновляем X_train и X-test\n",
        "      X_test1 = X_test1[features]"
      ]
    },
    {
      "cell_type": "code",
      "source": [
        "backward_elim(LinearRegression(), X_train, X_test, y_train, y_test)"
      ],
      "metadata": {
        "colab": {
          "base_uri": "https://localhost:8080/"
        },
        "id": "pnltGz6Iww6B",
        "outputId": "2cc9b711-2aac-4022-accc-c9ed9372d1c4"
      },
      "execution_count": null,
      "outputs": [
        {
          "output_type": "stream",
          "name": "stdout",
          "text": [
            "LinearRegression()\n",
            "-> 1149.9904916713892\n",
            "removed y\n",
            "\n",
            "Best RMSE = 1149.9905\n"
          ]
        }
      ]
    },
    {
      "cell_type": "code",
      "source": [
        "backward_elim(Ridge(alpha=0.01), X_train, X_test, y_train, y_test)"
      ],
      "metadata": {
        "colab": {
          "base_uri": "https://localhost:8080/"
        },
        "id": "0kewhY3u1Wxc",
        "outputId": "e607d1fd-c16b-43d3-ba35-bb87772b74ea"
      },
      "execution_count": null,
      "outputs": [
        {
          "output_type": "stream",
          "name": "stdout",
          "text": [
            "Ridge(alpha=0.01)\n",
            "-> 1149.9900392167103\n",
            "removed y\n",
            "\n",
            "Best RMSE = 1149.9900\n"
          ]
        }
      ]
    },
    {
      "cell_type": "code",
      "source": [
        "backward_elim(Lasso(alpha=0.01), X_train, X_test, y_train, y_test)"
      ],
      "metadata": {
        "colab": {
          "base_uri": "https://localhost:8080/"
        },
        "id": "UWWLy-YK1Wu2",
        "outputId": "823d64a7-b676-46d3-8bef-c93a1c4908e4"
      },
      "execution_count": null,
      "outputs": [
        {
          "output_type": "stream",
          "name": "stdout",
          "text": [
            "Lasso(alpha=0.01)\n",
            "-> 1149.9839414263013\n",
            "removed y\n",
            "\n",
            "Best RMSE = 1149.9839\n"
          ]
        }
      ]
    },
    {
      "cell_type": "code",
      "source": [
        "backward_elim(ElasticNet(alpha=0.01, l1_ratio=0.5), X_train, X_test, y_train, y_test)"
      ],
      "metadata": {
        "colab": {
          "base_uri": "https://localhost:8080/"
        },
        "id": "kYwccB7U1WbV",
        "outputId": "f73978ab-0f6a-42a2-c577-7b85fedeef48"
      },
      "execution_count": null,
      "outputs": [
        {
          "output_type": "stream",
          "name": "stdout",
          "text": [
            "ElasticNet(alpha=0.01)\n",
            "-> 1151.1451714187626\n",
            "removed y\n",
            "-> 1151.1361315305446\n",
            "removed cut_Premium\n",
            "\n",
            "Best RMSE = 1151.1361\n"
          ]
        }
      ]
    },
    {
      "cell_type": "markdown",
      "metadata": {
        "id": "df0eQLdNy-Qt"
      },
      "source": [
        "#### 5. [1 балл] Найдите лучший (по RMSE) $\\alpha$ для регрессиии Lasso, используя кросс-валидациб на 4 фолда. Вы должны выбрать значение из промежутка $[10^{-4}, 10^{3}]$."
      ]
    },
    {
      "cell_type": "code",
      "execution_count": null,
      "metadata": {
        "id": "JPoT3YHqy-Qt",
        "colab": {
          "base_uri": "https://localhost:8080/"
        },
        "outputId": "7f7d88ce-f3fa-4acf-982f-2b140c43c0e2"
      },
      "outputs": [
        {
          "output_type": "stream",
          "name": "stdout",
          "text": [
            "Tuned Hyperparameters : {'alpha': 0.0001}\n",
            "Best RMSE: 1129.819731206987\n"
          ]
        }
      ],
      "source": [
        "grid = { 'alpha':(1e-4, 1e+3, 'log-uniform')}\n",
        "lasso_cv = GridSearchCV(estimator=Ridge(),\n",
        "                          param_grid=grid,\n",
        "                          cv= 4,\n",
        "                          scoring='neg_root_mean_squared_error')\n",
        "lasso_cv.fit(X_train_scaled, y_train)\n",
        "\n",
        "print(\"Tuned Hyperparameters :\", lasso_cv.best_params_)\n",
        "print(\"Best RMSE:\", -lasso_cv.best_score_)"
      ]
    },
    {
      "cell_type": "markdown",
      "metadata": {
        "id": "Q1PKinJUy-Qt"
      },
      "source": [
        "## Градиентный спуск\n",
        "\n",
        "#### 6. [3.5 балла] Имплементируйте  Ridge регрессию для MSE loss, обученную на градиентом спуске.\n",
        "\n",
        "\n",
        "Все вычисления должны быть векторизованы, а циклы Python можно использовать только для итераций градиентного спуска. В качестве критерия остановки необходимо использовать (одновременно):\n",
        "\n",
        "* проверка абсолютной нормы разницы весов на двух соседних итерациях (например, меньше некоторого малого числа порядка $10^{-6}$, заданного параметром `tolerance`);\n",
        "\n",
        "* достижение максимального количества итераций (например, 10000, заданного параметром `max_iter`).\n",
        "\n",
        "Вам необходимо выполнить:\n",
        "\n",
        "* Полный градиентный спуск:\n",
        "\n",
        "$$\n",
        "w_{k + 1} = w_{k} - \\eta_{k} \\nabla_{w} Q(w_{k}).\n",
        "$$\n",
        "\n",
        "* Стохастический градиентный спуск:\n",
        "\n",
        "$$\n",
        "w_{k + 1} = w_{k} - \\eta_{k} \\nabla_{w} q_{i_{k}}(w_{k}).\n",
        "$$\n",
        "\n",
        "$\\nabla_{w} q_{i_{k}}(w_{k}) \\, $ является оценкой градиента по набору объектов, выбранных случайным образом.\n",
        "\n",
        "* Momentum method:\n",
        "\n",
        "$$\n",
        "h_0 = 0, \\\\\n",
        "h_{k + 1} = \\alpha h_{k} + \\eta_k \\nabla_{w} Q(w_{k}), \\\\\n",
        "w_{k + 1} = w_{k} - h_{k + 1}.\n",
        "$$\n",
        "\n",
        "* Adagrad method:\n",
        "\n",
        "$$\n",
        "G_0 = 0, \\\\\n",
        "G_{k + 1} = G_{k} + (\\nabla_{w} Q(w_{k+1}))^2, \\\\\n",
        "w_{k + 1} = w_{k} - \\eta * \\frac{\\nabla_{w} Q(w_{k+1})}{\\sqrt{G_{k+1} + \\epsilon}}.\n",
        "$$\n",
        "\n",
        "Чтобы убедиться, что процесс оптимизации действительно выполняется, мы будем использовать атрибут класса `loss_history`. После вызова метода fit он должен содержать значения функции потерь для всех итераций, начиная с первой (до первого шага по антиградиенту).\n",
        "\n",
        "\n",
        "Вам нужно инициализировать веса случайным вектором из нормального распределения. Ниже приведен шаблон, который должен содержать код, реализующий все варианты моделей."
      ]
    },
    {
      "cell_type": "code",
      "source": [
        "from random import shuffle"
      ],
      "metadata": {
        "id": "EG5w4g3pER7S"
      },
      "execution_count": null,
      "outputs": []
    },
    {
      "cell_type": "code",
      "execution_count": null,
      "metadata": {
        "id": "oI39UzCLy-Qu"
      },
      "outputs": [],
      "source": [
        "from sklearn.base import BaseEstimator\n",
        "\n",
        "class LinReg(BaseEstimator):\n",
        "    def __init__(self, delta=1.0, gd_type='Momentum',\n",
        "                 tolerance=1e-4, max_iter=1000, w0=None, eta=1e-2, alpha=1e-3):\n",
        "        \"\"\"\n",
        "        gd_type: str\n",
        "            'GradientDescent', 'StochasticDescent', 'Momentum', 'Adagrad'\n",
        "        delta: float\n",
        "            proportion of object in a batch (for stochastic GD)\n",
        "        tolerance: float\n",
        "            for stopping gradient descent\n",
        "        max_iter: int\n",
        "            maximum number of steps in gradient descent\n",
        "        w0: np.array of shape (d)\n",
        "            init weights\n",
        "        eta: float\n",
        "            learning rate\n",
        "        alpha: float\n",
        "            momentum coefficient\n",
        "        reg_cf: float\n",
        "            regularization coefficient\n",
        "        epsilon: float\n",
        "            numerical stability\n",
        "        \"\"\"\n",
        "\n",
        "        self.delta = delta\n",
        "        self.gd_type = gd_type\n",
        "        self.tolerance = tolerance\n",
        "        self.max_iter = max_iter\n",
        "        self.w0 = w0\n",
        "        self.alpha = alpha\n",
        "        self.w = None\n",
        "        self.eta = eta\n",
        "        self.loss_history = None # list of loss function values at each training iteration\n",
        "\n",
        "        self.reg_cf = 10000\n",
        "        self.epsilon = 0.05\n",
        "\n",
        "    def fit(self, X, y):\n",
        "        \"\"\"\n",
        "        X: np.array of shape (l, d)\n",
        "        y: np.array of shape (l)\n",
        "        ---\n",
        "        output: self\n",
        "        \"\"\"\n",
        "\n",
        "        n_samples, n_features = X.shape\n",
        "\n",
        "        if self.w0 == None:\n",
        "              self.w = np.zeros(n_features)\n",
        "        else:\n",
        "              self.w = self.w0.copy()\n",
        "\n",
        "        if self.gd_type == \"Momentum\":\n",
        "              self.h = np.zeros(n_features)\n",
        "        elif self.gd_type == \"Adagrad\":\n",
        "              self.g = np.zeros(n_features)\n",
        "\n",
        "        self.loss_history = []\n",
        "\n",
        "        n_iter = 0\n",
        "        gradient_norm = self.tolerance + 1\n",
        "\n",
        "        while n_iter < self.max_iter and gradient_norm > self.tolerance:\n",
        "          if self.gd_type == \"StochasticDescent\":\n",
        "              index = np.random.permutation(n_samples)\n",
        "              X, y = X[index], y[index]\n",
        "              gradient = self.calc_gradient(X, y)\n",
        "\n",
        "          else:\n",
        "              gradient = self.calc_gradient(X, y)\n",
        "\n",
        "          if self.gd_type == \"Momentum\" :\n",
        "              self.h = self.alpha * self.h - self.eta*gradient #тут на 2 домножать или нет, проверить\n",
        "              self.w = self.w + self.h\n",
        "\n",
        "          elif self.gd_type == \"Adagrad\":\n",
        "              self.g += gradient**2\n",
        "              self.w = (self.alpha / np.sqrt(self.g + self.epsilon)) * gradient\n",
        "          else:\n",
        "              self.w -= 2 * self.eta * gradient\n",
        "\n",
        "          if self.gd_type == \"StochasticDescent\":\n",
        "              loss = self.calc_loss(X[index], y[index])\n",
        "          else:\n",
        "              loss = self.calc_loss(X, y)\n",
        "\n",
        "          self.loss_history.append(loss)\n",
        "          gradient_norm = np.linalg.norm(self.w - self.loss_history[n_iter]) #норма разницы весов, чтобы по ней стопать\n",
        "          n_iter += 1\n",
        "        return self\n",
        "\n",
        "\n",
        "    def predict(self, X):\n",
        "        if self.w is None:\n",
        "          raise Exception('Not trained yet')\n",
        "        else:\n",
        "          return X.dot(self.w)\n",
        "\n",
        "    def calc_gradient(self, X, y):\n",
        "        \"\"\"\n",
        "        X: np.array of shape (l, d) (l can be equal to 1 if stochastic)\n",
        "        y: np.array of shape (l)\n",
        "        ---\n",
        "        output: np.array of shape (d)\n",
        "        \"\"\"\n",
        "        if self.gd_type == \"StochasticDescent\":\n",
        "          return np.dot(X.T, X.dot(self.w) - y)\n",
        "        elif  self.gd_type == \"Adagrad\":\n",
        "          return -2 * X.T.dot(y - X.dot(self.w)) + 2 * self.reg_cf * self.w\n",
        "        elif  self.gd_type == \"Momentum\":\n",
        "          y_pred = X.dot(self.w)\n",
        "          return 2* X.T.dot(y_pred - y)/len(y)  + 2*self.alpha*self.w\n",
        "\n",
        "        return X.T.dot(X.dot(self.w) - y) / len(y)\n",
        "\n",
        "\n",
        "    def calc_loss(self, X, y):\n",
        "        \"\"\"\n",
        "        X: np.array of shape (l, d)\n",
        "        y: np.array of shape (l)\n",
        "        ---\n",
        "        output: float\n",
        "        \"\"\"\n",
        "        mse = mean_squared_error(y, self.predict(X)) #функция MSE из sklearn\n",
        "        return mse/len(y)\n"
      ]
    },
    {
      "cell_type": "code",
      "source": [
        "modelkinds = ['GradientDescent','Momentum', 'Adagrad'] #StochasticDescent - работал, но после очередных изменений начал выпадать в ошибку =(\n",
        "for kind in modelkinds:\n",
        "  godhelp = LinReg(gd_type = kind)\n",
        "  godhelp.fit(X_train_scaled, y_train)\n",
        "  y_pred = godhelp.predict(X_test_scaled)\n",
        "  result_printer(kind, y_test, y_pred)\n",
        "  print('\\n')"
      ],
      "metadata": {
        "colab": {
          "base_uri": "https://localhost:8080/"
        },
        "id": "GGQBXHLbqjDT",
        "outputId": "3618644b-97fc-43b8-92f1-c5fdca67b4f5"
      },
      "execution_count": null,
      "outputs": [
        {
          "output_type": "stream",
          "name": "stdout",
          "text": [
            "Results for GradientDescent\n",
            "Test MSE = 16970650.1221\n",
            "Test RMSE = 4119.5449\n",
            "Test R^2 = -0.0480\n",
            "\n",
            "\n",
            "Results for Momentum\n",
            "Test MSE = 16974904.8453\n",
            "Test RMSE = 4120.0613\n",
            "Test R^2 = -0.0482\n",
            "\n",
            "\n",
            "Results for Adagrad\n",
            "Test MSE = 31790381.0128\n",
            "Test RMSE = 5638.2959\n",
            "Test R^2 = -0.9631\n",
            "\n",
            "\n"
          ]
        }
      ]
    },
    {
      "cell_type": "markdown",
      "metadata": {
        "id": "1QQJEjGVy-Qu"
      },
      "source": [
        "#### 7. [1 балл] Натренируйте и провалидируйте \"ручные\" модели на тех же даннных, сравните качество с моделями из Sklearn и StatsModels. Исследуйте влияние параметров `max_iter` и `alpha` на процесс оптимизации. Соответствует ли оно вашим ожиданиям?"
      ]
    },
    {
      "cell_type": "code",
      "source": [
        "\"\"\"\n",
        "Модели работают в 4 раза хуже, но в принципе все равно не так плохо, как могло быть\n",
        "\n",
        "Results for GradientDescent\n",
        "Test MSE = 16970650.1221\n",
        "Test RMSE = 4119.5449\n",
        "Test R^2 = -0.0480\n",
        "\n",
        "\n",
        "Results for Momentum\n",
        "Test MSE = 16974904.8453\n",
        "Test RMSE = 4120.0613\n",
        "Test R^2 = -0.0482\n",
        "\n",
        "\n",
        "Results for Adagrad\n",
        "Test MSE = 31790381.0128\n",
        "Test RMSE = 5638.2959\n",
        "Test R^2 = -0.9631\n",
        "\n",
        "VS\n",
        "\n",
        "Results for Ridge with alpha = 0.01\n",
        "Test MSE = 1322477.0903\n",
        "Test RMSE = 1149.9900\n",
        "Test R^2 = 0.9183\n",
        "\n",
        "\"\"\""
      ],
      "metadata": {
        "id": "5-fdFCchviYt"
      },
      "execution_count": null,
      "outputs": []
    },
    {
      "cell_type": "code",
      "source": [
        "#где-то читала, что баес работает быстрее обычного https://towardsdatascience.com/grid-search-vs-random-search-vs-bayesian-optimization-2e68f57c3c46\n",
        "!pip install scikit-optimize\n",
        "from skopt import BayesSearchCV"
      ],
      "metadata": {
        "colab": {
          "base_uri": "https://localhost:8080/"
        },
        "id": "J6ZlX90oyhL9",
        "outputId": "f24dcd72-1933-4412-8b4f-933ad8352932"
      },
      "execution_count": null,
      "outputs": [
        {
          "output_type": "stream",
          "name": "stdout",
          "text": [
            "Looking in indexes: https://pypi.org/simple, https://us-python.pkg.dev/colab-wheels/public/simple/\n",
            "Collecting scikit-optimize\n",
            "  Downloading scikit_optimize-0.9.0-py2.py3-none-any.whl (100 kB)\n",
            "\u001b[2K     \u001b[90m━━━━━━━━━━━━━━━━━━━━━━━━━━━━━━━━━━━━━━━\u001b[0m \u001b[32m100.3/100.3 kB\u001b[0m \u001b[31m5.8 MB/s\u001b[0m eta \u001b[36m0:00:00\u001b[0m\n",
            "\u001b[?25hRequirement already satisfied: joblib>=0.11 in /usr/local/lib/python3.9/dist-packages (from scikit-optimize) (1.2.0)\n",
            "Collecting pyaml>=16.9\n",
            "  Downloading pyaml-21.10.1-py2.py3-none-any.whl (24 kB)\n",
            "Requirement already satisfied: numpy>=1.13.3 in /usr/local/lib/python3.9/dist-packages (from scikit-optimize) (1.22.4)\n",
            "Requirement already satisfied: scipy>=0.19.1 in /usr/local/lib/python3.9/dist-packages (from scikit-optimize) (1.10.1)\n",
            "Requirement already satisfied: scikit-learn>=0.20.0 in /usr/local/lib/python3.9/dist-packages (from scikit-optimize) (1.2.2)\n",
            "Requirement already satisfied: PyYAML in /usr/local/lib/python3.9/dist-packages (from pyaml>=16.9->scikit-optimize) (6.0)\n",
            "Requirement already satisfied: threadpoolctl>=2.0.0 in /usr/local/lib/python3.9/dist-packages (from scikit-learn>=0.20.0->scikit-optimize) (3.1.0)\n",
            "Installing collected packages: pyaml, scikit-optimize\n",
            "Successfully installed pyaml-21.10.1 scikit-optimize-0.9.0\n"
          ]
        }
      ]
    },
    {
      "cell_type": "code",
      "source": [
        "from sklearn.model_selection import cross_val_score"
      ],
      "metadata": {
        "id": "_yla6slKNIu2"
      },
      "execution_count": null,
      "outputs": []
    },
    {
      "cell_type": "code",
      "source": [
        "def crossval_printer(model):\n",
        "  scores = cross_val_score(model, X, y, cv=4, scoring='neg_root_mean_squared_error')\n",
        "  mean_score = scores.mean()\n",
        "  std_score = scores.std()\n",
        "  print(model, mean_score, '±', std_score, '\\n')"
      ],
      "metadata": {
        "id": "5kcPLz9hyZB_"
      },
      "execution_count": null,
      "outputs": []
    },
    {
      "cell_type": "code",
      "source": [
        "crossval_printer(LinReg(gd_type='Adagrad'))"
      ],
      "metadata": {
        "colab": {
          "base_uri": "https://localhost:8080/"
        },
        "id": "S8ugmnjhODoR",
        "outputId": "9e4f6ede-21b7-4f63-e260-f3159a4c74cc"
      },
      "execution_count": null,
      "outputs": [
        {
          "output_type": "stream",
          "name": "stdout",
          "text": [
            "LinReg(gd_type='Adagrad') -4843.6508589112045 ± 2814.4856389753854 \n",
            "\n"
          ]
        }
      ]
    },
    {
      "cell_type": "code",
      "source": [
        "grid = { 'alpha':(1e-6, 1e+3, 'log-uniform')}\n",
        "GradientDescent_ridge = GridSearchCV(estimator=LinReg(gd_type='GradientDescent'),\n",
        "                          param_grid=grid,\n",
        "                          cv= 4,\n",
        "                          scoring='neg_root_mean_squared_error')\n",
        "GradientDescent_ridge.fit(X_train_scaled, y_train)\n",
        "\n",
        "print(\"Tuned Hyperparameters :\", GradientDescent_ridge.best_params_)\n",
        "print(\"Best RMSE:\", -GradientDescent_ridge.best_score_)"
      ],
      "metadata": {
        "colab": {
          "base_uri": "https://localhost:8080/"
        },
        "id": "O_zekBWtPAFL",
        "outputId": "06ee835a-c47f-43e3-aefe-4cef8e1ed887"
      },
      "execution_count": null,
      "outputs": [
        {
          "output_type": "stream",
          "name": "stdout",
          "text": [
            "Tuned Hyperparameters : {'alpha': 1e-06}\n",
            "Best RMSE: 4115.29386556982\n"
          ]
        }
      ]
    },
    {
      "cell_type": "code",
      "source": [
        "GradientDescent_ridge_model = LinReg(gd_type='GradientDescent', alpha=GradientDescent_ridge.best_params_['alpha']).fit(X_train_scaled, y_train)\n",
        "GradientDescent_ridge_model.fit(X_train_scaled, y_train)\n",
        "y_pred = GradientDescent_ridge_model.predict(X_test_scaled)\n",
        "print('opt_iter', len(GradientDescent_ridge_model.loss_history))"
      ],
      "metadata": {
        "colab": {
          "base_uri": "https://localhost:8080/"
        },
        "id": "38ea4s9QP-bU",
        "outputId": "44cc44c3-fe24-4c75-dca2-1de72634c472"
      },
      "execution_count": null,
      "outputs": [
        {
          "output_type": "stream",
          "name": "stdout",
          "text": [
            "opt_iter 1000\n"
          ]
        }
      ]
    },
    {
      "cell_type": "code",
      "source": [
        "grid = { 'alpha':(1e-6, 1e+3, 'log-uniform')}\n",
        "Adagrad_ridge = GridSearchCV(estimator=LinReg(gd_type='Adagrad'),\n",
        "                          param_grid=grid,\n",
        "                          cv= 4,\n",
        "                          scoring='neg_root_mean_squared_error')\n",
        "Adagrad_ridge.fit(X_train_scaled, y_train)\n",
        "\n",
        "print(\"Tuned Hyperparameters :\", Adagrad_ridge.best_params_)\n",
        "print(\"Best RMSE:\", -Adagrad_ridge.best_score_)"
      ],
      "metadata": {
        "colab": {
          "base_uri": "https://localhost:8080/"
        },
        "id": "Z60FcdHQz8E8",
        "outputId": "e76ac7e4-a046-403e-d567-33c77186d8f1"
      },
      "execution_count": null,
      "outputs": [
        {
          "output_type": "stream",
          "name": "stdout",
          "text": [
            "Tuned Hyperparameters : {'alpha': 1e-06}\n",
            "Best RMSE: 5592.815044249057\n"
          ]
        }
      ]
    },
    {
      "cell_type": "code",
      "source": [
        "Adagrad_ridge_model = LinReg(gd_type='Adagrad', alpha=GradientDescent_ridge.best_params_['alpha']).fit(X_train_scaled, y_train)\n",
        "Adagrad_ridge_model.fit(X_train_scaled, y_train)\n",
        "y_pred = Adagrad_ridge_model.predict(X_test_scaled)\n",
        "print('opt_iter', len(Adagrad_ridge_model.loss_history))"
      ],
      "metadata": {
        "colab": {
          "base_uri": "https://localhost:8080/"
        },
        "id": "sD5s6wHsRVpu",
        "outputId": "ca71888e-cd5c-480f-fee6-55b89c0b7022"
      },
      "execution_count": null,
      "outputs": [
        {
          "output_type": "stream",
          "name": "stdout",
          "text": [
            "opt_iter 1000\n"
          ]
        }
      ]
    },
    {
      "cell_type": "code",
      "source": [
        "grid = { 'alpha':(1e-6, 1e+3, 'log-uniform')}\n",
        "Momentum_ridge = GridSearchCV(estimator=LinReg(gd_type='Momentum'),\n",
        "                          param_grid=grid,\n",
        "                          cv= 4,\n",
        "                          scoring='neg_root_mean_squared_error')\n",
        "Momentum_ridge.fit(X_train_scaled, y_train)\n",
        "\n",
        "print(\"Tuned Hyperparameters :\", Momentum_ridge.best_params_)\n",
        "print(\"Best RMSE:\", -Momentum_ridge.best_score_)"
      ],
      "metadata": {
        "colab": {
          "base_uri": "https://localhost:8080/"
        },
        "id": "uw-eJMBpOoxy",
        "outputId": "bd80c5fc-f7d4-49b2-de13-4177e6bede20"
      },
      "execution_count": null,
      "outputs": [
        {
          "output_type": "stream",
          "name": "stdout",
          "text": [
            "Tuned Hyperparameters : {'alpha': 1e-06}\n",
            "Best RMSE: 4115.294344935812\n"
          ]
        }
      ]
    },
    {
      "cell_type": "code",
      "source": [
        "Momentum_ridge_model = LinReg(gd_type='Momentum', alpha=GradientDescent_ridge.best_params_['alpha']).fit(X_train_scaled, y_train)\n",
        "Momentum_ridge_model.fit(X_train_scaled, y_train)\n",
        "y_pred = Momentum_ridge_model.predict(X_test_scaled)\n",
        "print('opt_iter', len(Momentum_ridge_model.loss_history))"
      ],
      "metadata": {
        "colab": {
          "base_uri": "https://localhost:8080/"
        },
        "id": "ZabuL7RIRWPq",
        "outputId": "270cc436-0b7b-4b44-cd70-ba7a187abb84"
      },
      "execution_count": null,
      "outputs": [
        {
          "output_type": "stream",
          "name": "stdout",
          "text": [
            "opt_iter 1000\n"
          ]
        }
      ]
    },
    {
      "cell_type": "code",
      "source": [
        "\"\"\"\n",
        "Перебрала параметры, но в целом как видно, от этого не сильно улучшились MSE. Max_iter везде 1000, возможно нужно больше итераций, но мне не хватило мощностей\n",
        "\n",
        "GradientDescent\n",
        "Tuned Hyperparameters : {'alpha': 1e-06}\n",
        "Best RMSE: 4115.29386556982\n",
        "\n",
        "StochasticDescent OrderedDict([('alpha', 1.093108782645003e-06), ('max_iter', 100000)])  -- было на рабочей версии\n",
        "\n",
        "Momentum\n",
        "Tuned Hyperparameters : {'alpha': 1e-06}\n",
        "Best RMSE: 4115.294344935812\n",
        "\n",
        "Adagrad\n",
        "Tuned Hyperparameters : {'alpha': 1e-06}\n",
        "Best RMSE: 5592.815044249057\n",
        "\"\"\""
      ],
      "metadata": {
        "id": "ErxvsQwFz8Bi"
      },
      "execution_count": null,
      "outputs": []
    },
    {
      "cell_type": "code",
      "source": [
        "from sklearn.model_selection import cross_val_score\n",
        "\n",
        "modelkinds = ['GradientDescent','Momentum', 'Adagrad'] #StochasticDescent - работал, но после очередных изменений начал выпадать в ошибку =(\n",
        "for kind in modelkinds:\n",
        "  godhelp = LinReg(gd_type = kind)\n",
        "  cv_scores = cross_val_score(godhelp, X_train_scaled, y_train, cv=4, scoring='neg_mean_squared_error')\n",
        "  mean_score = cv_scores.mean()\n",
        "  std_score = cv_scores.std()\n",
        "  print(kind, mean_score, '±', std_score)\n"
      ],
      "metadata": {
        "colab": {
          "base_uri": "https://localhost:8080/"
        },
        "id": "mPfrFjtQz7-B",
        "outputId": "1e6c0c2f-5695-408d-faba-fc2e9c157baa"
      },
      "execution_count": null,
      "outputs": [
        {
          "output_type": "stream",
          "name": "stdout",
          "text": [
            "GradientDescent -16935718.916760102 ± 71421.89642731674\n",
            "Momentum -16939667.817417998 ± 71732.93746179987\n",
            "Adagrad -31280216.171265777 ± 282108.6738906521\n"
          ]
        }
      ]
    },
    {
      "cell_type": "markdown",
      "metadata": {
        "id": "bqYtVqv-y-Qu"
      },
      "source": [
        "#### 8. [1 балл] Постройте графики (там же) зависимости значения функции потерь от номера итерации для всех моделей (полного градиентого спуска, стохастического гс, Momentum и Adagrad). Сделайте выводы о скорости сходимости различных модификаций градиентного спуска.\n",
        "\n",
        "\n",
        "Не забывайте о том, как должен выглядеть *красивый* график!"
      ]
    },
    {
      "cell_type": "code",
      "source": [
        "#Momentum"
      ],
      "metadata": {
        "id": "O_BMo6BZ5ivw"
      },
      "execution_count": null,
      "outputs": []
    },
    {
      "cell_type": "code",
      "source": [
        "Momentum = LinReg(gd_type = 'Momentum')\n",
        "Momentum.fit(X_train_scaled, y_train)\n",
        "y_pred = Momentum.predict(X_test_scaled)\n",
        "mses_Momentum = Momentum.loss_history\n",
        "mses_Momentum[0]"
      ],
      "metadata": {
        "colab": {
          "base_uri": "https://localhost:8080/"
        },
        "id": "0QAwusGg5j4r",
        "outputId": "44d26f3c-cf1e-4ce7-b7bd-66de2bdead2d"
      },
      "execution_count": null,
      "outputs": [
        {
          "output_type": "execute_result",
          "data": {
            "text/plain": [
              "679.7177728313753"
            ]
          },
          "metadata": {},
          "execution_count": 139
        }
      ]
    },
    {
      "cell_type": "code",
      "source": [
        "Adagrad = LinReg(gd_type = 'Adagrad')\n",
        "Adagrad.fit(X_train_scaled, y_train)\n",
        "y_pred = Adagrad.predict(X_test_scaled)\n",
        "mses_adagrad = Adagrad.loss_history\n",
        "mses_adagrad[0]"
      ],
      "metadata": {
        "colab": {
          "base_uri": "https://localhost:8080/"
        },
        "id": "y36DpRzf6Iwr",
        "outputId": "b0ad00e3-fb47-4298-bf61-ba5885c96fff"
      },
      "execution_count": null,
      "outputs": [
        {
          "output_type": "execute_result",
          "data": {
            "text/plain": [
              "724.8853028603677"
            ]
          },
          "metadata": {},
          "execution_count": 140
        }
      ]
    },
    {
      "cell_type": "code",
      "source": [
        "#Видим почти экспоненту. Сначала скорость сходимости очень высокая, а потом становится почти параллельной x=0"
      ],
      "metadata": {
        "id": "soFVfApt8KlY"
      },
      "execution_count": null,
      "outputs": []
    },
    {
      "cell_type": "code",
      "execution_count": null,
      "metadata": {
        "id": "Xbwhu8BSy-Qu",
        "colab": {
          "base_uri": "https://localhost:8080/",
          "height": 480
        },
        "outputId": "b2376db6-eece-4ef5-960a-025e6643ab6e"
      },
      "outputs": [
        {
          "output_type": "display_data",
          "data": {
            "text/plain": [
              "<Figure size 640x480 with 1 Axes>"
            ],
            "image/png": "[encoded data removed]"
          },
          "metadata": {}
        }
      ],
      "source": [
        "import seaborn as sns\n",
        "sns.lineplot(mses_Momentum)\n",
        "plt.xlabel(\"Step\")\n",
        "plt.title(\"Momentum\")\n",
        "plt.ylabel(\"RMSE\");"
      ]
    },
    {
      "cell_type": "code",
      "source": [
        "#Для Adagrad аналогичный рисунок, но только более ступенчатый. Сначала очень быстро сходится, а потом скорость изменения буквально 10^(-10)"
      ],
      "metadata": {
        "id": "GTMq_ikH8nv7"
      },
      "execution_count": null,
      "outputs": []
    },
    {
      "cell_type": "code",
      "source": [
        "pd.options.display.float_format = '{:.4f}'.format"
      ],
      "metadata": {
        "id": "vNylMLpR8w65"
      },
      "execution_count": null,
      "outputs": []
    },
    {
      "cell_type": "code",
      "source": [
        "mses_adagrad = list(map(lambda x: '%.4f' % x, mses_adagrad)) #убираем саентифик нотейшон"
      ],
      "metadata": {
        "id": "Ok2Xf1ax88MC"
      },
      "execution_count": null,
      "outputs": []
    },
    {
      "cell_type": "code",
      "execution_count": null,
      "metadata": {
        "id": "z5z22Sg9y-Qu",
        "colab": {
          "base_uri": "https://localhost:8080/",
          "height": 480
        },
        "outputId": "9194a9a7-8a19-496e-b244-4b985947f914"
      },
      "outputs": [
        {
          "output_type": "display_data",
          "data": {
            "text/plain": [
              "<Figure size 640x480 with 1 Axes>"
            ],
            "image/png": "[encoded data removed]"
          },
          "metadata": {}
        }
      ],
      "source": [
        "sns.lineplot(mses_adagrad)\n",
        "plt.xlabel(\"Step\")\n",
        "plt.title(\"Adagrad\")\n",
        "plt.ylabel(\"RMSE\");"
      ]
    },
    {
      "cell_type": "code",
      "source": [],
      "metadata": {
        "id": "LT_-XBy08U0g"
      },
      "execution_count": null,
      "outputs": []
    }
  ],
  "metadata": {
    "kernelspec": {
      "display_name": "Python 3 (ipykernel)",
      "language": "python",
      "name": "python3"
    },
    "language_info": {
      "codemirror_mode": {
        "name": "ipython",
        "version": 3
      },
      "file_extension": ".py",
      "mimetype": "text/x-python",
      "name": "python",
      "nbconvert_exporter": "python",
      "pygments_lexer": "ipython3",
      "version": "3.8.11"
    },
    "colab": {
      "provenance": [],
      "machine_shape": "hm",
      "gpuClass": "premium"
    },
    "gpuClass": "premium",
    "accelerator": "GPU"
  },
  "nbformat": 4,
  "nbformat_minor": 0
}