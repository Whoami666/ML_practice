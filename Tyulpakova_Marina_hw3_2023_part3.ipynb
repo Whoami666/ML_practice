{
  "cells": [
    {
      "cell_type": "markdown",
      "metadata": {
        "id": "s3v5HIUdDvY5"
      },
      "source": [
        "# HSE 2023: Введение в машинное обучение БИ 22/23\n",
        "\n",
        "## Домашнее задание № 3\n",
        "\n",
        "\n",
        "# Внимание!\n",
        "\n",
        "* Некоторые задания требуют значительного времени для выполнения (особенно часть с лемматизацией), поэтому **лучше приступить к выполнению домашнего задания как можно раньше**\n",
        "\n",
        "* Решения обязательно должны содержать комментарии, все полученные результаты должны сопровождаться выводами (для этого удобно использовать ячейки markdown)"
      ]
    },
    {
      "cell_type": "code",
      "source": [
        "import warnings"
      ],
      "metadata": {
        "id": "pTTC1wnpHyOH"
      },
      "execution_count": null,
      "outputs": []
    },
    {
      "cell_type": "code",
      "source": [
        "warnings.filterwarnings('ignore')"
      ],
      "metadata": {
        "id": "QsDUaK-7V7me"
      },
      "execution_count": null,
      "outputs": []
    },
    {
      "cell_type": "code",
      "execution_count": null,
      "metadata": {
        "id": "F7t9dYtdDvZC"
      },
      "outputs": [],
      "source": [
        "from typing import Tuple, List\n",
        "\n",
        "import matplotlib.pyplot as plt\n",
        "import numpy as np\n",
        "import pandas as pd\n",
        "import seaborn as sns\n",
        "%matplotlib inline\n",
        "\n",
        "sns.set(style=\"darkgrid\")"
      ]
    },
    {
      "cell_type": "code",
      "source": [
        "from sklearn.model_selection import cross_val_score\n",
        "from sklearn.model_selection import cross_validate\n",
        "from sklearn.model_selection import KFold\n",
        "from sklearn.model_selection import train_test_split"
      ],
      "metadata": {
        "id": "-ud5isillouj"
      },
      "execution_count": null,
      "outputs": []
    },
    {
      "cell_type": "code",
      "source": [
        "from sklearn.model_selection import GridSearchCV\n",
        "from sklearn.svm import SVC"
      ],
      "metadata": {
        "id": "92trt0VHmGIH"
      },
      "execution_count": null,
      "outputs": []
    },
    {
      "cell_type": "code",
      "source": [
        "from sklearn.metrics import classification_report\n",
        "from sklearn.metrics import accuracy_score\n",
        "from sklearn.metrics import recall_score\n",
        "from sklearn.metrics import roc_auc_score"
      ],
      "metadata": {
        "id": "OemsPLLyHlc2"
      },
      "execution_count": null,
      "outputs": []
    },
    {
      "cell_type": "code",
      "source": [
        "!pip install pymorphy2"
      ],
      "metadata": {
        "colab": {
          "base_uri": "https://localhost:8080/"
        },
        "id": "OyaI0FCHH3JH",
        "outputId": "2d41a8bb-3829-4172-8a1c-a722a5942144"
      },
      "execution_count": null,
      "outputs": [
        {
          "output_type": "stream",
          "name": "stdout",
          "text": [
            "Looking in indexes: https://pypi.org/simple, https://us-python.pkg.dev/colab-wheels/public/simple/\n",
            "Collecting pymorphy2\n",
            "  Downloading pymorphy2-0.9.1-py3-none-any.whl (55 kB)\n",
            "\u001b[2K     \u001b[90m━━━━━━━━━━━━━━━━━━━━━━━━━━━━━━━━━━━━━━━━\u001b[0m \u001b[32m55.5/55.5 kB\u001b[0m \u001b[31m2.7 MB/s\u001b[0m eta \u001b[36m0:00:00\u001b[0m\n",
            "\u001b[?25hCollecting dawg-python>=0.7.1 (from pymorphy2)\n",
            "  Downloading DAWG_Python-0.7.2-py2.py3-none-any.whl (11 kB)\n",
            "Collecting pymorphy2-dicts-ru<3.0,>=2.4 (from pymorphy2)\n",
            "  Downloading pymorphy2_dicts_ru-2.4.417127.4579844-py2.py3-none-any.whl (8.2 MB)\n",
            "\u001b[2K     \u001b[90m━━━━━━━━━━━━━━━━━━━━━━━━━━━━━━━━━━━━━━━━\u001b[0m \u001b[32m8.2/8.2 MB\u001b[0m \u001b[31m63.6 MB/s\u001b[0m eta \u001b[36m0:00:00\u001b[0m\n",
            "\u001b[?25hCollecting docopt>=0.6 (from pymorphy2)\n",
            "  Downloading docopt-0.6.2.tar.gz (25 kB)\n",
            "  Preparing metadata (setup.py) ... \u001b[?25l\u001b[?25hdone\n",
            "Building wheels for collected packages: docopt\n",
            "  Building wheel for docopt (setup.py) ... \u001b[?25l\u001b[?25hdone\n",
            "  Created wheel for docopt: filename=docopt-0.6.2-py2.py3-none-any.whl size=13707 sha256=467e94ca6aa25d61a8678b8be2e2b23a6ab1747d3e9396bddfcb9271cc5d7e8f\n",
            "  Stored in directory: /root/.cache/pip/wheels/fc/ab/d4/5da2067ac95b36618c629a5f93f809425700506f72c9732fac\n",
            "Successfully built docopt\n",
            "Installing collected packages: pymorphy2-dicts-ru, docopt, dawg-python, pymorphy2\n",
            "Successfully installed dawg-python-0.7.2 docopt-0.6.2 pymorphy2-0.9.1 pymorphy2-dicts-ru-2.4.417127.4579844\n"
          ]
        }
      ]
    },
    {
      "cell_type": "code",
      "source": [
        "import string\n",
        "import nltk   # Natural Language Toolkit\n",
        "from nltk.stem.snowball import SnowballStemmer\n",
        "import pymorphy2\n",
        "from sklearn.feature_extraction.text import CountVectorizer\n",
        "from sklearn.feature_extraction.text import TfidfVectorizer, TfidfTransformer\n"
      ],
      "metadata": {
        "id": "nD5aBZh-Hghf"
      },
      "execution_count": null,
      "outputs": []
    },
    {
      "cell_type": "markdown",
      "metadata": {
        "id": "sY8q6JdCDvZK"
      },
      "source": [
        "## Часть 3: Natural Language Processing"
      ]
    },
    {
      "cell_type": "markdown",
      "metadata": {
        "id": "eD4xKhYfDvZK"
      },
      "source": [
        "#### 7. [1.75 балла] Подготовка данных\n",
        "\n",
        "Подготовим набор данных, который будем использовать для бинарной и многоклассовой классификации.\n",
        "\n",
        "0. Выберите **шесть** любимых писателей-прозаиков (укажите, кого вы выбрали) и скачайте  <a href=\"https://www.kaggle.com/d0rj3228/russian-literature?select=prose\">данные</a> из раздела **проза**\n",
        "1. Подготовьте собственный датасет из выбранных авторов:\n",
        "    * разделите каждый текст на предложения так, чтобы представить данные в виде *предложение* and *автор* (каждая строка обучающего набора данных содержит ровно одно предложение и одного автора текста, откуда было взято это предложение);\n",
        "    * удалите короткие предложения (считаем, что предложение короткое, если в нем меньше 15 символов);\n",
        "    * зафиксируйте random state и случайно сформируйте выборку из предложений размера \"5k : 15k : 8k : 11k : 20k : 3k\" в разбивке по авторам соответственно;\n",
        "    \n",
        "    Пример полученных данных:\n",
        "    \n",
        "    <center>\n",
        "    <table>\n",
        "        <tr>\n",
        "            <th> sentence </th>\n",
        "            <th> author </th>\n",
        "        </tr>\n",
        "        <tr><td> Несколько лет тому назад в одном из своих поместий жил старинный русской барин, Кирила Петрович Троекуров. </td><td> Пушкин </td><td>\n",
        "        <tr><td> Уже более недели приезжий господин жил в городе, разъезжая по вечеринкам и обедам и таким образом проводя, как говорится, очень приятно время. </td><td> Гоголь </td><td>\n",
        "        <tr><td> ... </td><td> ... </td><td>\n",
        "        <tr><td> Я жил недорослем, гоняя голубей и играя в чехарду с дворовыми мальчишками. </td><td> Пушкин </td><td>         \n",
        "    </table>\n",
        "</center>\n",
        "     \n",
        "2. Предварительная обработка данных:\n",
        "    * токенизируйте предложения, удалите все стоп-слова (nltk.corpus.stopwords), знаки пунктуации (string.punctuation) и числа;\n",
        "    * преобразуйте все символы в нижний регистр и примените стемминг или лемматизацию (на свое усмотрение)\n",
        "    * постройте векторные представления предложений с помощью **bag of words** и **tf-idf** (используйте средства sklearn)\n",
        "    * обратите внимание на разницу между полученными векторными представлениями: чем отличаются векторы, полученные с помощью **bag of words** и **tf-idf**?"
      ]
    },
    {
      "cell_type": "markdown",
      "source": [
        "**Загрузка данных**"
      ],
      "metadata": {
        "id": "lmmbKKN2_Jd9"
      }
    },
    {
      "cell_type": "code",
      "source": [
        "! wget https://github.com/d0rj/RusLit/tree/main/prose/Dostoevsky"
      ],
      "metadata": {
        "colab": {
          "base_uri": "https://localhost:8080/"
        },
        "id": "0k2kDXNpLH4Z",
        "outputId": "6fbd272f-9ab0-4e35-a288-fe492b74d9c5"
      },
      "execution_count": null,
      "outputs": [
        {
          "output_type": "stream",
          "name": "stdout",
          "text": [
            "--2023-05-12 16:42:37--  https://github.com/d0rj/RusLit/tree/main/prose/Dostoevsky\n",
            "Resolving github.com (github.com)... 140.82.112.3\n",
            "Connecting to github.com (github.com)|140.82.112.3|:443... connected.\n",
            "HTTP request sent, awaiting response... 200 OK\n",
            "Length: unspecified [text/html]\n",
            "Saving to: ‘Dostoevsky’\n",
            "\n",
            "Dostoevsky              [ <=>                ] 168.77K  --.-KB/s    in 0.07s   \n",
            "\n",
            "2023-05-12 16:42:37 (2.22 MB/s) - ‘Dostoevsky’ saved [172822]\n",
            "\n"
          ]
        }
      ]
    },
    {
      "cell_type": "code",
      "source": [
        "#https://stackoverflow.com/questions/59564862/download-a-single-folder-or-directory-from-a-github-repo-to-colab\n",
        "!apt install subversion"
      ],
      "metadata": {
        "colab": {
          "base_uri": "https://localhost:8080/"
        },
        "id": "LBjlBSWULlEm",
        "outputId": "37af496d-e917-47a1-e3e1-7cfdbd085e0e"
      },
      "execution_count": null,
      "outputs": [
        {
          "output_type": "stream",
          "name": "stdout",
          "text": [
            "Reading package lists... Done\n",
            "Building dependency tree       \n",
            "Reading state information... Done\n",
            "The following additional packages will be installed:\n",
            "  libapr1 libaprutil1 libserf-1-1 libsvn1 libutf8proc2\n",
            "Suggested packages:\n",
            "  db5.3-util libapache2-mod-svn subversion-tools\n",
            "The following NEW packages will be installed:\n",
            "  libapr1 libaprutil1 libserf-1-1 libsvn1 libutf8proc2 subversion\n",
            "0 upgraded, 6 newly installed, 0 to remove and 24 not upgraded.\n",
            "Need to get 2,355 kB of archives.\n",
            "After this operation, 10.3 MB of additional disk space will be used.\n",
            "Get:1 http://archive.ubuntu.com/ubuntu focal/main amd64 libapr1 amd64 1.6.5-1ubuntu1 [91.4 kB]\n",
            "Get:2 http://archive.ubuntu.com/ubuntu focal-updates/main amd64 libaprutil1 amd64 1.6.1-4ubuntu2.1 [84.9 kB]\n",
            "Get:3 http://archive.ubuntu.com/ubuntu focal/universe amd64 libserf-1-1 amd64 1.3.9-8build1 [45.2 kB]\n",
            "Get:4 http://archive.ubuntu.com/ubuntu focal/universe amd64 libutf8proc2 amd64 2.5.0-1 [50.0 kB]\n",
            "Get:5 http://archive.ubuntu.com/ubuntu focal-updates/universe amd64 libsvn1 amd64 1.13.0-3ubuntu0.2 [1,260 kB]\n",
            "Get:6 http://archive.ubuntu.com/ubuntu focal-updates/universe amd64 subversion amd64 1.13.0-3ubuntu0.2 [824 kB]\n",
            "Fetched 2,355 kB in 1s (1,757 kB/s)\n",
            "Selecting previously unselected package libapr1:amd64.\n",
            "(Reading database ... 122519 files and directories currently installed.)\n",
            "Preparing to unpack .../0-libapr1_1.6.5-1ubuntu1_amd64.deb ...\n",
            "Unpacking libapr1:amd64 (1.6.5-1ubuntu1) ...\n",
            "Selecting previously unselected package libaprutil1:amd64.\n",
            "Preparing to unpack .../1-libaprutil1_1.6.1-4ubuntu2.1_amd64.deb ...\n",
            "Unpacking libaprutil1:amd64 (1.6.1-4ubuntu2.1) ...\n",
            "Selecting previously unselected package libserf-1-1:amd64.\n",
            "Preparing to unpack .../2-libserf-1-1_1.3.9-8build1_amd64.deb ...\n",
            "Unpacking libserf-1-1:amd64 (1.3.9-8build1) ...\n",
            "Selecting previously unselected package libutf8proc2:amd64.\n",
            "Preparing to unpack .../3-libutf8proc2_2.5.0-1_amd64.deb ...\n",
            "Unpacking libutf8proc2:amd64 (2.5.0-1) ...\n",
            "Selecting previously unselected package libsvn1:amd64.\n",
            "Preparing to unpack .../4-libsvn1_1.13.0-3ubuntu0.2_amd64.deb ...\n",
            "Unpacking libsvn1:amd64 (1.13.0-3ubuntu0.2) ...\n",
            "Selecting previously unselected package subversion.\n",
            "Preparing to unpack .../5-subversion_1.13.0-3ubuntu0.2_amd64.deb ...\n",
            "Unpacking subversion (1.13.0-3ubuntu0.2) ...\n",
            "Setting up libutf8proc2:amd64 (2.5.0-1) ...\n",
            "Setting up libapr1:amd64 (1.6.5-1ubuntu1) ...\n",
            "Setting up libaprutil1:amd64 (1.6.1-4ubuntu2.1) ...\n",
            "Setting up libserf-1-1:amd64 (1.3.9-8build1) ...\n",
            "Setting up libsvn1:amd64 (1.13.0-3ubuntu0.2) ...\n",
            "Setting up subversion (1.13.0-3ubuntu0.2) ...\n",
            "Processing triggers for libc-bin (2.31-0ubuntu9.9) ...\n",
            "Processing triggers for man-db (2.9.1-1) ...\n"
          ]
        }
      ]
    },
    {
      "cell_type": "code",
      "source": [
        "!svn co -q https://github.com/d0rj/RusLit #это checkout, чтобы загрузить данные в коллаб"
      ],
      "metadata": {
        "id": "E6fIShKfLhR8"
      },
      "execution_count": null,
      "outputs": []
    },
    {
      "cell_type": "code",
      "execution_count": null,
      "metadata": {
        "id": "NVStbeQ8DvZL"
      },
      "outputs": [],
      "source": [
        "import os #для работы с файлами в коллабе"
      ]
    },
    {
      "cell_type": "code",
      "source": [
        "path = '/content/RusLit/trunk/prose'\n",
        "prose = os.listdir(path)\n",
        "prose[0]"
      ],
      "metadata": {
        "id": "yA96v--_KZWa",
        "colab": {
          "base_uri": "https://localhost:8080/",
          "height": 36
        },
        "outputId": "3c47c575-0d5b-4eea-b8d1-ad2c0bf4f649"
      },
      "execution_count": null,
      "outputs": [
        {
          "output_type": "execute_result",
          "data": {
            "text/plain": [
              "'Turgenev'"
            ],
            "application/vnd.google.colaboratory.intrinsic+json": {
              "type": "string"
            }
          },
          "metadata": {},
          "execution_count": 12
        }
      ]
    },
    {
      "cell_type": "code",
      "source": [
        "writers = []\n",
        "for writer in prose:\n",
        "  writers.append(writer)\n",
        "writers"
      ],
      "metadata": {
        "colab": {
          "base_uri": "https://localhost:8080/"
        },
        "id": "hbKIsxzVN2Ko",
        "outputId": "76c29392-2411-48d8-e21c-96c62276219d"
      },
      "execution_count": null,
      "outputs": [
        {
          "output_type": "execute_result",
          "data": {
            "text/plain": [
              "['Turgenev',\n",
              " 'Herzen',\n",
              " 'Gorky',\n",
              " 'Tolstoy',\n",
              " 'Chekhov',\n",
              " 'Blok',\n",
              " 'Lermontov',\n",
              " 'Pushkin',\n",
              " 'Dostoevsky',\n",
              " 'Gogol',\n",
              " 'Bryusov']"
            ]
          },
          "metadata": {},
          "execution_count": 13
        }
      ]
    },
    {
      "cell_type": "code",
      "source": [
        "#выбираю 6 нужных\n",
        "writers = ['Tolstoy', 'Pushkin',\n",
        " 'Herzen', 'Dostoevsky',\n",
        " 'Turgenev', 'Gorky']"
      ],
      "metadata": {
        "id": "VR0WvTE9ODVb"
      },
      "execution_count": null,
      "outputs": []
    },
    {
      "cell_type": "code",
      "source": [
        "#получаем книжки каждого автора вот так\n",
        "for writer in writers:\n",
        "  path_wr = path + '/' + writer\n",
        "  books = os.listdir(path_wr)\n",
        "  print(books)"
      ],
      "metadata": {
        "colab": {
          "base_uri": "https://localhost:8080/"
        },
        "id": "vLSkcY8dOMfW",
        "outputId": "09369294-e323-421e-b008-ea8b75e721f3"
      },
      "execution_count": null,
      "outputs": [
        {
          "output_type": "stream",
          "name": "stdout",
          "text": [
            "['Работник Емельян и пустой барабан.txt', 'Казаки.txt', 'Декабристы.txt', 'Хозяин и работник.txt', 'Война и мир. Том 2.txt', 'Поликуша.txt', 'Анна Каренина.txt', 'Набег.txt', 'info.csv', 'Смерть Ивана Ильича.txt', 'Кавказский пленник.txt', 'Семейное счастье.txt', 'Детство.txt', 'Севастополь в декабре месяце.txt', 'Праведный судья.txt', 'Записки маркера.txt', 'Ягоды.txt', 'Алёша горшок.txt', 'Три смерти.txt', 'Метель.txt', 'Рубка леса.txt', 'Утро пемещика.txt', 'Разжалованный.txt', 'Записки сумасшедшего.txt', 'Война и мир. Том 1.txt', 'Воскресение.txt', 'Севастополь в мае.txt', 'Дьявол.txt', 'Война и мир. Том 4.txt', 'Отец Сергий.txt', 'Крейцерова соната.txt', 'Юность.txt', 'Севастополь в августе 1855 года.txt', 'Альберт.txt', 'Война и мир. Том 3.txt', 'Два гусара.txt', 'Из записок князя Д. Нехлюдова (Люцерн).txt', 'Отрочество.txt', 'Божеское и человеческое.txt', 'После бала.txt', 'Холстомер.txt', 'Корней Васильев.txt', 'Хаджи-Мурат.txt']\n",
            "['Капитанская дочка.txt', 'Арап Петра Великого.txt', 'info.csv', 'Египетские ночи.txt', 'Повести Белкина.txt', 'Кирджали.txt', 'Дубровский.txt', 'История села Горюхина.txt', 'Пиковая дама.txt', 'Рославлев.txt', 'История Пугачёва.txt']\n",
            "['info.csv', 'Сорока-воровка.txt', 'Долг прежде всего.txt', 'С того берега.txt', 'Легенда.txt', 'Елена.txt', 'Кто виноват.txt', 'Мимоездом.txt', 'Трагедия за стаканом грога.txt', 'Повреждённый.txt', 'Доктор Крупов.txt', 'Скуки ради.txt']\n",
            "['Бесы.txt', 'Короткая.txt', 'Ползунков.txt', 'Братья Карамазовы.txt', 'Петербургские сновидения в стихах и в прозе.txt', 'Униженные и оскорблённые.txt', 'Крокодил.txt', 'Идиот.txt', 'info.csv', 'Двойник.txt', 'Слабое сердце.txt', 'Игрок.txt', 'Записки из подполья.txt', 'Вечный муж.txt', 'Село Степанчиково и его обитатели.txt', 'Домовой.txt', 'Бедные люди.txt', 'Роман в девяти письмах.txt', 'Чужая жена и муж под кроватью.txt', 'Дневник писателя.txt', 'Господин Прохарчин.txt', 'Два самоубийства.txt', 'Неточка Незванова.txt', 'Хозяйка.txt', 'Ёлка и свадьба.txt', 'Бобок.txt', 'Подросток.txt', 'Маленький герой.txt', 'Белые ночи.txt', 'Честный вор.txt', 'Сон смешного человека.txt', 'Скверный анекдот.txt', 'Дядюшкин сон.txt', 'Мальчик у Христа на ёлке.txt']\n",
            "['Стихотворения в прозе.txt', 'Вешние воды.txt', 'info.csv', 'Ася.txt', 'Муму.txt', 'Дворянское гнездо.txt', 'Первая любовь.txt', 'Дым.txt', 'Отцы и дети.txt', 'Записки охотника.txt', 'Яков Пасынков.txt']\n",
            "['Челкаш.txt', 'В степи.txt', 'Ледоход.txt', 'Емельян Пиляй.txt', 'Мещане.txt', 'Мать.txt', 'info.csv', 'Старуха Изергиль.txt', 'Несвоевременные мысли.txt', 'Коновалов.txt', 'Детство.txt', 'Знахарка.txt', 'Песня о соколе.txt', 'Рождение человека.txt', 'Дело с застёжками.txt', 'Бывшие люди.txt', 'Ярмарка в Голтве.txt', 'Макар Чудра.txt', 'Человек.txt', 'В людях.txt', 'Фома Гордеев.txt', 'Сказки об Италии.txt', 'Проходимец.txt', 'На дне.txt', 'Страсти-мордасти.txt', 'Скуки ради.txt', 'На плотах.txt', 'Мои университеты.txt', 'Озорник.txt', 'Город жёлтого дьявола.txt', 'Песня о Буревестнике.txt', 'Ма-аленькая!....txt', 'Вывод.txt', 'Двадцать шесть и одна.txt']\n"
          ]
        }
      ]
    },
    {
      "cell_type": "code",
      "source": [
        "#Вытаскиваем текст вот так\n",
        "for writer in writers:\n",
        "  path_wr = path + '/' + writer\n",
        "  books = os.listdir(path_wr)\n",
        "  for book in books:\n",
        "    if book != 'info.csv':\n",
        "      path_book = path_wr + '/' + book\n",
        "      with open(path_book, 'r') as file:\n",
        "        booktext = file.read()\n",
        "        if book == 'Холстомер.txt': #просто чтобы напечатать текст\n",
        "          print(booktext[:1000])\n",
        "          sample_text = booktext[:3000]"
      ],
      "metadata": {
        "colab": {
          "base_uri": "https://localhost:8080/"
        },
        "id": "Z-OGbBSL52kP",
        "outputId": "6b08791f-b961-4e13-8179-a55a780dda6a"
      },
      "execution_count": null,
      "outputs": [
        {
          "output_type": "stream",
          "name": "stdout",
          "text": [
            "Лев Николаевич Толстой\n",
            "\n",
            "Холстомер\n",
            "История лошади\n",
            "\n",
            "  \n",
            "Посвящается памяти М. А. Стаховича\n",
            "\n",
            "   [Сюжет этот был задуман М. А. Стаховичем, автором \"Ночного\" и \"Наездники\", и передан автору А. А. Стаховичем. -- Прим. Л. Н. Толстого)]\n",
            "Глава I\n",
            "\n",
            "   Все выше и выше поднималось небо, шире расплывалась заря, белее становилось матовое серебро росы, безжизненнее становился серп месяца, звучнее -- лес, люди начинали подниматься, и на барском конном дворе чаще и чаще слышалось фырканье, возня по соломе и даже сердитое визгливое ржанье столпившихся и повздоривших за что-то лошадей.\n",
            "   -- Но-о! успеешь! проголодались! -- сказал старый табунщик, отворяя скрипящие ворота. -- Куда? -- крикнул он, замахиваясь на кобылку, которая сунулась было в ворота.\n",
            "   Табунщик Нестер был одет в казакин, подпоясанный ремнем с набором, кнут у него был захлестнут через плечо, и хлеб в полотенце был за поясом. В руках он нес седло и уздечку.\n",
            "   Лошади нисколько не испугались и не оскорбились насмешливым топом табунщика, они\n"
          ]
        }
      ]
    },
    {
      "cell_type": "markdown",
      "source": [
        "**Делим на предложения**"
      ],
      "metadata": {
        "id": "leGmfbhR_OBM"
      }
    },
    {
      "cell_type": "code",
      "source": [
        "writers_sentences = []\n",
        "sentences = []\n",
        "for writer in writers:\n",
        "  path_wr = path + '/' + writer\n",
        "  books = os.listdir(path_wr)\n",
        "  for book in books:\n",
        "    if book != 'info.csv':\n",
        "      path_book = path_wr + '/' + book\n",
        "      with open(path_book, 'r') as file:\n",
        "        booktext = file.read()\n",
        "        booktext_split = booktext.replace('\\n', ' ').replace('!','.').replace('?','.').split('. ')\n",
        "        sentences += booktext_split\n",
        "        writers_sentences += [writer]*len(booktext_split)\n",
        "\n",
        "print(writers_sentences[:5])\n",
        "print(sentences[:5])\n",
        "print(len(writers_sentences), len(sentences))"
      ],
      "metadata": {
        "colab": {
          "base_uri": "https://localhost:8080/"
        },
        "id": "J4yxJNF37KKi",
        "outputId": "625d7559-b07f-4f50-affc-70acd6f3a5d8"
      },
      "execution_count": null,
      "outputs": [
        {
          "output_type": "stream",
          "name": "stdout",
          "text": [
            "['Tolstoy', 'Tolstoy', 'Tolstoy', 'Tolstoy', 'Tolstoy']\n",
            "['Жил Емельян у хозяина в работниках', 'Идет раз Емельян по лугу на работу, глядь -- прыгает перед ним лягушка; чуть-чуть не наступил на нее', 'Перешагнул через нее Емельян', 'Вдруг слышит, кличет его кто-то сзади', 'Оглянулся Емельян, видит -- стоит красавица девица и говорит ему:    -- Что ты, Емельян, не женишься']\n",
            "327661 327661\n"
          ]
        }
      ]
    },
    {
      "cell_type": "code",
      "source": [
        "df = pd.DataFrame({'sentence': sentences,\n",
        "     'author': writers_sentences})\n",
        "df.info()"
      ],
      "metadata": {
        "colab": {
          "base_uri": "https://localhost:8080/"
        },
        "id": "LWui2oCD9Rjq",
        "outputId": "765b2835-ca6c-4110-8215-b71bc8dfe72c"
      },
      "execution_count": null,
      "outputs": [
        {
          "output_type": "stream",
          "name": "stdout",
          "text": [
            "<class 'pandas.core.frame.DataFrame'>\n",
            "RangeIndex: 327661 entries, 0 to 327660\n",
            "Data columns (total 2 columns):\n",
            " #   Column    Non-Null Count   Dtype \n",
            "---  ------    --------------   ----- \n",
            " 0   sentence  327661 non-null  object\n",
            " 1   author    327661 non-null  object\n",
            "dtypes: object(2)\n",
            "memory usage: 5.0+ MB\n"
          ]
        }
      ]
    },
    {
      "cell_type": "code",
      "source": [
        "df.head(2)"
      ],
      "metadata": {
        "colab": {
          "base_uri": "https://localhost:8080/",
          "height": 112
        },
        "id": "7UszFjFi9qIO",
        "outputId": "bffde15e-8548-479d-ca2e-30b5f8ba6117"
      },
      "execution_count": null,
      "outputs": [
        {
          "output_type": "execute_result",
          "data": {
            "text/plain": [
              "                                            sentence   author\n",
              "0                 Жил Емельян у хозяина в работниках  Tolstoy\n",
              "1  Идет раз Емельян по лугу на работу, глядь -- п...  Tolstoy"
            ],
            "text/html": [
              "\n",
              "  <div id=\"df-d874cf4a-a7de-44b6-9b55-c8e7b93b2b42\">\n",
              "    <div class=\"colab-df-container\">\n",
              "      <div>\n",
              "<style scoped>\n",
              "    .dataframe tbody tr th:only-of-type {\n",
              "        vertical-align: middle;\n",
              "    }\n",
              "\n",
              "    .dataframe tbody tr th {\n",
              "        vertical-align: top;\n",
              "    }\n",
              "\n",
              "    .dataframe thead th {\n",
              "        text-align: right;\n",
              "    }\n",
              "</style>\n",
              "<table border=\"1\" class=\"dataframe\">\n",
              "  <thead>\n",
              "    <tr style=\"text-align: right;\">\n",
              "      <th></th>\n",
              "      <th>sentence</th>\n",
              "      <th>author</th>\n",
              "    </tr>\n",
              "  </thead>\n",
              "  <tbody>\n",
              "    <tr>\n",
              "      <th>0</th>\n",
              "      <td>Жил Емельян у хозяина в работниках</td>\n",
              "      <td>Tolstoy</td>\n",
              "    </tr>\n",
              "    <tr>\n",
              "      <th>1</th>\n",
              "      <td>Идет раз Емельян по лугу на работу, глядь -- п...</td>\n",
              "      <td>Tolstoy</td>\n",
              "    </tr>\n",
              "  </tbody>\n",
              "</table>\n",
              "</div>\n",
              "      <button class=\"colab-df-convert\" onclick=\"convertToInteractive('df-d874cf4a-a7de-44b6-9b55-c8e7b93b2b42')\"\n",
              "              title=\"Convert this dataframe to an interactive table.\"\n",
              "              style=\"display:none;\">\n",
              "        \n",
              "  <svg xmlns=\"http://www.w3.org/2000/svg\" height=\"24px\"viewBox=\"0 0 24 24\"\n",
              "       width=\"24px\">\n",
              "    <path d=\"M0 0h24v24H0V0z\" fill=\"none\"/>\n",
              "    <path d=\"M18.56 5.44l.94 2.06.94-2.06 2.06-.94-2.06-.94-.94-2.06-.94 2.06-2.06.94zm-11 1L8.5 8.5l.94-2.06 2.06-.94-2.06-.94L8.5 2.5l-.94 2.06-2.06.94zm10 10l.94 2.06.94-2.06 2.06-.94-2.06-.94-.94-2.06-.94 2.06-2.06.94z\"/><path d=\"M17.41 7.96l-1.37-1.37c-.4-.4-.92-.59-1.43-.59-.52 0-1.04.2-1.43.59L10.3 9.45l-7.72 7.72c-.78.78-.78 2.05 0 2.83L4 21.41c.39.39.9.59 1.41.59.51 0 1.02-.2 1.41-.59l7.78-7.78 2.81-2.81c.8-.78.8-2.07 0-2.86zM5.41 20L4 18.59l7.72-7.72 1.47 1.35L5.41 20z\"/>\n",
              "  </svg>\n",
              "      </button>\n",
              "      \n",
              "  <style>\n",
              "    .colab-df-container {\n",
              "      display:flex;\n",
              "      flex-wrap:wrap;\n",
              "      gap: 12px;\n",
              "    }\n",
              "\n",
              "    .colab-df-convert {\n",
              "      background-color: #E8F0FE;\n",
              "      border: none;\n",
              "      border-radius: 50%;\n",
              "      cursor: pointer;\n",
              "      display: none;\n",
              "      fill: #1967D2;\n",
              "      height: 32px;\n",
              "      padding: 0 0 0 0;\n",
              "      width: 32px;\n",
              "    }\n",
              "\n",
              "    .colab-df-convert:hover {\n",
              "      background-color: #E2EBFA;\n",
              "      box-shadow: 0px 1px 2px rgba(60, 64, 67, 0.3), 0px 1px 3px 1px rgba(60, 64, 67, 0.15);\n",
              "      fill: #174EA6;\n",
              "    }\n",
              "\n",
              "    [theme=dark] .colab-df-convert {\n",
              "      background-color: #3B4455;\n",
              "      fill: #D2E3FC;\n",
              "    }\n",
              "\n",
              "    [theme=dark] .colab-df-convert:hover {\n",
              "      background-color: #434B5C;\n",
              "      box-shadow: 0px 1px 3px 1px rgba(0, 0, 0, 0.15);\n",
              "      filter: drop-shadow(0px 1px 2px rgba(0, 0, 0, 0.3));\n",
              "      fill: #FFFFFF;\n",
              "    }\n",
              "  </style>\n",
              "\n",
              "      <script>\n",
              "        const buttonEl =\n",
              "          document.querySelector('#df-d874cf4a-a7de-44b6-9b55-c8e7b93b2b42 button.colab-df-convert');\n",
              "        buttonEl.style.display =\n",
              "          google.colab.kernel.accessAllowed ? 'block' : 'none';\n",
              "\n",
              "        async function convertToInteractive(key) {\n",
              "          const element = document.querySelector('#df-d874cf4a-a7de-44b6-9b55-c8e7b93b2b42');\n",
              "          const dataTable =\n",
              "            await google.colab.kernel.invokeFunction('convertToInteractive',\n",
              "                                                     [key], {});\n",
              "          if (!dataTable) return;\n",
              "\n",
              "          const docLinkHtml = 'Like what you see? Visit the ' +\n",
              "            '<a target=\"_blank\" href=https://colab.research.google.com/notebooks/data_table.ipynb>data table notebook</a>'\n",
              "            + ' to learn more about interactive tables.';\n",
              "          element.innerHTML = '';\n",
              "          dataTable['output_type'] = 'display_data';\n",
              "          await google.colab.output.renderOutput(dataTable, element);\n",
              "          const docLink = document.createElement('div');\n",
              "          docLink.innerHTML = docLinkHtml;\n",
              "          element.appendChild(docLink);\n",
              "        }\n",
              "      </script>\n",
              "    </div>\n",
              "  </div>\n",
              "  "
            ]
          },
          "metadata": {},
          "execution_count": 19
        }
      ]
    },
    {
      "cell_type": "code",
      "source": [
        "df.sentence = df.sentence.apply(lambda x: x.strip()) #на всякий случай уберем пробелы по бокам\n",
        "df.head(2)"
      ],
      "metadata": {
        "colab": {
          "base_uri": "https://localhost:8080/",
          "height": 112
        },
        "id": "XN9CE3HT-Qxu",
        "outputId": "4d84391b-56e1-4b6c-dcf7-087c21ff5942"
      },
      "execution_count": null,
      "outputs": [
        {
          "output_type": "execute_result",
          "data": {
            "text/plain": [
              "                                            sentence   author\n",
              "0                 Жил Емельян у хозяина в работниках  Tolstoy\n",
              "1  Идет раз Емельян по лугу на работу, глядь -- п...  Tolstoy"
            ],
            "text/html": [
              "\n",
              "  <div id=\"df-a5a9cc40-ef93-454d-aaf1-55b457a833c5\">\n",
              "    <div class=\"colab-df-container\">\n",
              "      <div>\n",
              "<style scoped>\n",
              "    .dataframe tbody tr th:only-of-type {\n",
              "        vertical-align: middle;\n",
              "    }\n",
              "\n",
              "    .dataframe tbody tr th {\n",
              "        vertical-align: top;\n",
              "    }\n",
              "\n",
              "    .dataframe thead th {\n",
              "        text-align: right;\n",
              "    }\n",
              "</style>\n",
              "<table border=\"1\" class=\"dataframe\">\n",
              "  <thead>\n",
              "    <tr style=\"text-align: right;\">\n",
              "      <th></th>\n",
              "      <th>sentence</th>\n",
              "      <th>author</th>\n",
              "    </tr>\n",
              "  </thead>\n",
              "  <tbody>\n",
              "    <tr>\n",
              "      <th>0</th>\n",
              "      <td>Жил Емельян у хозяина в работниках</td>\n",
              "      <td>Tolstoy</td>\n",
              "    </tr>\n",
              "    <tr>\n",
              "      <th>1</th>\n",
              "      <td>Идет раз Емельян по лугу на работу, глядь -- п...</td>\n",
              "      <td>Tolstoy</td>\n",
              "    </tr>\n",
              "  </tbody>\n",
              "</table>\n",
              "</div>\n",
              "      <button class=\"colab-df-convert\" onclick=\"convertToInteractive('df-a5a9cc40-ef93-454d-aaf1-55b457a833c5')\"\n",
              "              title=\"Convert this dataframe to an interactive table.\"\n",
              "              style=\"display:none;\">\n",
              "        \n",
              "  <svg xmlns=\"http://www.w3.org/2000/svg\" height=\"24px\"viewBox=\"0 0 24 24\"\n",
              "       width=\"24px\">\n",
              "    <path d=\"M0 0h24v24H0V0z\" fill=\"none\"/>\n",
              "    <path d=\"M18.56 5.44l.94 2.06.94-2.06 2.06-.94-2.06-.94-.94-2.06-.94 2.06-2.06.94zm-11 1L8.5 8.5l.94-2.06 2.06-.94-2.06-.94L8.5 2.5l-.94 2.06-2.06.94zm10 10l.94 2.06.94-2.06 2.06-.94-2.06-.94-.94-2.06-.94 2.06-2.06.94z\"/><path d=\"M17.41 7.96l-1.37-1.37c-.4-.4-.92-.59-1.43-.59-.52 0-1.04.2-1.43.59L10.3 9.45l-7.72 7.72c-.78.78-.78 2.05 0 2.83L4 21.41c.39.39.9.59 1.41.59.51 0 1.02-.2 1.41-.59l7.78-7.78 2.81-2.81c.8-.78.8-2.07 0-2.86zM5.41 20L4 18.59l7.72-7.72 1.47 1.35L5.41 20z\"/>\n",
              "  </svg>\n",
              "      </button>\n",
              "      \n",
              "  <style>\n",
              "    .colab-df-container {\n",
              "      display:flex;\n",
              "      flex-wrap:wrap;\n",
              "      gap: 12px;\n",
              "    }\n",
              "\n",
              "    .colab-df-convert {\n",
              "      background-color: #E8F0FE;\n",
              "      border: none;\n",
              "      border-radius: 50%;\n",
              "      cursor: pointer;\n",
              "      display: none;\n",
              "      fill: #1967D2;\n",
              "      height: 32px;\n",
              "      padding: 0 0 0 0;\n",
              "      width: 32px;\n",
              "    }\n",
              "\n",
              "    .colab-df-convert:hover {\n",
              "      background-color: #E2EBFA;\n",
              "      box-shadow: 0px 1px 2px rgba(60, 64, 67, 0.3), 0px 1px 3px 1px rgba(60, 64, 67, 0.15);\n",
              "      fill: #174EA6;\n",
              "    }\n",
              "\n",
              "    [theme=dark] .colab-df-convert {\n",
              "      background-color: #3B4455;\n",
              "      fill: #D2E3FC;\n",
              "    }\n",
              "\n",
              "    [theme=dark] .colab-df-convert:hover {\n",
              "      background-color: #434B5C;\n",
              "      box-shadow: 0px 1px 3px 1px rgba(0, 0, 0, 0.15);\n",
              "      filter: drop-shadow(0px 1px 2px rgba(0, 0, 0, 0.3));\n",
              "      fill: #FFFFFF;\n",
              "    }\n",
              "  </style>\n",
              "\n",
              "      <script>\n",
              "        const buttonEl =\n",
              "          document.querySelector('#df-a5a9cc40-ef93-454d-aaf1-55b457a833c5 button.colab-df-convert');\n",
              "        buttonEl.style.display =\n",
              "          google.colab.kernel.accessAllowed ? 'block' : 'none';\n",
              "\n",
              "        async function convertToInteractive(key) {\n",
              "          const element = document.querySelector('#df-a5a9cc40-ef93-454d-aaf1-55b457a833c5');\n",
              "          const dataTable =\n",
              "            await google.colab.kernel.invokeFunction('convertToInteractive',\n",
              "                                                     [key], {});\n",
              "          if (!dataTable) return;\n",
              "\n",
              "          const docLinkHtml = 'Like what you see? Visit the ' +\n",
              "            '<a target=\"_blank\" href=https://colab.research.google.com/notebooks/data_table.ipynb>data table notebook</a>'\n",
              "            + ' to learn more about interactive tables.';\n",
              "          element.innerHTML = '';\n",
              "          dataTable['output_type'] = 'display_data';\n",
              "          await google.colab.output.renderOutput(dataTable, element);\n",
              "          const docLink = document.createElement('div');\n",
              "          docLink.innerHTML = docLinkHtml;\n",
              "          element.appendChild(docLink);\n",
              "        }\n",
              "      </script>\n",
              "    </div>\n",
              "  </div>\n",
              "  "
            ]
          },
          "metadata": {},
          "execution_count": 20
        }
      ]
    },
    {
      "cell_type": "markdown",
      "source": [
        "**Удаляем короткие предложения**"
      ],
      "metadata": {
        "id": "YCYyIvGS_RDZ"
      }
    },
    {
      "cell_type": "markdown",
      "source": [
        "удалите короткие предложения (считаем, что предложение короткое, если в нем меньше 15 символов);"
      ],
      "metadata": {
        "id": "a5p7MxU5_ZNb"
      }
    },
    {
      "cell_type": "code",
      "source": [
        "df[df.sentence.str.len() < 15].head()"
      ],
      "metadata": {
        "colab": {
          "base_uri": "https://localhost:8080/",
          "height": 206
        },
        "id": "n4dTCHfjBGib",
        "outputId": "18b75bd8-bb1e-4177-b702-6d04ef33099b"
      },
      "execution_count": null,
      "outputs": [
        {
          "output_type": "execute_result",
          "data": {
            "text/plain": [
              "          sentence   author\n",
              "13         Женимся  Tolstoy\n",
              "14   Куда ж пойдем  Tolstoy\n",
              "39   Пошел Емельян  Tolstoy\n",
              "52  Только работай  Tolstoy\n",
              "59   Прошла неделя  Tolstoy"
            ],
            "text/html": [
              "\n",
              "  <div id=\"df-624ecffb-0dfe-4c7d-b8e0-f299775d58cd\">\n",
              "    <div class=\"colab-df-container\">\n",
              "      <div>\n",
              "<style scoped>\n",
              "    .dataframe tbody tr th:only-of-type {\n",
              "        vertical-align: middle;\n",
              "    }\n",
              "\n",
              "    .dataframe tbody tr th {\n",
              "        vertical-align: top;\n",
              "    }\n",
              "\n",
              "    .dataframe thead th {\n",
              "        text-align: right;\n",
              "    }\n",
              "</style>\n",
              "<table border=\"1\" class=\"dataframe\">\n",
              "  <thead>\n",
              "    <tr style=\"text-align: right;\">\n",
              "      <th></th>\n",
              "      <th>sentence</th>\n",
              "      <th>author</th>\n",
              "    </tr>\n",
              "  </thead>\n",
              "  <tbody>\n",
              "    <tr>\n",
              "      <th>13</th>\n",
              "      <td>Женимся</td>\n",
              "      <td>Tolstoy</td>\n",
              "    </tr>\n",
              "    <tr>\n",
              "      <th>14</th>\n",
              "      <td>Куда ж пойдем</td>\n",
              "      <td>Tolstoy</td>\n",
              "    </tr>\n",
              "    <tr>\n",
              "      <th>39</th>\n",
              "      <td>Пошел Емельян</td>\n",
              "      <td>Tolstoy</td>\n",
              "    </tr>\n",
              "    <tr>\n",
              "      <th>52</th>\n",
              "      <td>Только работай</td>\n",
              "      <td>Tolstoy</td>\n",
              "    </tr>\n",
              "    <tr>\n",
              "      <th>59</th>\n",
              "      <td>Прошла неделя</td>\n",
              "      <td>Tolstoy</td>\n",
              "    </tr>\n",
              "  </tbody>\n",
              "</table>\n",
              "</div>\n",
              "      <button class=\"colab-df-convert\" onclick=\"convertToInteractive('df-624ecffb-0dfe-4c7d-b8e0-f299775d58cd')\"\n",
              "              title=\"Convert this dataframe to an interactive table.\"\n",
              "              style=\"display:none;\">\n",
              "        \n",
              "  <svg xmlns=\"http://www.w3.org/2000/svg\" height=\"24px\"viewBox=\"0 0 24 24\"\n",
              "       width=\"24px\">\n",
              "    <path d=\"M0 0h24v24H0V0z\" fill=\"none\"/>\n",
              "    <path d=\"M18.56 5.44l.94 2.06.94-2.06 2.06-.94-2.06-.94-.94-2.06-.94 2.06-2.06.94zm-11 1L8.5 8.5l.94-2.06 2.06-.94-2.06-.94L8.5 2.5l-.94 2.06-2.06.94zm10 10l.94 2.06.94-2.06 2.06-.94-2.06-.94-.94-2.06-.94 2.06-2.06.94z\"/><path d=\"M17.41 7.96l-1.37-1.37c-.4-.4-.92-.59-1.43-.59-.52 0-1.04.2-1.43.59L10.3 9.45l-7.72 7.72c-.78.78-.78 2.05 0 2.83L4 21.41c.39.39.9.59 1.41.59.51 0 1.02-.2 1.41-.59l7.78-7.78 2.81-2.81c.8-.78.8-2.07 0-2.86zM5.41 20L4 18.59l7.72-7.72 1.47 1.35L5.41 20z\"/>\n",
              "  </svg>\n",
              "      </button>\n",
              "      \n",
              "  <style>\n",
              "    .colab-df-container {\n",
              "      display:flex;\n",
              "      flex-wrap:wrap;\n",
              "      gap: 12px;\n",
              "    }\n",
              "\n",
              "    .colab-df-convert {\n",
              "      background-color: #E8F0FE;\n",
              "      border: none;\n",
              "      border-radius: 50%;\n",
              "      cursor: pointer;\n",
              "      display: none;\n",
              "      fill: #1967D2;\n",
              "      height: 32px;\n",
              "      padding: 0 0 0 0;\n",
              "      width: 32px;\n",
              "    }\n",
              "\n",
              "    .colab-df-convert:hover {\n",
              "      background-color: #E2EBFA;\n",
              "      box-shadow: 0px 1px 2px rgba(60, 64, 67, 0.3), 0px 1px 3px 1px rgba(60, 64, 67, 0.15);\n",
              "      fill: #174EA6;\n",
              "    }\n",
              "\n",
              "    [theme=dark] .colab-df-convert {\n",
              "      background-color: #3B4455;\n",
              "      fill: #D2E3FC;\n",
              "    }\n",
              "\n",
              "    [theme=dark] .colab-df-convert:hover {\n",
              "      background-color: #434B5C;\n",
              "      box-shadow: 0px 1px 3px 1px rgba(0, 0, 0, 0.15);\n",
              "      filter: drop-shadow(0px 1px 2px rgba(0, 0, 0, 0.3));\n",
              "      fill: #FFFFFF;\n",
              "    }\n",
              "  </style>\n",
              "\n",
              "      <script>\n",
              "        const buttonEl =\n",
              "          document.querySelector('#df-624ecffb-0dfe-4c7d-b8e0-f299775d58cd button.colab-df-convert');\n",
              "        buttonEl.style.display =\n",
              "          google.colab.kernel.accessAllowed ? 'block' : 'none';\n",
              "\n",
              "        async function convertToInteractive(key) {\n",
              "          const element = document.querySelector('#df-624ecffb-0dfe-4c7d-b8e0-f299775d58cd');\n",
              "          const dataTable =\n",
              "            await google.colab.kernel.invokeFunction('convertToInteractive',\n",
              "                                                     [key], {});\n",
              "          if (!dataTable) return;\n",
              "\n",
              "          const docLinkHtml = 'Like what you see? Visit the ' +\n",
              "            '<a target=\"_blank\" href=https://colab.research.google.com/notebooks/data_table.ipynb>data table notebook</a>'\n",
              "            + ' to learn more about interactive tables.';\n",
              "          element.innerHTML = '';\n",
              "          dataTable['output_type'] = 'display_data';\n",
              "          await google.colab.output.renderOutput(dataTable, element);\n",
              "          const docLink = document.createElement('div');\n",
              "          docLink.innerHTML = docLinkHtml;\n",
              "          element.appendChild(docLink);\n",
              "        }\n",
              "      </script>\n",
              "    </div>\n",
              "  </div>\n",
              "  "
            ]
          },
          "metadata": {},
          "execution_count": 21
        }
      ]
    },
    {
      "cell_type": "code",
      "source": [
        "df = df[df.sentence.str.len() >= 15]\n",
        "df.head(1)"
      ],
      "metadata": {
        "colab": {
          "base_uri": "https://localhost:8080/",
          "height": 81
        },
        "id": "hxLEmNoV_EYE",
        "outputId": "1bbe89f1-0a9d-401d-826b-44c76aff17eb"
      },
      "execution_count": null,
      "outputs": [
        {
          "output_type": "execute_result",
          "data": {
            "text/plain": [
              "                             sentence   author\n",
              "0  Жил Емельян у хозяина в работниках  Tolstoy"
            ],
            "text/html": [
              "\n",
              "  <div id=\"df-1d81ed43-71c8-4a5d-973f-31fb4568e033\">\n",
              "    <div class=\"colab-df-container\">\n",
              "      <div>\n",
              "<style scoped>\n",
              "    .dataframe tbody tr th:only-of-type {\n",
              "        vertical-align: middle;\n",
              "    }\n",
              "\n",
              "    .dataframe tbody tr th {\n",
              "        vertical-align: top;\n",
              "    }\n",
              "\n",
              "    .dataframe thead th {\n",
              "        text-align: right;\n",
              "    }\n",
              "</style>\n",
              "<table border=\"1\" class=\"dataframe\">\n",
              "  <thead>\n",
              "    <tr style=\"text-align: right;\">\n",
              "      <th></th>\n",
              "      <th>sentence</th>\n",
              "      <th>author</th>\n",
              "    </tr>\n",
              "  </thead>\n",
              "  <tbody>\n",
              "    <tr>\n",
              "      <th>0</th>\n",
              "      <td>Жил Емельян у хозяина в работниках</td>\n",
              "      <td>Tolstoy</td>\n",
              "    </tr>\n",
              "  </tbody>\n",
              "</table>\n",
              "</div>\n",
              "      <button class=\"colab-df-convert\" onclick=\"convertToInteractive('df-1d81ed43-71c8-4a5d-973f-31fb4568e033')\"\n",
              "              title=\"Convert this dataframe to an interactive table.\"\n",
              "              style=\"display:none;\">\n",
              "        \n",
              "  <svg xmlns=\"http://www.w3.org/2000/svg\" height=\"24px\"viewBox=\"0 0 24 24\"\n",
              "       width=\"24px\">\n",
              "    <path d=\"M0 0h24v24H0V0z\" fill=\"none\"/>\n",
              "    <path d=\"M18.56 5.44l.94 2.06.94-2.06 2.06-.94-2.06-.94-.94-2.06-.94 2.06-2.06.94zm-11 1L8.5 8.5l.94-2.06 2.06-.94-2.06-.94L8.5 2.5l-.94 2.06-2.06.94zm10 10l.94 2.06.94-2.06 2.06-.94-2.06-.94-.94-2.06-.94 2.06-2.06.94z\"/><path d=\"M17.41 7.96l-1.37-1.37c-.4-.4-.92-.59-1.43-.59-.52 0-1.04.2-1.43.59L10.3 9.45l-7.72 7.72c-.78.78-.78 2.05 0 2.83L4 21.41c.39.39.9.59 1.41.59.51 0 1.02-.2 1.41-.59l7.78-7.78 2.81-2.81c.8-.78.8-2.07 0-2.86zM5.41 20L4 18.59l7.72-7.72 1.47 1.35L5.41 20z\"/>\n",
              "  </svg>\n",
              "      </button>\n",
              "      \n",
              "  <style>\n",
              "    .colab-df-container {\n",
              "      display:flex;\n",
              "      flex-wrap:wrap;\n",
              "      gap: 12px;\n",
              "    }\n",
              "\n",
              "    .colab-df-convert {\n",
              "      background-color: #E8F0FE;\n",
              "      border: none;\n",
              "      border-radius: 50%;\n",
              "      cursor: pointer;\n",
              "      display: none;\n",
              "      fill: #1967D2;\n",
              "      height: 32px;\n",
              "      padding: 0 0 0 0;\n",
              "      width: 32px;\n",
              "    }\n",
              "\n",
              "    .colab-df-convert:hover {\n",
              "      background-color: #E2EBFA;\n",
              "      box-shadow: 0px 1px 2px rgba(60, 64, 67, 0.3), 0px 1px 3px 1px rgba(60, 64, 67, 0.15);\n",
              "      fill: #174EA6;\n",
              "    }\n",
              "\n",
              "    [theme=dark] .colab-df-convert {\n",
              "      background-color: #3B4455;\n",
              "      fill: #D2E3FC;\n",
              "    }\n",
              "\n",
              "    [theme=dark] .colab-df-convert:hover {\n",
              "      background-color: #434B5C;\n",
              "      box-shadow: 0px 1px 3px 1px rgba(0, 0, 0, 0.15);\n",
              "      filter: drop-shadow(0px 1px 2px rgba(0, 0, 0, 0.3));\n",
              "      fill: #FFFFFF;\n",
              "    }\n",
              "  </style>\n",
              "\n",
              "      <script>\n",
              "        const buttonEl =\n",
              "          document.querySelector('#df-1d81ed43-71c8-4a5d-973f-31fb4568e033 button.colab-df-convert');\n",
              "        buttonEl.style.display =\n",
              "          google.colab.kernel.accessAllowed ? 'block' : 'none';\n",
              "\n",
              "        async function convertToInteractive(key) {\n",
              "          const element = document.querySelector('#df-1d81ed43-71c8-4a5d-973f-31fb4568e033');\n",
              "          const dataTable =\n",
              "            await google.colab.kernel.invokeFunction('convertToInteractive',\n",
              "                                                     [key], {});\n",
              "          if (!dataTable) return;\n",
              "\n",
              "          const docLinkHtml = 'Like what you see? Visit the ' +\n",
              "            '<a target=\"_blank\" href=https://colab.research.google.com/notebooks/data_table.ipynb>data table notebook</a>'\n",
              "            + ' to learn more about interactive tables.';\n",
              "          element.innerHTML = '';\n",
              "          dataTable['output_type'] = 'display_data';\n",
              "          await google.colab.output.renderOutput(dataTable, element);\n",
              "          const docLink = document.createElement('div');\n",
              "          docLink.innerHTML = docLinkHtml;\n",
              "          element.appendChild(docLink);\n",
              "        }\n",
              "      </script>\n",
              "    </div>\n",
              "  </div>\n",
              "  "
            ]
          },
          "metadata": {},
          "execution_count": 22
        }
      ]
    },
    {
      "cell_type": "code",
      "source": [
        "df[df.sentence.str.len() < 15].head()"
      ],
      "metadata": {
        "colab": {
          "base_uri": "https://localhost:8080/",
          "height": 49
        },
        "id": "mUDHEYR2Ax2N",
        "outputId": "978e7bb8-a307-400a-8f5b-f5ebfe834019"
      },
      "execution_count": null,
      "outputs": [
        {
          "output_type": "execute_result",
          "data": {
            "text/plain": [
              "Empty DataFrame\n",
              "Columns: [sentence, author]\n",
              "Index: []"
            ],
            "text/html": [
              "\n",
              "  <div id=\"df-846082ab-114b-4ef8-ab49-53a9ced92e42\">\n",
              "    <div class=\"colab-df-container\">\n",
              "      <div>\n",
              "<style scoped>\n",
              "    .dataframe tbody tr th:only-of-type {\n",
              "        vertical-align: middle;\n",
              "    }\n",
              "\n",
              "    .dataframe tbody tr th {\n",
              "        vertical-align: top;\n",
              "    }\n",
              "\n",
              "    .dataframe thead th {\n",
              "        text-align: right;\n",
              "    }\n",
              "</style>\n",
              "<table border=\"1\" class=\"dataframe\">\n",
              "  <thead>\n",
              "    <tr style=\"text-align: right;\">\n",
              "      <th></th>\n",
              "      <th>sentence</th>\n",
              "      <th>author</th>\n",
              "    </tr>\n",
              "  </thead>\n",
              "  <tbody>\n",
              "  </tbody>\n",
              "</table>\n",
              "</div>\n",
              "      <button class=\"colab-df-convert\" onclick=\"convertToInteractive('df-846082ab-114b-4ef8-ab49-53a9ced92e42')\"\n",
              "              title=\"Convert this dataframe to an interactive table.\"\n",
              "              style=\"display:none;\">\n",
              "        \n",
              "  <svg xmlns=\"http://www.w3.org/2000/svg\" height=\"24px\"viewBox=\"0 0 24 24\"\n",
              "       width=\"24px\">\n",
              "    <path d=\"M0 0h24v24H0V0z\" fill=\"none\"/>\n",
              "    <path d=\"M18.56 5.44l.94 2.06.94-2.06 2.06-.94-2.06-.94-.94-2.06-.94 2.06-2.06.94zm-11 1L8.5 8.5l.94-2.06 2.06-.94-2.06-.94L8.5 2.5l-.94 2.06-2.06.94zm10 10l.94 2.06.94-2.06 2.06-.94-2.06-.94-.94-2.06-.94 2.06-2.06.94z\"/><path d=\"M17.41 7.96l-1.37-1.37c-.4-.4-.92-.59-1.43-.59-.52 0-1.04.2-1.43.59L10.3 9.45l-7.72 7.72c-.78.78-.78 2.05 0 2.83L4 21.41c.39.39.9.59 1.41.59.51 0 1.02-.2 1.41-.59l7.78-7.78 2.81-2.81c.8-.78.8-2.07 0-2.86zM5.41 20L4 18.59l7.72-7.72 1.47 1.35L5.41 20z\"/>\n",
              "  </svg>\n",
              "      </button>\n",
              "      \n",
              "  <style>\n",
              "    .colab-df-container {\n",
              "      display:flex;\n",
              "      flex-wrap:wrap;\n",
              "      gap: 12px;\n",
              "    }\n",
              "\n",
              "    .colab-df-convert {\n",
              "      background-color: #E8F0FE;\n",
              "      border: none;\n",
              "      border-radius: 50%;\n",
              "      cursor: pointer;\n",
              "      display: none;\n",
              "      fill: #1967D2;\n",
              "      height: 32px;\n",
              "      padding: 0 0 0 0;\n",
              "      width: 32px;\n",
              "    }\n",
              "\n",
              "    .colab-df-convert:hover {\n",
              "      background-color: #E2EBFA;\n",
              "      box-shadow: 0px 1px 2px rgba(60, 64, 67, 0.3), 0px 1px 3px 1px rgba(60, 64, 67, 0.15);\n",
              "      fill: #174EA6;\n",
              "    }\n",
              "\n",
              "    [theme=dark] .colab-df-convert {\n",
              "      background-color: #3B4455;\n",
              "      fill: #D2E3FC;\n",
              "    }\n",
              "\n",
              "    [theme=dark] .colab-df-convert:hover {\n",
              "      background-color: #434B5C;\n",
              "      box-shadow: 0px 1px 3px 1px rgba(0, 0, 0, 0.15);\n",
              "      filter: drop-shadow(0px 1px 2px rgba(0, 0, 0, 0.3));\n",
              "      fill: #FFFFFF;\n",
              "    }\n",
              "  </style>\n",
              "\n",
              "      <script>\n",
              "        const buttonEl =\n",
              "          document.querySelector('#df-846082ab-114b-4ef8-ab49-53a9ced92e42 button.colab-df-convert');\n",
              "        buttonEl.style.display =\n",
              "          google.colab.kernel.accessAllowed ? 'block' : 'none';\n",
              "\n",
              "        async function convertToInteractive(key) {\n",
              "          const element = document.querySelector('#df-846082ab-114b-4ef8-ab49-53a9ced92e42');\n",
              "          const dataTable =\n",
              "            await google.colab.kernel.invokeFunction('convertToInteractive',\n",
              "                                                     [key], {});\n",
              "          if (!dataTable) return;\n",
              "\n",
              "          const docLinkHtml = 'Like what you see? Visit the ' +\n",
              "            '<a target=\"_blank\" href=https://colab.research.google.com/notebooks/data_table.ipynb>data table notebook</a>'\n",
              "            + ' to learn more about interactive tables.';\n",
              "          element.innerHTML = '';\n",
              "          dataTable['output_type'] = 'display_data';\n",
              "          await google.colab.output.renderOutput(dataTable, element);\n",
              "          const docLink = document.createElement('div');\n",
              "          docLink.innerHTML = docLinkHtml;\n",
              "          element.appendChild(docLink);\n",
              "        }\n",
              "      </script>\n",
              "    </div>\n",
              "  </div>\n",
              "  "
            ]
          },
          "metadata": {},
          "execution_count": 23
        }
      ]
    },
    {
      "cell_type": "code",
      "source": [
        "df.author.value_counts()"
      ],
      "metadata": {
        "colab": {
          "base_uri": "https://localhost:8080/"
        },
        "id": "XEe4Gtk3FZEQ",
        "outputId": "6eb8d2f5-c8c7-46bf-e1e1-db3f194ec2b7"
      },
      "execution_count": null,
      "outputs": [
        {
          "output_type": "execute_result",
          "data": {
            "text/plain": [
              "Dostoevsky    108054\n",
              "Tolstoy        91938\n",
              "Gorky          49500\n",
              "Turgenev       22909\n",
              "Pushkin         9989\n",
              "Herzen          9672\n",
              "Name: author, dtype: int64"
            ]
          },
          "metadata": {},
          "execution_count": 24
        }
      ]
    },
    {
      "cell_type": "markdown",
      "source": [
        "**Формируем выборку**"
      ],
      "metadata": {
        "id": "1TLg5-qQBkvn"
      }
    },
    {
      "cell_type": "markdown",
      "source": [
        "зафиксируйте random state и случайно сформируйте выборку из предложений размера \"5k : 15k : 8k : 11k : 20k : 3k\" в разбивке по авторам соответственно;"
      ],
      "metadata": {
        "id": "ekKaPi8uBSU0"
      }
    },
    {
      "cell_type": "code",
      "source": [
        "ratio = [20000, 5000, 3000, 15000, 8000, 11000] #"
      ],
      "metadata": {
        "id": "EIbmCWllFCQ1"
      },
      "execution_count": null,
      "outputs": []
    },
    {
      "cell_type": "code",
      "source": [
        "writers"
      ],
      "metadata": {
        "colab": {
          "base_uri": "https://localhost:8080/"
        },
        "id": "EKfmINCJGbqC",
        "outputId": "faee70bd-79f4-4fc8-839a-38843eb061da"
      },
      "execution_count": null,
      "outputs": [
        {
          "output_type": "execute_result",
          "data": {
            "text/plain": [
              "['Tolstoy', 'Pushkin', 'Herzen', 'Dostoevsky', 'Turgenev', 'Gorky']"
            ]
          },
          "metadata": {},
          "execution_count": 26
        }
      ]
    },
    {
      "cell_type": "code",
      "source": [
        "df_chosen = pd.DataFrame()"
      ],
      "metadata": {
        "id": "rm9_0PFzEIno"
      },
      "execution_count": null,
      "outputs": []
    },
    {
      "cell_type": "code",
      "source": [
        "for i in range(6):\n",
        "  print(writers[i])\n",
        "  df_chosen = df_chosen.append(df[df.author == writers[i]].sample(n=ratio[i], random_state=1), ignore_index=True)\n",
        "df_chosen.head(1)"
      ],
      "metadata": {
        "colab": {
          "base_uri": "https://localhost:8080/",
          "height": 219
        },
        "id": "X9WkN9ewEWZQ",
        "outputId": "471a5d08-1912-42ed-b29e-acdd18e4ee4c"
      },
      "execution_count": null,
      "outputs": [
        {
          "output_type": "stream",
          "name": "stdout",
          "text": [
            "Tolstoy\n",
            "Pushkin\n",
            "Herzen\n",
            "Dostoevsky\n",
            "Turgenev\n",
            "Gorky\n"
          ]
        },
        {
          "output_type": "stream",
          "name": "stderr",
          "text": [
            "<ipython-input-28-07735ed9680d>:3: FutureWarning: The frame.append method is deprecated and will be removed from pandas in a future version. Use pandas.concat instead.\n",
            "  df_chosen = df_chosen.append(df[df.author == writers[i]].sample(n=ratio[i], random_state=1), ignore_index=True)\n"
          ]
        },
        {
          "output_type": "execute_result",
          "data": {
            "text/plain": [
              "                                            sentence   author\n",
              "0  Там нет новых лиц, но общество готово принять ...  Tolstoy"
            ],
            "text/html": [
              "\n",
              "  <div id=\"df-c5f4fe7c-9177-4eeb-aefc-5249d2d74d7c\">\n",
              "    <div class=\"colab-df-container\">\n",
              "      <div>\n",
              "<style scoped>\n",
              "    .dataframe tbody tr th:only-of-type {\n",
              "        vertical-align: middle;\n",
              "    }\n",
              "\n",
              "    .dataframe tbody tr th {\n",
              "        vertical-align: top;\n",
              "    }\n",
              "\n",
              "    .dataframe thead th {\n",
              "        text-align: right;\n",
              "    }\n",
              "</style>\n",
              "<table border=\"1\" class=\"dataframe\">\n",
              "  <thead>\n",
              "    <tr style=\"text-align: right;\">\n",
              "      <th></th>\n",
              "      <th>sentence</th>\n",
              "      <th>author</th>\n",
              "    </tr>\n",
              "  </thead>\n",
              "  <tbody>\n",
              "    <tr>\n",
              "      <th>0</th>\n",
              "      <td>Там нет новых лиц, но общество готово принять ...</td>\n",
              "      <td>Tolstoy</td>\n",
              "    </tr>\n",
              "  </tbody>\n",
              "</table>\n",
              "</div>\n",
              "      <button class=\"colab-df-convert\" onclick=\"convertToInteractive('df-c5f4fe7c-9177-4eeb-aefc-5249d2d74d7c')\"\n",
              "              title=\"Convert this dataframe to an interactive table.\"\n",
              "              style=\"display:none;\">\n",
              "        \n",
              "  <svg xmlns=\"http://www.w3.org/2000/svg\" height=\"24px\"viewBox=\"0 0 24 24\"\n",
              "       width=\"24px\">\n",
              "    <path d=\"M0 0h24v24H0V0z\" fill=\"none\"/>\n",
              "    <path d=\"M18.56 5.44l.94 2.06.94-2.06 2.06-.94-2.06-.94-.94-2.06-.94 2.06-2.06.94zm-11 1L8.5 8.5l.94-2.06 2.06-.94-2.06-.94L8.5 2.5l-.94 2.06-2.06.94zm10 10l.94 2.06.94-2.06 2.06-.94-2.06-.94-.94-2.06-.94 2.06-2.06.94z\"/><path d=\"M17.41 7.96l-1.37-1.37c-.4-.4-.92-.59-1.43-.59-.52 0-1.04.2-1.43.59L10.3 9.45l-7.72 7.72c-.78.78-.78 2.05 0 2.83L4 21.41c.39.39.9.59 1.41.59.51 0 1.02-.2 1.41-.59l7.78-7.78 2.81-2.81c.8-.78.8-2.07 0-2.86zM5.41 20L4 18.59l7.72-7.72 1.47 1.35L5.41 20z\"/>\n",
              "  </svg>\n",
              "      </button>\n",
              "      \n",
              "  <style>\n",
              "    .colab-df-container {\n",
              "      display:flex;\n",
              "      flex-wrap:wrap;\n",
              "      gap: 12px;\n",
              "    }\n",
              "\n",
              "    .colab-df-convert {\n",
              "      background-color: #E8F0FE;\n",
              "      border: none;\n",
              "      border-radius: 50%;\n",
              "      cursor: pointer;\n",
              "      display: none;\n",
              "      fill: #1967D2;\n",
              "      height: 32px;\n",
              "      padding: 0 0 0 0;\n",
              "      width: 32px;\n",
              "    }\n",
              "\n",
              "    .colab-df-convert:hover {\n",
              "      background-color: #E2EBFA;\n",
              "      box-shadow: 0px 1px 2px rgba(60, 64, 67, 0.3), 0px 1px 3px 1px rgba(60, 64, 67, 0.15);\n",
              "      fill: #174EA6;\n",
              "    }\n",
              "\n",
              "    [theme=dark] .colab-df-convert {\n",
              "      background-color: #3B4455;\n",
              "      fill: #D2E3FC;\n",
              "    }\n",
              "\n",
              "    [theme=dark] .colab-df-convert:hover {\n",
              "      background-color: #434B5C;\n",
              "      box-shadow: 0px 1px 3px 1px rgba(0, 0, 0, 0.15);\n",
              "      filter: drop-shadow(0px 1px 2px rgba(0, 0, 0, 0.3));\n",
              "      fill: #FFFFFF;\n",
              "    }\n",
              "  </style>\n",
              "\n",
              "      <script>\n",
              "        const buttonEl =\n",
              "          document.querySelector('#df-c5f4fe7c-9177-4eeb-aefc-5249d2d74d7c button.colab-df-convert');\n",
              "        buttonEl.style.display =\n",
              "          google.colab.kernel.accessAllowed ? 'block' : 'none';\n",
              "\n",
              "        async function convertToInteractive(key) {\n",
              "          const element = document.querySelector('#df-c5f4fe7c-9177-4eeb-aefc-5249d2d74d7c');\n",
              "          const dataTable =\n",
              "            await google.colab.kernel.invokeFunction('convertToInteractive',\n",
              "                                                     [key], {});\n",
              "          if (!dataTable) return;\n",
              "\n",
              "          const docLinkHtml = 'Like what you see? Visit the ' +\n",
              "            '<a target=\"_blank\" href=https://colab.research.google.com/notebooks/data_table.ipynb>data table notebook</a>'\n",
              "            + ' to learn more about interactive tables.';\n",
              "          element.innerHTML = '';\n",
              "          dataTable['output_type'] = 'display_data';\n",
              "          await google.colab.output.renderOutput(dataTable, element);\n",
              "          const docLink = document.createElement('div');\n",
              "          docLink.innerHTML = docLinkHtml;\n",
              "          element.appendChild(docLink);\n",
              "        }\n",
              "      </script>\n",
              "    </div>\n",
              "  </div>\n",
              "  "
            ]
          },
          "metadata": {},
          "execution_count": 28
        }
      ]
    },
    {
      "cell_type": "markdown",
      "source": [
        "**Токенизируем**\n",
        "\n",
        "токенизируйте предложения, удалите все стоп-слова (nltk.corpus.stopwords), знаки пунктуации (string.punctuation) и числа;"
      ],
      "metadata": {
        "id": "8bDhc4elG9pF"
      }
    },
    {
      "cell_type": "code",
      "source": [
        "#Для начала просто приведем все к нижнему регистру\n",
        "df_chosen.sentence = df_chosen.sentence.apply(lambda x: x.lower())\n",
        "df_chosen.head(2)"
      ],
      "metadata": {
        "colab": {
          "base_uri": "https://localhost:8080/",
          "height": 112
        },
        "id": "Hrb1IoEXIaSu",
        "outputId": "e46e4c33-96ab-4f38-c5e2-1a2538f94cdc"
      },
      "execution_count": null,
      "outputs": [
        {
          "output_type": "execute_result",
          "data": {
            "text/plain": [
              "                                            sentence   author\n",
              "0  там нет новых лиц, но общество готово принять ...  Tolstoy\n",
              "1  наташа же была весела потому, что она слишком ...  Tolstoy"
            ],
            "text/html": [
              "\n",
              "  <div id=\"df-14fb3a5a-5981-4e14-acf6-a8b3d1bdf961\">\n",
              "    <div class=\"colab-df-container\">\n",
              "      <div>\n",
              "<style scoped>\n",
              "    .dataframe tbody tr th:only-of-type {\n",
              "        vertical-align: middle;\n",
              "    }\n",
              "\n",
              "    .dataframe tbody tr th {\n",
              "        vertical-align: top;\n",
              "    }\n",
              "\n",
              "    .dataframe thead th {\n",
              "        text-align: right;\n",
              "    }\n",
              "</style>\n",
              "<table border=\"1\" class=\"dataframe\">\n",
              "  <thead>\n",
              "    <tr style=\"text-align: right;\">\n",
              "      <th></th>\n",
              "      <th>sentence</th>\n",
              "      <th>author</th>\n",
              "    </tr>\n",
              "  </thead>\n",
              "  <tbody>\n",
              "    <tr>\n",
              "      <th>0</th>\n",
              "      <td>там нет новых лиц, но общество готово принять ...</td>\n",
              "      <td>Tolstoy</td>\n",
              "    </tr>\n",
              "    <tr>\n",
              "      <th>1</th>\n",
              "      <td>наташа же была весела потому, что она слишком ...</td>\n",
              "      <td>Tolstoy</td>\n",
              "    </tr>\n",
              "  </tbody>\n",
              "</table>\n",
              "</div>\n",
              "      <button class=\"colab-df-convert\" onclick=\"convertToInteractive('df-14fb3a5a-5981-4e14-acf6-a8b3d1bdf961')\"\n",
              "              title=\"Convert this dataframe to an interactive table.\"\n",
              "              style=\"display:none;\">\n",
              "        \n",
              "  <svg xmlns=\"http://www.w3.org/2000/svg\" height=\"24px\"viewBox=\"0 0 24 24\"\n",
              "       width=\"24px\">\n",
              "    <path d=\"M0 0h24v24H0V0z\" fill=\"none\"/>\n",
              "    <path d=\"M18.56 5.44l.94 2.06.94-2.06 2.06-.94-2.06-.94-.94-2.06-.94 2.06-2.06.94zm-11 1L8.5 8.5l.94-2.06 2.06-.94-2.06-.94L8.5 2.5l-.94 2.06-2.06.94zm10 10l.94 2.06.94-2.06 2.06-.94-2.06-.94-.94-2.06-.94 2.06-2.06.94z\"/><path d=\"M17.41 7.96l-1.37-1.37c-.4-.4-.92-.59-1.43-.59-.52 0-1.04.2-1.43.59L10.3 9.45l-7.72 7.72c-.78.78-.78 2.05 0 2.83L4 21.41c.39.39.9.59 1.41.59.51 0 1.02-.2 1.41-.59l7.78-7.78 2.81-2.81c.8-.78.8-2.07 0-2.86zM5.41 20L4 18.59l7.72-7.72 1.47 1.35L5.41 20z\"/>\n",
              "  </svg>\n",
              "      </button>\n",
              "      \n",
              "  <style>\n",
              "    .colab-df-container {\n",
              "      display:flex;\n",
              "      flex-wrap:wrap;\n",
              "      gap: 12px;\n",
              "    }\n",
              "\n",
              "    .colab-df-convert {\n",
              "      background-color: #E8F0FE;\n",
              "      border: none;\n",
              "      border-radius: 50%;\n",
              "      cursor: pointer;\n",
              "      display: none;\n",
              "      fill: #1967D2;\n",
              "      height: 32px;\n",
              "      padding: 0 0 0 0;\n",
              "      width: 32px;\n",
              "    }\n",
              "\n",
              "    .colab-df-convert:hover {\n",
              "      background-color: #E2EBFA;\n",
              "      box-shadow: 0px 1px 2px rgba(60, 64, 67, 0.3), 0px 1px 3px 1px rgba(60, 64, 67, 0.15);\n",
              "      fill: #174EA6;\n",
              "    }\n",
              "\n",
              "    [theme=dark] .colab-df-convert {\n",
              "      background-color: #3B4455;\n",
              "      fill: #D2E3FC;\n",
              "    }\n",
              "\n",
              "    [theme=dark] .colab-df-convert:hover {\n",
              "      background-color: #434B5C;\n",
              "      box-shadow: 0px 1px 3px 1px rgba(0, 0, 0, 0.15);\n",
              "      filter: drop-shadow(0px 1px 2px rgba(0, 0, 0, 0.3));\n",
              "      fill: #FFFFFF;\n",
              "    }\n",
              "  </style>\n",
              "\n",
              "      <script>\n",
              "        const buttonEl =\n",
              "          document.querySelector('#df-14fb3a5a-5981-4e14-acf6-a8b3d1bdf961 button.colab-df-convert');\n",
              "        buttonEl.style.display =\n",
              "          google.colab.kernel.accessAllowed ? 'block' : 'none';\n",
              "\n",
              "        async function convertToInteractive(key) {\n",
              "          const element = document.querySelector('#df-14fb3a5a-5981-4e14-acf6-a8b3d1bdf961');\n",
              "          const dataTable =\n",
              "            await google.colab.kernel.invokeFunction('convertToInteractive',\n",
              "                                                     [key], {});\n",
              "          if (!dataTable) return;\n",
              "\n",
              "          const docLinkHtml = 'Like what you see? Visit the ' +\n",
              "            '<a target=\"_blank\" href=https://colab.research.google.com/notebooks/data_table.ipynb>data table notebook</a>'\n",
              "            + ' to learn more about interactive tables.';\n",
              "          element.innerHTML = '';\n",
              "          dataTable['output_type'] = 'display_data';\n",
              "          await google.colab.output.renderOutput(dataTable, element);\n",
              "          const docLink = document.createElement('div');\n",
              "          docLink.innerHTML = docLinkHtml;\n",
              "          element.appendChild(docLink);\n",
              "        }\n",
              "      </script>\n",
              "    </div>\n",
              "  </div>\n",
              "  "
            ]
          },
          "metadata": {},
          "execution_count": 29
        }
      ]
    },
    {
      "cell_type": "code",
      "source": [
        "nltk.download('stopwords')\n",
        "stop_words = nltk.corpus.stopwords.words('russian')"
      ],
      "metadata": {
        "colab": {
          "base_uri": "https://localhost:8080/"
        },
        "id": "YeIaftKOHS22",
        "outputId": "7f820a61-d36f-4950-da44-fb10fd3d49c0"
      },
      "execution_count": null,
      "outputs": [
        {
          "output_type": "stream",
          "name": "stderr",
          "text": [
            "[nltk_data] Downloading package stopwords to /root/nltk_data...\n",
            "[nltk_data]   Unzipping corpora/stopwords.zip.\n"
          ]
        }
      ]
    },
    {
      "cell_type": "code",
      "source": [
        " punctuation = string.punctuation + '–' #забыли про длинный тире, а его очень много в текстах\n",
        " punctuation"
      ],
      "metadata": {
        "colab": {
          "base_uri": "https://localhost:8080/",
          "height": 36
        },
        "id": "n8nr9dLecZAz",
        "outputId": "0954709e-ca1b-401b-e333-624966c9470d"
      },
      "execution_count": null,
      "outputs": [
        {
          "output_type": "execute_result",
          "data": {
            "text/plain": [
              "'!\"#$%&\\'()*+,-./:;<=>?@[\\\\]^_`{|}~–'"
            ],
            "application/vnd.google.colaboratory.intrinsic+json": {
              "type": "string"
            }
          },
          "metadata": {},
          "execution_count": 31
        }
      ]
    },
    {
      "cell_type": "code",
      "source": [
        "word_tokenizer = nltk.WordPunctTokenizer()\n",
        "def process_data(sent): #взято из семинара\n",
        "    texts = []\n",
        "    data = sent.split()\n",
        "    for item in data:\n",
        "        tokens = word_tokenizer.tokenize(item) # splits the text into tokens (words)\n",
        "        tokens = [word for word in tokens if (word not in punctuation and word not in stop_words and word.isdigit() == False)]\n",
        "        if len(tokens) != 0:\n",
        "          texts.append(tokens[0]) # collect the text tokens\n",
        "    return ' '.join(texts)\n",
        "\n",
        "df_chosen['tokened'] = df_chosen.sentence.apply(process_data)\n",
        "df_chosen.head(2)"
      ],
      "metadata": {
        "colab": {
          "base_uri": "https://localhost:8080/",
          "height": 112
        },
        "id": "l8Pz63lTIIw_",
        "outputId": "a1884f5b-04d3-471d-f190-3e0aff8b06cd"
      },
      "execution_count": null,
      "outputs": [
        {
          "output_type": "execute_result",
          "data": {
            "text/plain": [
              "                                            sentence   author  \\\n",
              "0  там нет новых лиц, но общество готово принять ...  Tolstoy   \n",
              "1  наташа же была весела потому, что она слишком ...  Tolstoy   \n",
              "\n",
              "                                             tokened  \n",
              "0  новых лиц общество готово принять всякие новые...  \n",
              "1  наташа весела слишком долго грустна ничто напо...  "
            ],
            "text/html": [
              "\n",
              "  <div id=\"df-79c40d0f-b86b-4b31-bec5-2337406d70d1\">\n",
              "    <div class=\"colab-df-container\">\n",
              "      <div>\n",
              "<style scoped>\n",
              "    .dataframe tbody tr th:only-of-type {\n",
              "        vertical-align: middle;\n",
              "    }\n",
              "\n",
              "    .dataframe tbody tr th {\n",
              "        vertical-align: top;\n",
              "    }\n",
              "\n",
              "    .dataframe thead th {\n",
              "        text-align: right;\n",
              "    }\n",
              "</style>\n",
              "<table border=\"1\" class=\"dataframe\">\n",
              "  <thead>\n",
              "    <tr style=\"text-align: right;\">\n",
              "      <th></th>\n",
              "      <th>sentence</th>\n",
              "      <th>author</th>\n",
              "      <th>tokened</th>\n",
              "    </tr>\n",
              "  </thead>\n",
              "  <tbody>\n",
              "    <tr>\n",
              "      <th>0</th>\n",
              "      <td>там нет новых лиц, но общество готово принять ...</td>\n",
              "      <td>Tolstoy</td>\n",
              "      <td>новых лиц общество готово принять всякие новые...</td>\n",
              "    </tr>\n",
              "    <tr>\n",
              "      <th>1</th>\n",
              "      <td>наташа же была весела потому, что она слишком ...</td>\n",
              "      <td>Tolstoy</td>\n",
              "      <td>наташа весела слишком долго грустна ничто напо...</td>\n",
              "    </tr>\n",
              "  </tbody>\n",
              "</table>\n",
              "</div>\n",
              "      <button class=\"colab-df-convert\" onclick=\"convertToInteractive('df-79c40d0f-b86b-4b31-bec5-2337406d70d1')\"\n",
              "              title=\"Convert this dataframe to an interactive table.\"\n",
              "              style=\"display:none;\">\n",
              "        \n",
              "  <svg xmlns=\"http://www.w3.org/2000/svg\" height=\"24px\"viewBox=\"0 0 24 24\"\n",
              "       width=\"24px\">\n",
              "    <path d=\"M0 0h24v24H0V0z\" fill=\"none\"/>\n",
              "    <path d=\"M18.56 5.44l.94 2.06.94-2.06 2.06-.94-2.06-.94-.94-2.06-.94 2.06-2.06.94zm-11 1L8.5 8.5l.94-2.06 2.06-.94-2.06-.94L8.5 2.5l-.94 2.06-2.06.94zm10 10l.94 2.06.94-2.06 2.06-.94-2.06-.94-.94-2.06-.94 2.06-2.06.94z\"/><path d=\"M17.41 7.96l-1.37-1.37c-.4-.4-.92-.59-1.43-.59-.52 0-1.04.2-1.43.59L10.3 9.45l-7.72 7.72c-.78.78-.78 2.05 0 2.83L4 21.41c.39.39.9.59 1.41.59.51 0 1.02-.2 1.41-.59l7.78-7.78 2.81-2.81c.8-.78.8-2.07 0-2.86zM5.41 20L4 18.59l7.72-7.72 1.47 1.35L5.41 20z\"/>\n",
              "  </svg>\n",
              "      </button>\n",
              "      \n",
              "  <style>\n",
              "    .colab-df-container {\n",
              "      display:flex;\n",
              "      flex-wrap:wrap;\n",
              "      gap: 12px;\n",
              "    }\n",
              "\n",
              "    .colab-df-convert {\n",
              "      background-color: #E8F0FE;\n",
              "      border: none;\n",
              "      border-radius: 50%;\n",
              "      cursor: pointer;\n",
              "      display: none;\n",
              "      fill: #1967D2;\n",
              "      height: 32px;\n",
              "      padding: 0 0 0 0;\n",
              "      width: 32px;\n",
              "    }\n",
              "\n",
              "    .colab-df-convert:hover {\n",
              "      background-color: #E2EBFA;\n",
              "      box-shadow: 0px 1px 2px rgba(60, 64, 67, 0.3), 0px 1px 3px 1px rgba(60, 64, 67, 0.15);\n",
              "      fill: #174EA6;\n",
              "    }\n",
              "\n",
              "    [theme=dark] .colab-df-convert {\n",
              "      background-color: #3B4455;\n",
              "      fill: #D2E3FC;\n",
              "    }\n",
              "\n",
              "    [theme=dark] .colab-df-convert:hover {\n",
              "      background-color: #434B5C;\n",
              "      box-shadow: 0px 1px 3px 1px rgba(0, 0, 0, 0.15);\n",
              "      filter: drop-shadow(0px 1px 2px rgba(0, 0, 0, 0.3));\n",
              "      fill: #FFFFFF;\n",
              "    }\n",
              "  </style>\n",
              "\n",
              "      <script>\n",
              "        const buttonEl =\n",
              "          document.querySelector('#df-79c40d0f-b86b-4b31-bec5-2337406d70d1 button.colab-df-convert');\n",
              "        buttonEl.style.display =\n",
              "          google.colab.kernel.accessAllowed ? 'block' : 'none';\n",
              "\n",
              "        async function convertToInteractive(key) {\n",
              "          const element = document.querySelector('#df-79c40d0f-b86b-4b31-bec5-2337406d70d1');\n",
              "          const dataTable =\n",
              "            await google.colab.kernel.invokeFunction('convertToInteractive',\n",
              "                                                     [key], {});\n",
              "          if (!dataTable) return;\n",
              "\n",
              "          const docLinkHtml = 'Like what you see? Visit the ' +\n",
              "            '<a target=\"_blank\" href=https://colab.research.google.com/notebooks/data_table.ipynb>data table notebook</a>'\n",
              "            + ' to learn more about interactive tables.';\n",
              "          element.innerHTML = '';\n",
              "          dataTable['output_type'] = 'display_data';\n",
              "          await google.colab.output.renderOutput(dataTable, element);\n",
              "          const docLink = document.createElement('div');\n",
              "          docLink.innerHTML = docLinkHtml;\n",
              "          element.appendChild(docLink);\n",
              "        }\n",
              "      </script>\n",
              "    </div>\n",
              "  </div>\n",
              "  "
            ]
          },
          "metadata": {},
          "execution_count": 32
        }
      ]
    },
    {
      "cell_type": "markdown",
      "source": [
        "**Преобразования и стемминг**\n",
        "\n",
        "преобразуйте все символы в нижний регистр и примените стемминг или лемматизацию (на свое усмотрение)"
      ],
      "metadata": {
        "id": "50MX9Yd5HE4Y"
      }
    },
    {
      "cell_type": "code",
      "source": [
        "morph = pymorphy2.MorphAnalyzer() #вроде для русского лучше работает лемматизация. Тоже из семинара 8\n",
        "def lemmatize(text):\n",
        "  stemmed_text = ' '.join([morph.parse(x)[0].normal_form for x in text.split(' ')])\n",
        "  return stemmed_text"
      ],
      "metadata": {
        "id": "H1FQq26LHTjw"
      },
      "execution_count": null,
      "outputs": []
    },
    {
      "cell_type": "code",
      "source": [
        "test_text = 'преобразуйте все символы в нижний регистр и примените стемминг или лемматизацию (на свое усмотрение)'\n",
        "lemmatize(test_text)"
      ],
      "metadata": {
        "colab": {
          "base_uri": "https://localhost:8080/",
          "height": 36
        },
        "id": "sEK6QvuwamEh",
        "outputId": "508d2bd3-4481-4c97-90d7-51d1d583c7be"
      },
      "execution_count": null,
      "outputs": [
        {
          "output_type": "execute_result",
          "data": {
            "text/plain": [
              "'преобразовать всё символ в нижний регистр и применить стемминг или лемматизация (на свой усмотрение)'"
            ],
            "application/vnd.google.colaboratory.intrinsic+json": {
              "type": "string"
            }
          },
          "metadata": {},
          "execution_count": 34
        }
      ]
    },
    {
      "cell_type": "code",
      "source": [
        "df_chosen['lemmas'] = df_chosen.tokened.apply(lemmatize)\n",
        "df_chosen.head(2)"
      ],
      "metadata": {
        "colab": {
          "base_uri": "https://localhost:8080/",
          "height": 112
        },
        "id": "ty1MLlb3bFhB",
        "outputId": "8fedd53c-1bce-4d9b-bbb2-0cd62a4382de"
      },
      "execution_count": null,
      "outputs": [
        {
          "output_type": "execute_result",
          "data": {
            "text/plain": [
              "                                            sentence   author  \\\n",
              "0  там нет новых лиц, но общество готово принять ...  Tolstoy   \n",
              "1  наташа же была весела потому, что она слишком ...  Tolstoy   \n",
              "\n",
              "                                             tokened  \\\n",
              "0  новых лиц общество готово принять всякие новые...   \n",
              "1  наташа весела слишком долго грустна ничто напо...   \n",
              "\n",
              "                                              lemmas  \n",
              "0  новый лицо общество готовый принять всякий нов...  \n",
              "1  наташа весёлый слишком долго грустный ничто на...  "
            ],
            "text/html": [
              "\n",
              "  <div id=\"df-25dc8c9e-0863-49ab-8959-fe618666ff34\">\n",
              "    <div class=\"colab-df-container\">\n",
              "      <div>\n",
              "<style scoped>\n",
              "    .dataframe tbody tr th:only-of-type {\n",
              "        vertical-align: middle;\n",
              "    }\n",
              "\n",
              "    .dataframe tbody tr th {\n",
              "        vertical-align: top;\n",
              "    }\n",
              "\n",
              "    .dataframe thead th {\n",
              "        text-align: right;\n",
              "    }\n",
              "</style>\n",
              "<table border=\"1\" class=\"dataframe\">\n",
              "  <thead>\n",
              "    <tr style=\"text-align: right;\">\n",
              "      <th></th>\n",
              "      <th>sentence</th>\n",
              "      <th>author</th>\n",
              "      <th>tokened</th>\n",
              "      <th>lemmas</th>\n",
              "    </tr>\n",
              "  </thead>\n",
              "  <tbody>\n",
              "    <tr>\n",
              "      <th>0</th>\n",
              "      <td>там нет новых лиц, но общество готово принять ...</td>\n",
              "      <td>Tolstoy</td>\n",
              "      <td>новых лиц общество готово принять всякие новые...</td>\n",
              "      <td>новый лицо общество готовый принять всякий нов...</td>\n",
              "    </tr>\n",
              "    <tr>\n",
              "      <th>1</th>\n",
              "      <td>наташа же была весела потому, что она слишком ...</td>\n",
              "      <td>Tolstoy</td>\n",
              "      <td>наташа весела слишком долго грустна ничто напо...</td>\n",
              "      <td>наташа весёлый слишком долго грустный ничто на...</td>\n",
              "    </tr>\n",
              "  </tbody>\n",
              "</table>\n",
              "</div>\n",
              "      <button class=\"colab-df-convert\" onclick=\"convertToInteractive('df-25dc8c9e-0863-49ab-8959-fe618666ff34')\"\n",
              "              title=\"Convert this dataframe to an interactive table.\"\n",
              "              style=\"display:none;\">\n",
              "        \n",
              "  <svg xmlns=\"http://www.w3.org/2000/svg\" height=\"24px\"viewBox=\"0 0 24 24\"\n",
              "       width=\"24px\">\n",
              "    <path d=\"M0 0h24v24H0V0z\" fill=\"none\"/>\n",
              "    <path d=\"M18.56 5.44l.94 2.06.94-2.06 2.06-.94-2.06-.94-.94-2.06-.94 2.06-2.06.94zm-11 1L8.5 8.5l.94-2.06 2.06-.94-2.06-.94L8.5 2.5l-.94 2.06-2.06.94zm10 10l.94 2.06.94-2.06 2.06-.94-2.06-.94-.94-2.06-.94 2.06-2.06.94z\"/><path d=\"M17.41 7.96l-1.37-1.37c-.4-.4-.92-.59-1.43-.59-.52 0-1.04.2-1.43.59L10.3 9.45l-7.72 7.72c-.78.78-.78 2.05 0 2.83L4 21.41c.39.39.9.59 1.41.59.51 0 1.02-.2 1.41-.59l7.78-7.78 2.81-2.81c.8-.78.8-2.07 0-2.86zM5.41 20L4 18.59l7.72-7.72 1.47 1.35L5.41 20z\"/>\n",
              "  </svg>\n",
              "      </button>\n",
              "      \n",
              "  <style>\n",
              "    .colab-df-container {\n",
              "      display:flex;\n",
              "      flex-wrap:wrap;\n",
              "      gap: 12px;\n",
              "    }\n",
              "\n",
              "    .colab-df-convert {\n",
              "      background-color: #E8F0FE;\n",
              "      border: none;\n",
              "      border-radius: 50%;\n",
              "      cursor: pointer;\n",
              "      display: none;\n",
              "      fill: #1967D2;\n",
              "      height: 32px;\n",
              "      padding: 0 0 0 0;\n",
              "      width: 32px;\n",
              "    }\n",
              "\n",
              "    .colab-df-convert:hover {\n",
              "      background-color: #E2EBFA;\n",
              "      box-shadow: 0px 1px 2px rgba(60, 64, 67, 0.3), 0px 1px 3px 1px rgba(60, 64, 67, 0.15);\n",
              "      fill: #174EA6;\n",
              "    }\n",
              "\n",
              "    [theme=dark] .colab-df-convert {\n",
              "      background-color: #3B4455;\n",
              "      fill: #D2E3FC;\n",
              "    }\n",
              "\n",
              "    [theme=dark] .colab-df-convert:hover {\n",
              "      background-color: #434B5C;\n",
              "      box-shadow: 0px 1px 3px 1px rgba(0, 0, 0, 0.15);\n",
              "      filter: drop-shadow(0px 1px 2px rgba(0, 0, 0, 0.3));\n",
              "      fill: #FFFFFF;\n",
              "    }\n",
              "  </style>\n",
              "\n",
              "      <script>\n",
              "        const buttonEl =\n",
              "          document.querySelector('#df-25dc8c9e-0863-49ab-8959-fe618666ff34 button.colab-df-convert');\n",
              "        buttonEl.style.display =\n",
              "          google.colab.kernel.accessAllowed ? 'block' : 'none';\n",
              "\n",
              "        async function convertToInteractive(key) {\n",
              "          const element = document.querySelector('#df-25dc8c9e-0863-49ab-8959-fe618666ff34');\n",
              "          const dataTable =\n",
              "            await google.colab.kernel.invokeFunction('convertToInteractive',\n",
              "                                                     [key], {});\n",
              "          if (!dataTable) return;\n",
              "\n",
              "          const docLinkHtml = 'Like what you see? Visit the ' +\n",
              "            '<a target=\"_blank\" href=https://colab.research.google.com/notebooks/data_table.ipynb>data table notebook</a>'\n",
              "            + ' to learn more about interactive tables.';\n",
              "          element.innerHTML = '';\n",
              "          dataTable['output_type'] = 'display_data';\n",
              "          await google.colab.output.renderOutput(dataTable, element);\n",
              "          const docLink = document.createElement('div');\n",
              "          docLink.innerHTML = docLinkHtml;\n",
              "          element.appendChild(docLink);\n",
              "        }\n",
              "      </script>\n",
              "    </div>\n",
              "  </div>\n",
              "  "
            ]
          },
          "metadata": {},
          "execution_count": 35
        }
      ]
    },
    {
      "cell_type": "markdown",
      "source": [
        "**Bow и tfidf**\n",
        "\n",
        "постройте векторные представления предложений с помощью bag of words и tf-idf (используйте средства sklearn)"
      ],
      "metadata": {
        "id": "bdlBX0zPHI3Y"
      }
    },
    {
      "cell_type": "code",
      "source": [
        "vectorizer = CountVectorizer(max_features = 50)\n",
        "vectorizer.fit(df_chosen.lemmas.tolist())\n",
        "\n",
        "bow_texts = vectorizer.transform(df_chosen.lemmas)\n",
        "bow_texts.todense()[:-2]"
      ],
      "metadata": {
        "colab": {
          "base_uri": "https://localhost:8080/"
        },
        "id": "-KWzwO25HUCL",
        "outputId": "62467463-64b7-4a5f-8e72-665a4a350b0d"
      },
      "execution_count": null,
      "outputs": [
        {
          "output_type": "execute_result",
          "data": {
            "text/plain": [
              "matrix([[0, 0, 0, ..., 0, 0, 1],\n",
              "        [0, 0, 0, ..., 0, 0, 0],\n",
              "        [0, 1, 0, ..., 0, 0, 0],\n",
              "        ...,\n",
              "        [0, 0, 0, ..., 0, 0, 0],\n",
              "        [0, 0, 0, ..., 0, 0, 0],\n",
              "        [0, 0, 0, ..., 0, 1, 0]])"
            ]
          },
          "metadata": {},
          "execution_count": 36
        }
      ]
    },
    {
      "cell_type": "code",
      "source": [
        "bow_texts.sum()  #это проверяю, что bow не нулевой"
      ],
      "metadata": {
        "colab": {
          "base_uri": "https://localhost:8080/"
        },
        "id": "tty0Wwe7ezxm",
        "outputId": "c2af3658-3177-491c-91cc-68fb4ae4db63"
      },
      "execution_count": null,
      "outputs": [
        {
          "output_type": "execute_result",
          "data": {
            "text/plain": [
              "90206"
            ]
          },
          "metadata": {},
          "execution_count": 37
        }
      ]
    },
    {
      "cell_type": "code",
      "source": [
        "tf_vectorizer = TfidfVectorizer(max_features = 100)\n",
        "tf_vectorizer.fit(df_chosen.lemmas.tolist())\n",
        "\n",
        "tfidf  = tf_vectorizer.transform(df_chosen.lemmas)\n",
        "tfidf.todense()[:-2]"
      ],
      "metadata": {
        "colab": {
          "base_uri": "https://localhost:8080/"
        },
        "id": "_epwyiljiPbq",
        "outputId": "e85959c1-4014-4726-bd69-8bab29a21792"
      },
      "execution_count": null,
      "outputs": [
        {
          "output_type": "execute_result",
          "data": {
            "text/plain": [
              "matrix([[0.        , 0.        , 0.        , ..., 0.        , 0.        ,\n",
              "         0.21769259],\n",
              "        [0.        , 0.        , 0.        , ..., 0.        , 0.        ,\n",
              "         0.        ],\n",
              "        [0.        , 0.        , 0.        , ..., 0.        , 0.        ,\n",
              "         0.        ],\n",
              "        ...,\n",
              "        [0.        , 0.        , 0.        , ..., 0.        , 0.        ,\n",
              "         0.        ],\n",
              "        [0.        , 0.        , 0.        , ..., 0.        , 0.        ,\n",
              "         0.        ],\n",
              "        [0.        , 0.        , 0.        , ..., 0.        , 0.26145252,\n",
              "         0.        ]])"
            ]
          },
          "metadata": {},
          "execution_count": 38
        }
      ]
    },
    {
      "cell_type": "code",
      "source": [
        "tfidf.sum()  #это проверяю, что tfidf не нулевой"
      ],
      "metadata": {
        "colab": {
          "base_uri": "https://localhost:8080/"
        },
        "id": "Z_Lycf1XjMa0",
        "outputId": "8556d702-fde0-47d4-c91c-4577fc69bcf8"
      },
      "execution_count": null,
      "outputs": [
        {
          "output_type": "execute_result",
          "data": {
            "text/plain": [
              "68950.6979369184"
            ]
          },
          "metadata": {},
          "execution_count": 39
        }
      ]
    },
    {
      "cell_type": "markdown",
      "source": [
        "**Обращаем внимание на разницу**\n",
        "\n",
        "обратите внимание на разницу между полученными векторными представлениями: чем отличаются векторы, полученные с помощью bag of words и tf-idf?"
      ],
      "metadata": {
        "id": "emP7U14xHNys"
      }
    },
    {
      "cell_type": "code",
      "source": [
        "print('tf-idf', tfidf.shape, '\\nbow', bow_texts.shape)"
      ],
      "metadata": {
        "colab": {
          "base_uri": "https://localhost:8080/"
        },
        "id": "BvDlzbjmkCTH",
        "outputId": "acebd4a8-9221-4f81-f607-1492431b90b7"
      },
      "execution_count": null,
      "outputs": [
        {
          "output_type": "stream",
          "name": "stdout",
          "text": [
            "tf-idf (62000, 100) \n",
            "bow (62000, 50)\n"
          ]
        }
      ]
    },
    {
      "cell_type": "code",
      "source": [
        "\"\"\"\n",
        "В Bow прежде всего единички и нолики, потому что текст - это массив ноликов и единичек,\n",
        "где для каждого документа есть столбик а единичка на N месте означает, что слово встретилось.\n",
        "\n",
        "В tf idf же представлены числа, каждое из которых показывает важность слова в документе. То есть в нем\n",
        "мы можем нормально отличить самое популярное слово и 50-е по популярности слово\n",
        "\"\"\";\n"
      ],
      "metadata": {
        "id": "Bfc_N7jBBRCi"
      },
      "execution_count": null,
      "outputs": []
    },
    {
      "cell_type": "markdown",
      "metadata": {
        "id": "LuTi3rvnDvZL"
      },
      "source": [
        "###  Бинарная классификация\n",
        "\n",
        "#### 8. [2 балла] Обучете логистическую регрессию (написанную вами реализацию) и SVC (реализацию SVM из sklearn)\n",
        "\n",
        "* выберите **двух** любых авторов из сформированного в задании 7 набора данных\n",
        "* проверьте, сбалансированны ли классы\n",
        "* разделите данные на тренировочную и тестовую выборки, выделив под test 0.3 всех предложений (не забудьте зафиксировать random state)\n",
        "* с помощью GridSearchCV найдите оптимальные гиперпараметры  моделей (согласно метрике F1 score) и используйте найденные гиперпараметры при выполнении следующих пунктов задания\n",
        "* постройте графики зависимости F1 score от гиперпараметров\n",
        "* постройте confusion matrix для train и test\n",
        "* вычислите другие метрики качества для обученной модели (удобно воспользоваться реализацией из sklearn)\n",
        "* проанализируйте полученные значения метрик, сделайте вывод о качестве обученной модели\n"
      ]
    },
    {
      "cell_type": "code",
      "execution_count": null,
      "metadata": {
        "id": "XZUP1HqFDvZL",
        "colab": {
          "base_uri": "https://localhost:8080/"
        },
        "outputId": "497b3e39-cfed-4f87-9ff7-99972bdb69ac"
      },
      "outputs": [
        {
          "output_type": "execute_result",
          "data": {
            "text/plain": [
              "Dostoevsky    0.576923\n",
              "Gorky         0.423077\n",
              "Name: author, dtype: float64"
            ]
          },
          "metadata": {},
          "execution_count": 42
        }
      ],
      "source": [
        "# выберите двух любых авторов из сформированного в задании 7 набора данных\n",
        "df_train = df_chosen[(df_chosen.author == 'Dostoevsky') | (df_chosen.author == 'Gorky')]\n",
        "df_train.author.value_counts(normalize=True) #классы почти сбалансированы, так что можно ничего не предпринимать"
      ]
    },
    {
      "cell_type": "code",
      "source": [
        "X_train_trash, X_test_trash, y_train, y_test = train_test_split(df_train.sentence, df_train.author, test_size=0.3, random_state=42)"
      ],
      "metadata": {
        "id": "p6N8X3Bzm4IU"
      },
      "execution_count": null,
      "outputs": []
    },
    {
      "cell_type": "code",
      "source": [
        "X_train  = tf_vectorizer.transform(X_train_trash)\n",
        "X_test  = tf_vectorizer.transform(X_test_trash)"
      ],
      "metadata": {
        "id": "ujzW-iAqo2sQ"
      },
      "execution_count": null,
      "outputs": []
    },
    {
      "cell_type": "code",
      "source": [
        "opt = GridSearchCV(\n",
        "    SVC(probability=True),\n",
        "    {\n",
        "        'C': (1e-3, 1e+3),\n",
        "      #  'gamma': (1e-3, 1e+3), # их тоже можно перебрать, но у меня слишком долго грузилось =(\n",
        "    #    'degree': (1, 3, 5),\n",
        "        'kernel': ['linear', 'poly', 'rbf'],\n",
        "    },\n",
        "    scoring='f1_macro',\n",
        "    refit=False,\n",
        "    cv=3\n",
        ")\n",
        "\n",
        "opt.fit(X_train, y_train)\n",
        "print(opt.best_params_)"
      ],
      "metadata": {
        "id": "09tI5AMKm3qM",
        "colab": {
          "base_uri": "https://localhost:8080/"
        },
        "outputId": "a9c938e5-c5f4-4eb2-b447-c59e6c10579b"
      },
      "execution_count": null,
      "outputs": [
        {
          "output_type": "stream",
          "name": "stdout",
          "text": [
            "{'C': 1000.0, 'kernel': 'rbf'}\n"
          ]
        }
      ]
    },
    {
      "cell_type": "code",
      "source": [
        "opt.cv_results_"
      ],
      "metadata": {
        "id": "xTjYz5h4bc3D",
        "colab": {
          "base_uri": "https://localhost:8080/"
        },
        "outputId": "a1fedd4e-10c1-48ae-aa39-8ff0e14a4db9"
      },
      "execution_count": null,
      "outputs": [
        {
          "output_type": "execute_result",
          "data": {
            "text/plain": [
              "{'mean_fit_time': array([ 15.34205715,  17.71852207,  24.85444204, 322.94966547,\n",
              "         28.20911463,  26.74686464]),\n",
              " 'std_fit_time': array([9.61751683e-02, 2.64233273e-01, 5.22543410e-02, 5.48343473e+01,\n",
              "        1.87448192e+00, 1.35025760e-01]),\n",
              " 'mean_score_time': array([0.78327235, 0.96402001, 1.65821481, 0.76109616, 0.87308145,\n",
              "        1.5969878 ]),\n",
              " 'std_score_time': array([0.0255963 , 0.01640136, 0.01186776, 0.02651588, 0.01531542,\n",
              "        0.00303855]),\n",
              " 'param_C': masked_array(data=[0.001, 0.001, 0.001, 1000.0, 1000.0, 1000.0],\n",
              "              mask=[False, False, False, False, False, False],\n",
              "        fill_value='?',\n",
              "             dtype=object),\n",
              " 'param_kernel': masked_array(data=['linear', 'poly', 'rbf', 'linear', 'poly', 'rbf'],\n",
              "              mask=[False, False, False, False, False, False],\n",
              "        fill_value='?',\n",
              "             dtype=object),\n",
              " 'params': [{'C': 0.001, 'kernel': 'linear'},\n",
              "  {'C': 0.001, 'kernel': 'poly'},\n",
              "  {'C': 0.001, 'kernel': 'rbf'},\n",
              "  {'C': 1000.0, 'kernel': 'linear'},\n",
              "  {'C': 1000.0, 'kernel': 'poly'},\n",
              "  {'C': 1000.0, 'kernel': 'rbf'}],\n",
              " 'split0_test_score': array([0.36630457, 0.36630457, 0.36630457, 0.49462262, 0.51459398,\n",
              "        0.51731783]),\n",
              " 'split1_test_score': array([0.36623838, 0.36623838, 0.36623838, 0.48910232, 0.49923605,\n",
              "        0.50322108]),\n",
              " 'split2_test_score': array([0.36627664, 0.36627664, 0.36627664, 0.49365203, 0.50664604,\n",
              "        0.50797355]),\n",
              " 'mean_test_score': array([0.3662732 , 0.3662732 , 0.3662732 , 0.49245899, 0.50682536,\n",
              "        0.50950415]),\n",
              " 'std_test_score': array([2.71338443e-05, 2.71338443e-05, 2.71338443e-05, 2.40637082e-03,\n",
              "        6.27112821e-03, 5.85585966e-03]),\n",
              " 'rank_test_score': array([4, 4, 4, 3, 2, 1], dtype=int32)}"
            ]
          },
          "metadata": {},
          "execution_count": 46
        }
      ]
    },
    {
      "cell_type": "code",
      "source": [
        "relevant_results = ['mean_test_score', 'std_test_score', 'params']"
      ],
      "metadata": {
        "id": "znuFxxvL9iTq"
      },
      "execution_count": null,
      "outputs": []
    },
    {
      "cell_type": "code",
      "source": [
        "optimal = SVC(kernel='rbf', C=1000.0, probability=True)\n",
        "optimal.fit(X_train, y_train)\n",
        "y_pred = optimal.predict(X_test)"
      ],
      "metadata": {
        "id": "UAqMEfOp8iMc"
      },
      "execution_count": null,
      "outputs": []
    },
    {
      "cell_type": "code",
      "source": [
        "print(classification_report(y_test, y_pred))"
      ],
      "metadata": {
        "colab": {
          "base_uri": "https://localhost:8080/"
        },
        "id": "XZjjykpw87Rs",
        "outputId": "7e5cffdc-1da3-4b50-ba73-3eb3454cdc05"
      },
      "execution_count": null,
      "outputs": [
        {
          "output_type": "stream",
          "name": "stdout",
          "text": [
            "              precision    recall  f1-score   support\n",
            "\n",
            "  Dostoevsky       0.60      0.88      0.72      4481\n",
            "       Gorky       0.57      0.21      0.30      3319\n",
            "\n",
            "    accuracy                           0.60      7800\n",
            "   macro avg       0.59      0.55      0.51      7800\n",
            "weighted avg       0.59      0.60      0.54      7800\n",
            "\n"
          ]
        }
      ]
    },
    {
      "cell_type": "code",
      "source": [
        "#постройте графики зависимости F1 score от гиперпараметров\n",
        "df = pd.DataFrame()\n",
        "for key in relevant_results:\n",
        "\n",
        "        df[key] = opt.cv_results_[key]\n",
        "\n",
        "df['kernel'] = df.params.apply(lambda x: x['kernel'])\n",
        "df['C'] = df.params.apply(lambda x: x['C'])\n",
        "\n",
        "\n",
        "sns.barplot(x = \"kernel\", y = \"mean_test_score\", hue=\"C\", data = df).set(title = 'f1-score', xlabel=\"\");"
      ],
      "metadata": {
        "id": "j_0-RRIU9HmE",
        "colab": {
          "base_uri": "https://localhost:8080/",
          "height": 457
        },
        "outputId": "ced95382-cfdf-485d-e0aa-c79cc8bf41f7"
      },
      "execution_count": null,
      "outputs": [
        {
          "output_type": "display_data",
          "data": {
            "text/plain": [
              "<Figure size 640x480 with 1 Axes>"
            ],
            "image/png": "[encoded data removed]"
          },
          "metadata": {}
        }
      ]
    },
    {
      "cell_type": "code",
      "source": [
        "from sklearn.metrics import *\n",
        "\n",
        "def show_results(test_y, pred, proba): #из сема\n",
        "    print(\"Precision: {0:6.2f}\".format(precision_score(test_y, pred, average='macro')))\n",
        "    print(\"Recall: {0:6.2f}\".format(recall_score(test_y, pred, average='macro')))\n",
        "    print(\"F1-measure: {0:6.2f}\".format(f1_score(test_y, pred, average='macro')))\n",
        "    print(\"Accuracy: {0:6.2f}\".format(accuracy_score(test_y, pred)))\n",
        "    print(\"ROC-AUC: {0:6.2f}\".format(roc_auc_score(test_y, proba[:,1]),))\n",
        "    labels = ['negative','positive']\n",
        "\n",
        "    #classification_report\n",
        "    sns.heatmap(data=confusion_matrix(test_y, pred), annot=True, fmt=\"d\", cbar=False, xticklabels=labels, yticklabels=labels)\n",
        "    plt.title(\"Confusion matrix \")\n",
        "    plt.show()"
      ],
      "metadata": {
        "id": "GnT8xH3iEIgE"
      },
      "execution_count": null,
      "outputs": []
    },
    {
      "cell_type": "code",
      "source": [
        "#постройте confusion matrix для train и test\n",
        "proba  = optimal.predict_proba(X_test)\n",
        "show_results(y_test, y_pred, proba)"
      ],
      "metadata": {
        "id": "EoexUBMd-G5u",
        "colab": {
          "base_uri": "https://localhost:8080/",
          "height": 544
        },
        "outputId": "b2a2e0a0-509e-45e2-e270-81981db90085"
      },
      "execution_count": null,
      "outputs": [
        {
          "output_type": "stream",
          "name": "stdout",
          "text": [
            "Precision:   0.59\n",
            "Recall:   0.55\n",
            "F1-measure:   0.51\n",
            "Accuracy:   0.60\n",
            "ROC-AUC:   0.56\n"
          ]
        },
        {
          "output_type": "display_data",
          "data": {
            "text/plain": [
              "<Figure size 640x480 with 1 Axes>"
            ],
            "image/png": "[encoded data removed]"
          },
          "metadata": {}
        }
      ]
    },
    {
      "cell_type": "code",
      "source": [
        "#вычислите другие метрики качества для обученной модели (удобно воспользоваться реализацией из sklearn)\n"
      ],
      "metadata": {
        "id": "f2xUrRVH-Gzg"
      },
      "execution_count": null,
      "outputs": []
    },
    {
      "cell_type": "code",
      "source": [
        "balanced_accuracy_score(y_test, y_pred)"
      ],
      "metadata": {
        "colab": {
          "base_uri": "https://localhost:8080/"
        },
        "id": "ba8xgYZ8MKTh",
        "outputId": "803f4cc6-92cb-4881-b360-646f95319ff5"
      },
      "execution_count": null,
      "outputs": [
        {
          "output_type": "execute_result",
          "data": {
            "text/plain": [
              "0.5462198903623003"
            ]
          },
          "metadata": {},
          "execution_count": 54
        }
      ]
    },
    {
      "cell_type": "code",
      "source": [
        "print(classification_report(y_test, y_pred))"
      ],
      "metadata": {
        "id": "flAJw0biFZwT",
        "colab": {
          "base_uri": "https://localhost:8080/"
        },
        "outputId": "73d62c95-41fc-4f50-8951-90501586d36b"
      },
      "execution_count": null,
      "outputs": [
        {
          "output_type": "stream",
          "name": "stdout",
          "text": [
            "              precision    recall  f1-score   support\n",
            "\n",
            "  Dostoevsky       0.60      0.88      0.72      4481\n",
            "       Gorky       0.57      0.21      0.30      3319\n",
            "\n",
            "    accuracy                           0.60      7800\n",
            "   macro avg       0.59      0.55      0.51      7800\n",
            "weighted avg       0.59      0.60      0.54      7800\n",
            "\n"
          ]
        }
      ]
    },
    {
      "cell_type": "code",
      "source": [
        "#проанализируйте полученные значения метрик, сделайте вывод о качестве обученной модели\n",
        "\"\"\"\n",
        "Видно, что модель ориентируется на Достоевского. Несмотря на то, что данные почти хорошо сбалансированы,\n",
        "она все равно плохо узнает Горького.\n",
        "В целом, accuracy 0.6 и recall 0.21 на одном из классов - плохая модель, но лучше случайной\n",
        "balanced accuracy 0.55, что говорит о том, что модель работает почти как случайная😭😭😭😭😭😭😭\n",
        "\"\"\""
      ],
      "metadata": {
        "id": "mMMNHow2-Iq-",
        "colab": {
          "base_uri": "https://localhost:8080/",
          "height": 53
        },
        "outputId": "dc16393d-4776-4a3e-8ab1-73c0675dddda"
      },
      "execution_count": null,
      "outputs": [
        {
          "output_type": "execute_result",
          "data": {
            "text/plain": [
              "'\\nВидно, что модель ориентируется на Достоевского. Несмотря на то, что данные почти хорошо сбалансированы,\\nона все равно плохо узнает Горького.\\nВ целом, accuracy 0.6 и recall 0.21 на одном из классов - плохая модель, но лучше случайной\\n'"
            ],
            "application/vnd.google.colaboratory.intrinsic+json": {
              "type": "string"
            }
          },
          "metadata": {},
          "execution_count": 56
        }
      ]
    },
    {
      "cell_type": "markdown",
      "metadata": {
        "id": "5G1kt0qbDvZL"
      },
      "source": [
        "#### 9. [1 балл] ROC AUC\n",
        "\n",
        "Можно контролировать статистические ошибки первого и второго типов, используя различные пороговые значения для определения классов. Постройте ROC-кривые для логистической регрессии и SVC. Подберите такой порог, чтобы частота ложноположительных срабатываний составляла не более 30%. Обратите внимание на параметр `thresholds` в sklearn roc_curve."
      ]
    },
    {
      "cell_type": "code",
      "execution_count": null,
      "metadata": {
        "id": "BZ2GZ8-uDvZL",
        "colab": {
          "base_uri": "https://localhost:8080/"
        },
        "outputId": "380b0dfc-fd16-42e0-96ec-77852b114527"
      },
      "outputs": [
        {
          "output_type": "stream",
          "name": "stderr",
          "text": [
            "/usr/local/lib/python3.10/dist-packages/sklearn/metrics/_ranking.py:1029: UndefinedMetricWarning: No positive samples in y_true, true positive value should be meaningless\n",
            "  warnings.warn(\n"
          ]
        }
      ],
      "source": [
        "y_pred_proba = proba[:,1]\n",
        "fpr, tpr, _ = roc_curve (y_test, y_pred_proba, pos_label=1)"
      ]
    },
    {
      "cell_type": "code",
      "source": [
        "ns_probs = [0 for _ in range(len(y_test))]\n",
        "lr_probs  = optimal.predict_proba(X_test)"
      ],
      "metadata": {
        "id": "fB3oYCJQPFqF"
      },
      "execution_count": null,
      "outputs": []
    },
    {
      "cell_type": "code",
      "source": [
        "ns_fpr, ns_tpr, _ = roc_curve(y_test, ns_probs, pos_label='Dostoevsky')\n",
        "lr_fpr, lr_tpr, _ = roc_curve(y_test, lr_probs[::,1], pos_label='Dostoevsky')"
      ],
      "metadata": {
        "id": "bGW21Mm_SiD5"
      },
      "execution_count": null,
      "outputs": []
    },
    {
      "cell_type": "code",
      "source": [
        "plt.plot (lr_fpr,lr_tpr)\n",
        "plt.plot (ns_fpr,ns_tpr)\n",
        "plt.ylabel('True Positive Rate')\n",
        "plt.xlabel('False Positive Rate');"
      ],
      "metadata": {
        "colab": {
          "base_uri": "https://localhost:8080/",
          "height": 458
        },
        "id": "UZRpIJLRS7WS",
        "outputId": "ffcf1716-a9a2-40a5-bb46-fc37050dbc90"
      },
      "execution_count": null,
      "outputs": [
        {
          "output_type": "display_data",
          "data": {
            "text/plain": [
              "<Figure size 640x480 with 1 Axes>"
            ],
            "image/png": "[encoded data removed]"
          },
          "metadata": {}
        }
      ]
    },
    {
      "cell_type": "markdown",
      "metadata": {
        "id": "C-qubaK4DvZM"
      },
      "source": [
        "### Многоклассовая классификация"
      ]
    },
    {
      "cell_type": "markdown",
      "metadata": {
        "id": "yJQone-LDvZM"
      },
      "source": [
        "#### 10. [1 балл] Примените <a href=\"https://scikit-learn.org/stable/modules/generated/sklearn.multiclass.OneVsOneClassifier.html\">OneVsOneClassifier</a> из sklearn к реализованной логистической регресии для того, чтобы получить многоклассовый линейный классификатор:\n",
        "* используйте набор данных, подготовленный в задании 7\n",
        "* разделите данные на тренировочную и тестовую выборки, выделив под test 0.3 всех предложений (не забудьте зафиксировать random state)\n",
        "* с помощью GridSearchCV найдите оптимальные гиперпараметры моделей (согласно метрике F1 score)\n",
        "* постройте confusion matrix для train и test\n",
        "* вычислите другие метрики качества для обученной модели (удобно воспользоваться реализацией из sklearn)\n",
        "* проанализируйте полученные значения метрик, сделайте вывод о качестве обученной модели"
      ]
    },
    {
      "cell_type": "code",
      "source": [
        "from sklearn.multiclass import OneVsOneClassifier\n",
        "from sklearn.svm import LinearSVC"
      ],
      "metadata": {
        "id": "a-qtWErUVR91"
      },
      "execution_count": null,
      "outputs": []
    },
    {
      "cell_type": "code",
      "source": [
        "X_train_trash, X_test_trash, y_train, y_test = train_test_split(df_chosen.sentence, df_chosen.author, test_size=0.3, random_state=42)"
      ],
      "metadata": {
        "id": "l8QrcSBjUrHw"
      },
      "execution_count": null,
      "outputs": []
    },
    {
      "cell_type": "code",
      "source": [
        "X_train  = tf_vectorizer.transform(X_train_trash)\n",
        "X_test  = tf_vectorizer.transform(X_test_trash)"
      ],
      "metadata": {
        "id": "OPBRfRD2UrHw"
      },
      "execution_count": null,
      "outputs": []
    },
    {
      "cell_type": "code",
      "source": [
        "clf = OneVsOneClassifier(LinearSVC(random_state=0)).fit(X_train, y_train)\n",
        "y_pred = clf.predict(X_test)"
      ],
      "metadata": {
        "id": "wQVYSc1NVKv8"
      },
      "execution_count": null,
      "outputs": []
    },
    {
      "cell_type": "code",
      "source": [
        "print(classification_report(y_test, y_pred));"
      ],
      "metadata": {
        "colab": {
          "base_uri": "https://localhost:8080/"
        },
        "id": "Nqn2-QY7Vsza",
        "outputId": "f0c4bf06-daac-460f-d0bd-9dbd38264057"
      },
      "execution_count": null,
      "outputs": [
        {
          "output_type": "stream",
          "name": "stdout",
          "text": [
            "              precision    recall  f1-score   support\n",
            "\n",
            "  Dostoevsky       0.34      0.24      0.28      4536\n",
            "       Gorky       0.35      0.13      0.19      3362\n",
            "      Herzen       0.00      0.00      0.00       847\n",
            "     Pushkin       0.00      0.00      0.00      1485\n",
            "     Tolstoy       0.34      0.81      0.48      5980\n",
            "    Turgenev       0.17      0.00      0.01      2390\n",
            "\n",
            "    accuracy                           0.34     18600\n",
            "   macro avg       0.20      0.20      0.16     18600\n",
            "weighted avg       0.28      0.34      0.26     18600\n",
            "\n"
          ]
        }
      ]
    },
    {
      "cell_type": "code",
      "source": [
        "proba  = optimal.predict_proba(X_test)"
      ],
      "metadata": {
        "id": "07fFSIhbYvQ1"
      },
      "execution_count": null,
      "outputs": []
    },
    {
      "cell_type": "code",
      "source": [
        "def show_results(test_y, pred, proba): #из сема\n",
        "    print(\"Precision: {0:6.2f}\".format(precision_score(test_y, pred, average='macro')))\n",
        "    print(\"Recall: {0:6.2f}\".format(recall_score(test_y, pred, average='macro')))\n",
        "    print(\"F1-measure: {0:6.2f}\".format(f1_score(test_y, pred, average='macro')))\n",
        "    print(\"Accuracy: {0:6.2f}\".format(accuracy_score(test_y, pred)))\n",
        "  #  print(\"ROC-AUC: {0:6.2f}\".format(roc_auc_score(test_y, proba[:,1], multi_class='ovo'),))\n",
        "    labels = ['negative','positive']\n",
        "\n",
        "    #classification_report\n",
        "    sns.heatmap(data=confusion_matrix(test_y, pred), annot=True, fmt=\"d\", cbar=False, xticklabels=labels, yticklabels=labels)\n",
        "    plt.title(\"Confusion matrix \")\n",
        "    plt.show()"
      ],
      "metadata": {
        "id": "OrNQtQ5bW67e"
      },
      "execution_count": null,
      "outputs": []
    },
    {
      "cell_type": "code",
      "source": [
        "show_results(y_test, y_pred, proba)"
      ],
      "metadata": {
        "colab": {
          "base_uri": "https://localhost:8080/",
          "height": 526
        },
        "id": "bcb8MfBqVsrQ",
        "outputId": "4a882b3a-0e41-4af8-e275-5908c41c9042"
      },
      "execution_count": null,
      "outputs": [
        {
          "output_type": "stream",
          "name": "stdout",
          "text": [
            "Precision:   0.20\n",
            "Recall:   0.20\n",
            "F1-measure:   0.16\n",
            "Accuracy:   0.34\n"
          ]
        },
        {
          "output_type": "display_data",
          "data": {
            "text/plain": [
              "<Figure size 640x480 with 1 Axes>"
            ],
            "image/png": "[encoded data removed]"
          },
          "metadata": {}
        }
      ]
    },
    {
      "cell_type": "code",
      "source": [
        "\"\"\"\n",
        "презижн 0.3 для самых многокнижных писателей, для остальных почти 0\n",
        "в целом это круче, чем случайные результаты и норм для мегамногоклассовой классификации, но можно сказать, что модель плохая(\n",
        "\"\"\""
      ],
      "metadata": {
        "id": "AEIMVnUjWP40"
      },
      "execution_count": null,
      "outputs": []
    }
  ],
  "metadata": {
    "colab": {
      "provenance": [],
      "machine_shape": "hm"
    },
    "kernelspec": {
      "display_name": "Python 3 (ipykernel)",
      "language": "python",
      "name": "python3"
    },
    "language_info": {
      "codemirror_mode": {
        "name": "ipython",
        "version": 3
      },
      "file_extension": ".py",
      "mimetype": "text/x-python",
      "name": "python",
      "nbconvert_exporter": "python",
      "pygments_lexer": "ipython3",
      "version": "3.9.7"
    },
    "gpuClass": "standard"
  },
  "nbformat": 4,
  "nbformat_minor": 0
}
