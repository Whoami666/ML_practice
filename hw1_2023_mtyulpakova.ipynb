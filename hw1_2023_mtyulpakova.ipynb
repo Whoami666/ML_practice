{
  "cells": [
    {
      "cell_type": "markdown",
      "metadata": {
        "id": "IrmH_uV0u_i0"
      },
      "source": [
        "# HSE 2023: Введение в машинное обучение БИ 22/23\n",
        "\n",
        "## ДЗ 1"
      ]
    },
    {
      "cell_type": "markdown",
      "metadata": {
        "id": "WcoDnmABu_i1"
      },
      "source": [
        "### Внимание!\n",
        "* Если в задании просят объяснить что-либо, то это значит, что требуется **письменный ответ**, который **является** частью задания и оценивается\n",
        "* **Не** загружайте датасет (titanic.csv) в тестирующую систему (он у нас и так есть)\n",
        "* Мы **только** принимаем **ipynb** ноутбуки. Если вы используете Google Colab, то вам необходимо скачать ноутбук перед сдачей ДЗ\n",
        "* **Не** используйте циклы python вместо векторных операций NumPy над векторами NumPy - это сильно влияет на производительность (можете почитать почему https://blog.paperspace.com/numpy-optimization-vectorization-and-broadcasting/), наказывается -0.25 за **каждое** задание. Циклы разрешены только в части 1 (Задания 1 - 4).\n",
        "* Некоторые задания содержат тесты. Они тестируют ваше решение только для простых случаев. Таким образом, прохождение теста, **не** гарантирует полной оценки за задание."
      ]
    },
    {
      "cell_type": "code",
      "execution_count": null,
      "metadata": {
        "id": "ObtgG7t_u_i1"
      },
      "outputs": [],
      "source": [
        "%matplotlib inline\n",
        "import numpy as np\n",
        "import pandas as pd\n",
        "import matplotlib.pyplot as plt\n",
        "import seaborn as sns"
      ]
    },
    {
      "cell_type": "markdown",
      "metadata": {
        "id": "idyGotcwu_i1"
      },
      "source": [
        "# 1. Python (2 балла)"
      ]
    },
    {
      "cell_type": "markdown",
      "metadata": {
        "id": "dxBU_eBUu_i2"
      },
      "source": [
        "**Задание 1** (0.5 балла)<br/>\n",
        "Даны ненулевые числа `a`,  `r` и `N`. Найдите произведение первых `N` членов геометрической прогрессии с первым членом `a` и множителем `r` без использования формулы для произведения первых `N` членов"
      ]
    },
    {
      "cell_type": "code",
      "execution_count": null,
      "metadata": {
        "id": "TQbn2PgKu_i2",
        "colab": {
          "base_uri": "https://localhost:8080/"
        },
        "outputId": "83053ef2-8820-4767-e2d9-1937f0593e25"
      },
      "outputs": [
        {
          "output_type": "stream",
          "name": "stdout",
          "text": [
            "216.0\n"
          ]
        }
      ],
      "source": [
        "def find_product(a,r,N):\n",
        "    progression = np.geomspace(start = a, stop = a*r**(N-1), num=N)\n",
        "    return np.prod(progression)\n",
        "\n",
        "def find_product_nonumpy(a, r, N): #на всякий случай, если нельзя использовать np\n",
        "    product = 1\n",
        "    for step in range(N):\n",
        "      product = product*(a*r**step)\n",
        "    return product\n",
        "\n",
        "a = 2\n",
        "r = 3\n",
        "N = 3\n",
        "print(find_product(a,r,N))\n",
        "#print(find_product_nonumpy(a,r,N))"
      ]
    },
    {
      "cell_type": "markdown",
      "metadata": {
        "id": "gspEVSEMu_i2"
      },
      "source": [
        "**Задание 2** (0.5 балла) <br/>\n",
        "Дано целое число `N`. Проверьте является ли оно палиндромом. Это значит, что число читается одинаково слева направо и справа налево."
      ]
    },
    {
      "cell_type": "code",
      "source": [
        "#Будем переводить строку, чтобы было проще обращаться с нулями\n",
        "a = 1000\n",
        "str(a)[::-1]"
      ],
      "metadata": {
        "colab": {
          "base_uri": "https://localhost:8080/",
          "height": 36
        },
        "id": "uRyFME72PjKl",
        "outputId": "5160a22b-10ef-4387-8fdc-d66542cd63c8"
      },
      "execution_count": null,
      "outputs": [
        {
          "output_type": "execute_result",
          "data": {
            "text/plain": [
              "'0001'"
            ],
            "application/vnd.google.colaboratory.intrinsic+json": {
              "type": "string"
            }
          },
          "metadata": {},
          "execution_count": 10
        }
      ]
    },
    {
      "cell_type": "code",
      "execution_count": null,
      "metadata": {
        "id": "eEcqsleju_i2",
        "colab": {
          "base_uri": "https://localhost:8080/"
        },
        "outputId": "208fa40e-2924-44fa-e8b7-885c3b044e6d"
      },
      "outputs": [
        {
          "output_type": "stream",
          "name": "stdout",
          "text": [
            "3 True\n",
            "81 False\n",
            "111 True\n",
            "113 False\n",
            "810 False\n",
            "2022 False\n",
            "4774 True\n",
            "51315 True\n",
            "611816 False\n"
          ]
        }
      ],
      "source": [
        "def check_palindrome(N):\n",
        "    reverse = str(N)[::-1] #переворачиваем число\n",
        "    str_n = str(N)\n",
        "    for digit in range(int(len(str_n)/2)):\n",
        "      if reverse[digit] != str_n[digit]:\n",
        "        return False\n",
        "    return True\n",
        "\n",
        "for N in [3, 81, 111, 113, 810, 2022, 4774, 51315, 611816]:\n",
        "    print(N, check_palindrome(N))"
      ]
    },
    {
      "cell_type": "markdown",
      "metadata": {
        "id": "WetE-7MDu_i2"
      },
      "source": [
        "**Задание 3** (0.5 балла) <br/>\n",
        "Найдите первые `N` палиндромов для чисел, начинающихся от 1000 (вы можете использовать функцию из предыдущего задания)."
      ]
    },
    {
      "cell_type": "code",
      "execution_count": null,
      "metadata": {
        "id": "13myo0gsu_i2",
        "colab": {
          "base_uri": "https://localhost:8080/"
        },
        "outputId": "be8f23b6-c09c-4daa-9b31-2f49202dc94c"
      },
      "outputs": [
        {
          "output_type": "stream",
          "name": "stdout",
          "text": [
            "[1001, 1111, 1221, 1331, 1441]\n",
            "[1001, 1111, 1221, 1331, 1441, 1551, 1661, 1771, 1881, 1991]\n",
            "[1001, 1111, 1221, 1331, 1441, 1551, 1661, 1771, 1881, 1991, 2002, 2112, 2222, 2332, 2442, 2552, 2662, 2772, 2882, 2992]\n"
          ]
        }
      ],
      "source": [
        "def find_palindromes(N):\n",
        "  answer = []\n",
        "  number = 1000\n",
        "  while len(answer) < N:\n",
        "    if number % 10 > 0: #дополнительная проверка для ускорения функции\n",
        "      if check_palindrome(number):\n",
        "        answer.append(number)\n",
        "    number += 1\n",
        "  return answer\n",
        "\n",
        "print(find_palindromes(5))\n",
        "print(find_palindromes(10))\n",
        "print(find_palindromes(20))"
      ]
    },
    {
      "cell_type": "markdown",
      "metadata": {
        "id": "QdDoCHCru_i2"
      },
      "source": [
        "**Задание 4** (0.5 балла) <br/>\n",
        "Даны числа: `a`, `b`, `c`. Без использования функций `min`, `max` и других, найдите минимальное."
      ]
    },
    {
      "cell_type": "code",
      "execution_count": null,
      "metadata": {
        "id": "5iVQkAGZu_i2",
        "colab": {
          "base_uri": "https://localhost:8080/"
        },
        "outputId": "943c5f44-d4a7-4b4d-ea95-8277670b2973"
      },
      "outputs": [
        {
          "output_type": "stream",
          "name": "stdout",
          "text": [
            "-95 26 -18 \tMinimum: -95\n",
            "-63 16 -4 \tMinimum: -63\n",
            "18 90 53 \tMinimum: 18\n",
            "65 -48 -76 \tMinimum: -76\n",
            "-11 -92 55 \tMinimum: -92\n",
            "53 -50 -69 \tMinimum: -69\n",
            "-21 86 60 \tMinimum: -21\n",
            "70 -27 -16 \tMinimum: -27\n",
            "-73 -16 93 \tMinimum: -73\n",
            "34 -19 62 \tMinimum: -19\n"
          ]
        }
      ],
      "source": [
        "from random import randint\n",
        "\n",
        "def find_min(a, b, c):\n",
        "    if a <= b: #b точно не минимальное\n",
        "      return a if a <= c else c #находим минимальное между a и с\n",
        "    else: #a точно не минимальное\n",
        "      return b if b <= c else c #находим минимальное между b и с\n",
        "\n",
        "for i in range(10):\n",
        "    a = randint(-100, 100)\n",
        "    b = randint(-100, 100)\n",
        "    c = randint(-100, 100)\n",
        "\n",
        "    print(a, b, c, '\\tMinimum:', find_min(a, b, c))"
      ]
    },
    {
      "cell_type": "markdown",
      "metadata": {
        "id": "yIksU4iVu_i2"
      },
      "source": [
        "# 2. Numpy (4 балла)"
      ]
    },
    {
      "cell_type": "markdown",
      "metadata": {
        "id": "VQw-52COu_i3"
      },
      "source": [
        "**Задание 1** (0.5 балла) <br/>\n",
        "Создайте случайный numpy вектор (`np.random.rand()`) длины 17 и с суммой элементов равной 6."
      ]
    },
    {
      "cell_type": "code",
      "source": [
        "#вот таким образом получаем сумму равную 1, и чтобы получить 6, будем домножать ее на 6\n",
        "array = np.random.rand(17)\n",
        "print(sum(array/np.sum(array)))"
      ],
      "metadata": {
        "colab": {
          "base_uri": "https://localhost:8080/"
        },
        "id": "UVhxv0ocWAZP",
        "outputId": "02ca0ee8-ef9a-41d2-b8a7-8d817f320e03"
      },
      "execution_count": null,
      "outputs": [
        {
          "output_type": "stream",
          "name": "stdout",
          "text": [
            "1.0\n"
          ]
        }
      ]
    },
    {
      "cell_type": "code",
      "execution_count": null,
      "metadata": {
        "id": "gjdtC0VCu_i3",
        "colab": {
          "base_uri": "https://localhost:8080/"
        },
        "outputId": "2523fd66-ebc2-4551-c2da-79a7dfe0457b"
      },
      "outputs": [
        {
          "output_type": "stream",
          "name": "stdout",
          "text": [
            "Length: 17\n",
            "Sum of elements: 6.0\n"
          ]
        }
      ],
      "source": [
        "array = np.random.rand(17)\n",
        "my_array = 6*(array/np.sum(array))\n",
        "print(f'Length: {len(my_array)}')\n",
        "print(f'Sum of elements: {np.sum(my_array)}')"
      ]
    },
    {
      "cell_type": "markdown",
      "metadata": {
        "id": "5Lb84IeOu_i3"
      },
      "source": [
        "**Задание 2** (0.5 балла) <br/>\n",
        "Создайте два случайных вектора $a$ и $b$ одинаковой длины.\n",
        "\n",
        "Расчитайте следующие расстояния между векторами **без использования специальных функций. Вы можете использовать только базовые операции numpy  (`np.linalg.*` и другие высокоуровневые методы и пакеты запрещены).**:\n",
        "\n",
        "* Manhattan\n",
        "$$ d(a, b) = \\sum_i |a_i - b_i| $$\n",
        "* Euclidean\n",
        "$$ d(a, b) = \\sqrt{\\sum_i (a_i - b_i)^2} $$\n",
        "* Chebyshev\n",
        "$$ d(a, b) = \\underset{i}{max} |a_i - b_i| $$\n",
        "* Cosine\n",
        "$$ d(a, b) = 1 - \\frac{a^\\top b}{||a||_2\\cdot||b||_2} $$\n"
      ]
    },
    {
      "cell_type": "code",
      "source": [
        "n = np.random.randint(1, 50, size = 1)[0] #любое целое число от 1 до 50\n",
        "vec1 = np.random.rand(n)\n",
        "vec2 = np.random.rand(n)"
      ],
      "metadata": {
        "id": "rkJdXiddXEK_"
      },
      "execution_count": null,
      "outputs": []
    },
    {
      "cell_type": "code",
      "execution_count": null,
      "metadata": {
        "id": "3i1qjTf_u_i3"
      },
      "outputs": [],
      "source": [
        "def calculate_manhattan(a, b):\n",
        "    return sum(np.absolute(a - b))\n",
        "\n",
        "def calculate_euclidean(a, b):\n",
        "    return np.sqrt(sum((a - b)**2))\n",
        "\n",
        "def calculate_chebyshev(a, b):\n",
        "    return np.absolute(a - b).max()\n",
        "\n",
        "def calculate_cosine(a, b):\n",
        "    return 1 - np.dot(a, b)/(np.sqrt(np.square(a).sum())*np.sqrt(np.square(b).sum()))"
      ]
    },
    {
      "cell_type": "code",
      "execution_count": null,
      "metadata": {
        "id": "kyU2jHw-u_i3",
        "colab": {
          "base_uri": "https://localhost:8080/"
        },
        "outputId": "5373ca06-91f7-430e-c5f1-4160a770f388"
      },
      "outputs": [
        {
          "output_type": "stream",
          "name": "stdout",
          "text": [
            "Manhattan distance: 17.19765742242589\n",
            "Euclidean distance: 2.9931237130129156\n",
            "Chebyshev distance: 0.9023051223565877\n",
            "Cosine distance: 0.26092323199882694\n"
          ]
        }
      ],
      "source": [
        "a = vec1\n",
        "b = vec2\n",
        "print(f'Manhattan distance: {calculate_manhattan(a, b)}')\n",
        "print(f'Euclidean distance: {calculate_euclidean(a, b)}')\n",
        "print(f'Chebyshev distance: {calculate_chebyshev(a, b)}')\n",
        "print(f'Cosine distance: {calculate_cosine(a, b)}')"
      ]
    },
    {
      "cell_type": "markdown",
      "source": [
        "Тесты (самопроверка)"
      ],
      "metadata": {
        "id": "S7ATxkCLaZKM"
      }
    },
    {
      "cell_type": "code",
      "source": [
        "from scipy.spatial import distance\n",
        "\n",
        "assert round(calculate_manhattan(a, b), 5) == round(distance.cityblock(a, b), 5), \\\n",
        "    f\"manhattan got {calculate_manhattan(a, b)}, need {distance.cityblock(a, b)}\"\n",
        "\n",
        "assert round(calculate_euclidean(a, b), 5) == round(distance.euclidean(a, b), 5), \\\n",
        "    f\"euclidean got {calculate_euclidean(a, b)}, need {distance.euclidean(a, b)}\"\n",
        "\n",
        "assert round(calculate_chebyshev(a, b), 5) == round(distance.chebyshev(a, b), 5), \\\n",
        "    f\"chebyshev got {calculate_chebyshev(a, b)}, need {distance.chebyshev(a, b)}\"\n",
        "\n",
        "assert round(calculate_cosine(a, b), 5) == round(distance.cosine(a, b), 5), \\\n",
        "    f\"cosine got {calculate_cosine(a, b)}, need {distance.cosine(a, b)}\""
      ],
      "metadata": {
        "id": "dhNE-BmKYKCn"
      },
      "execution_count": null,
      "outputs": []
    },
    {
      "cell_type": "markdown",
      "metadata": {
        "id": "pKx7nOIDu_i3"
      },
      "source": [
        "**Задание 3** (0.5 балла) <br/>\n",
        "Создайте случайный вектор (`np.random.randint()`) длины 76. Трансформируйте вектор так, чтобы после преобразования он имел следующие свойства\n",
        "* Максимальный элемент -1\n",
        "* Минимальный элемент -4\n",
        "* Оставшиеся значения в интервале (-4; -1) без изменения относительного порядка ([1, 2, 4] -> [0.1, 0.2, 0.4] - порядок сохранен)"
      ]
    },
    {
      "cell_type": "code",
      "execution_count": null,
      "metadata": {
        "id": "2LCEp7Yru_i3"
      },
      "outputs": [],
      "source": [
        "def transform(array):\n",
        "  array = -1*array #разворачиваем относительный порядок (было 1, 10 - стало -10, -1), потому что потом он будет меняться при нормализации\n",
        "  arr = (array - np.min(array))/(np.max(array) - np.min(array))\n",
        "  #теперь все значения от 0 до 1, где 0 - минимальное, 1 - максимальное\n",
        "  #значит, для изначальных чисел у нас 0 - максимальное, 1 - минимальное\n",
        "\n",
        "  arr = -3*arr - 1 #чтобы все числа красиво лежали между -4 и -1\n",
        "  #бывшее 0 стало -1, бывшее 1 стало -4, красиво =)\n",
        "  return(arr)"
      ]
    },
    {
      "cell_type": "code",
      "execution_count": null,
      "metadata": {
        "id": "VeERsV55u_i3",
        "colab": {
          "base_uri": "https://localhost:8080/"
        },
        "outputId": "f118f8f8-6671-44ea-c453-0b133738f845"
      },
      "outputs": [
        {
          "output_type": "stream",
          "name": "stdout",
          "text": [
            "Min: -4.0\n",
            "Max: -1.0\n",
            "Array:\n",
            "[-1.24489796 -1.91836735 -2.13265306 -1.48979592 -1.         -2.04081633\n",
            " -1.91836735 -2.95918367 -3.02040816 -3.87755102 -1.73469388 -2.95918367\n",
            " -2.34693878 -2.56122449 -1.48979592 -1.73469388 -2.62244898 -2.68367347\n",
            " -1.58163265 -3.51020408 -1.12244898 -2.5        -3.35714286 -1.09183673\n",
            " -2.07142857 -3.63265306 -3.57142857 -1.36734694 -1.06122449 -3.1122449\n",
            " -3.81632653 -1.97959184 -3.60204082 -1.91836735 -1.09183673 -2.86734694\n",
            " -2.04081633 -2.04081633 -2.56122449 -3.84693878 -3.93877551 -3.84693878\n",
            " -2.13265306 -3.1122449  -3.78571429 -2.7755102  -3.78571429 -3.47959184\n",
            " -2.2244898  -2.86734694 -3.96938776 -1.94897959 -3.3877551  -3.08163265\n",
            " -1.45918367 -2.2244898  -2.28571429 -3.84693878 -1.15306122 -1.94897959\n",
            " -2.19387755 -2.16326531 -3.78571429 -3.44897959 -3.44897959 -1.2755102\n",
            " -2.5        -4.         -1.64285714 -2.46938776 -1.36734694 -3.63265306\n",
            " -1.70408163 -3.26530612 -1.12244898 -1.45918367]\n"
          ]
        }
      ],
      "source": [
        "array = np.random.randint(1, 100, size=76)\n",
        "my_array = transform(array)\n",
        "print(f'Min: {np.min(my_array)}')\n",
        "print(f'Max: {np.max(my_array)}')\n",
        "print('Array:')\n",
        "print(my_array)"
      ]
    },
    {
      "cell_type": "markdown",
      "source": [
        "Визуальный тест (самопроверка)"
      ],
      "metadata": {
        "id": "Weom-zzUyyDj"
      }
    },
    {
      "cell_type": "code",
      "source": [
        "import matplotlib.pyplot as plt\n",
        "\n",
        "fig, axes = plt.subplots(1, 2, figsize=(15, 5))\n",
        "\n",
        "plt.subplot(1, 2, 1) # row 1, col 2 index 1\n",
        "plt.hist(transform(array), bins='auto', edgecolor='black', linewidth=1.2)\n",
        "plt.title(\"Новый array\")\n",
        "plt.xlabel('Числа')\n",
        "plt.ylabel('Количество')\n",
        "\n",
        "plt.subplot(1, 2, 2) # index 2\n",
        "plt.hist(array, bins='auto', edgecolor='black', linewidth=1.2)\n",
        "plt.title(\"Старый array\")\n",
        "plt.xlabel('Числа')\n",
        "plt.ylabel('Количество')\n",
        "\n",
        "plt.show()"
      ],
      "metadata": {
        "colab": {
          "base_uri": "https://localhost:8080/",
          "height": 350
        },
        "id": "eY7foSkfysbc",
        "outputId": "7f4bae38-2920-459d-ec05-6223d57e124a"
      },
      "execution_count": null,
      "outputs": [
        {
          "output_type": "display_data",
          "data": {
            "text/plain": [
              "<Figure size 1080x360 with 2 Axes>"
            ],
            "image/png": "[encoded data removed]"
          },
          "metadata": {
            "needs_background": "light"
          }
        }
      ]
    },
    {
      "cell_type": "markdown",
      "metadata": {
        "id": "ikj1TzBou_i4"
      },
      "source": [
        "**Задание 4** (0.5 балла) <br/>\n",
        "Создайте матрицу размерности $8 \\times 5$ с целыми числами из промежутка [-7, 43]. Выведите колонку, которая содержит максимальный элемент матрицы."
      ]
    },
    {
      "cell_type": "code",
      "execution_count": null,
      "metadata": {
        "id": "L9gUC6muu_i4",
        "colab": {
          "base_uri": "https://localhost:8080/"
        },
        "outputId": "4f7eeee5-242e-4461-f715-e62d5e888eca"
      },
      "outputs": [
        {
          "output_type": "stream",
          "name": "stdout",
          "text": [
            "Shape:  (8, 5)\n",
            "Array:\n",
            "[[32  0  4 32  3]\n",
            " [36 33 21 42  4]\n",
            " [ 8  8  8 13 27]\n",
            " [39 -2  4 37 -2]\n",
            " [16 10 -3 19 34]\n",
            " [27 31 32 30 15]\n",
            " [35 -4 39 23 32]\n",
            " [40 -3 32 -3 11]]\n",
            "Selected column: [32 42 13 37 19 30 23 -3]\n"
          ]
        }
      ],
      "source": [
        "my_array = np.random.randint(-7, 43, size=(8, 5))\n",
        "over_max = my_array.max(axis=0) #массив с максимальными элементами из каждой колонки\n",
        "index_max = np.where(over_max == over_max.max())[0][0] #index колонки с максимальным элементом\n",
        "selected_column = my_array[:,index_max]\n",
        "\n",
        "print('Shape: ', my_array.shape)\n",
        "print('Array:')\n",
        "print(my_array)\n",
        "print(f'Selected column: {selected_column}')"
      ]
    },
    {
      "cell_type": "markdown",
      "metadata": {
        "id": "ELUgWbuCu_i4"
      },
      "source": [
        "**Задание 5** (0.5 балла) <br/>\n",
        "\n",
        "Замените все пропущенные значения на медиану."
      ]
    },
    {
      "cell_type": "code",
      "execution_count": null,
      "metadata": {
        "id": "HdCSNq6su_i4",
        "colab": {
          "base_uri": "https://localhost:8080/"
        },
        "outputId": "81039174-1a14-422d-806f-7399ffbad1d9"
      },
      "outputs": [
        {
          "output_type": "stream",
          "name": "stdout",
          "text": [
            "Array:\n",
            "[       nan 0.90598076        nan        nan 0.97580478 0.89973832\n",
            " 0.25930055 0.63489082 0.93789234 0.23571546]\n"
          ]
        }
      ],
      "source": [
        "arr = np.random.rand(10)\n",
        "idx = np.random.randint(0, 10, 4)\n",
        "arr[idx] = np.nan\n",
        "\n",
        "print('Array:')\n",
        "print(arr)"
      ]
    },
    {
      "cell_type": "code",
      "execution_count": null,
      "metadata": {
        "id": "1x0lLJIou_i4"
      },
      "outputs": [],
      "source": [
        "def replace_missing(arr):\n",
        "  return np.nan_to_num(arr, nan=np.median(arr[arr == arr])) #считаем медиану, не охватывая NaN значения, иначе медиана просто NaN"
      ]
    },
    {
      "cell_type": "code",
      "execution_count": null,
      "metadata": {
        "id": "YNM2wugsu_i4",
        "colab": {
          "base_uri": "https://localhost:8080/"
        },
        "outputId": "de9480a2-b777-4c6b-dc17-67b9507a5d63"
      },
      "outputs": [
        {
          "output_type": "stream",
          "name": "stdout",
          "text": [
            "Array with no missing values:\n",
            "[0.89973832 0.90598076 0.89973832 0.89973832 0.97580478 0.89973832\n",
            " 0.25930055 0.63489082 0.93789234 0.23571546]\n"
          ]
        }
      ],
      "source": [
        "arr = replace_missing(arr)\n",
        "print('Array with no missing values:')\n",
        "print(arr)"
      ]
    },
    {
      "cell_type": "markdown",
      "metadata": {
        "id": "VAyCrq0pu_i4"
      },
      "source": [
        "**Задание 6** (0.5 балла) <br/>\n",
        "Создайте функцию, которая принимает на вход картинку ```X``` (3D вектор размерности (n, m, 3)) и возвращает среднее по всем 3 каналам (вектор размерности 3)."
      ]
    },
    {
      "cell_type": "code",
      "execution_count": null,
      "metadata": {
        "id": "reopsWZhu_i4"
      },
      "outputs": [],
      "source": [
        "def mean_channel(X):\n",
        "    print(X)\n",
        "    return X.mean(axis=(0, 1))"
      ]
    },
    {
      "cell_type": "code",
      "execution_count": null,
      "metadata": {
        "id": "0pk_6UCIu_i4",
        "colab": {
          "base_uri": "https://localhost:8080/"
        },
        "outputId": "d7977d20-9733-492a-bc29-b7204bb2429a"
      },
      "outputs": [
        {
          "output_type": "stream",
          "name": "stdout",
          "text": [
            "[[[  6  -8   5]\n",
            "  [  1   2  -7]\n",
            "  [  7  -3  -8]]\n",
            "\n",
            " [[-11   2   1]\n",
            "  [ -4  -1  -9]\n",
            "  [  0   0  -1]]\n",
            "\n",
            " [[  5   2  -1]\n",
            "  [  3   4   5]\n",
            "  [  2  -8  -2]]]\n",
            "Vector of means: [ 1.         -1.11111111 -1.88888889]\n"
          ]
        }
      ],
      "source": [
        "n = 3\n",
        "m = 3\n",
        "X =  np.random.randint(-11, 8, size=(n, m, 3))\n",
        "print(f'Vector of means: {mean_channel(X)}')"
      ]
    },
    {
      "cell_type": "markdown",
      "metadata": {
        "id": "zNVfuaw8u_i4"
      },
      "source": [
        "**Задание 7** (1 балл) <br/>\n",
        "Создайте функцию, которая принимает 3D вектор ```X``` на вход и возвращает все уникальные слои по 1 оси.\n",
        "\n",
        "Пример входных данных:\n",
        "\n",
        "     ([[[1, 2, 3],\n",
        "        [1, 2, 3],\n",
        "        [1, 2, 3]],\n",
        "\n",
        "       [[4, 5, 6],\n",
        "        [4, 5, 7]\n",
        "        [4, 5, 6]],\n",
        "\n",
        "       [[7, 8, 9],\n",
        "        [7, 8, 9]\n",
        "        [7, 8, 9]]])\n",
        "        \n",
        "Пример выходных:\n",
        "\n",
        "     ([[[1, 2, 3],\n",
        "        [1, 2, 3]],\n",
        "\n",
        "       [[4, 5, 6],\n",
        "        [4, 5, 7]],\n",
        "\n",
        "       [[7, 8, 9],\n",
        "        [7, 8, 9]]])"
      ]
    },
    {
      "cell_type": "code",
      "execution_count": null,
      "metadata": {
        "id": "WK2AxWP9u_i4"
      },
      "outputs": [],
      "source": [
        "def get_unique_rows(X):\n",
        "    return np.unique(X, axis=1)"
      ]
    },
    {
      "cell_type": "code",
      "execution_count": null,
      "metadata": {
        "id": "n2OWA2e2u_i4",
        "colab": {
          "base_uri": "https://localhost:8080/"
        },
        "outputId": "02040910-8f8b-46d3-b108-021799b65459"
      },
      "outputs": [
        {
          "output_type": "stream",
          "name": "stdout",
          "text": [
            "Matrix:\n",
            "[[[4 5 4]\n",
            "  [4 5 5]\n",
            "  [4 4 4]]\n",
            "\n",
            " [[5 5 5]\n",
            "  [4 5 5]\n",
            "  [4 5 4]]\n",
            "\n",
            " [[5 5 5]\n",
            "  [4 5 4]\n",
            "  [5 4 5]]]\n",
            "Unique rows:\n",
            "[[[4 4 4]\n",
            "  [4 5 4]\n",
            "  [4 5 5]]\n",
            "\n",
            " [[4 5 4]\n",
            "  [5 5 5]\n",
            "  [4 5 5]]\n",
            "\n",
            " [[5 4 5]\n",
            "  [5 5 5]\n",
            "  [4 5 4]]]\n"
          ]
        }
      ],
      "source": [
        "X =  np.random.randint(4, 6, size=(n, 3, 3))\n",
        "print('Matrix:')\n",
        "print(X)\n",
        "print('Unique rows:')\n",
        "print(get_unique_rows(X)) #на моих рандомных числах не работает, но на тесте работает (см. ниже)"
      ]
    },
    {
      "cell_type": "markdown",
      "source": [
        "Самопроверка"
      ],
      "metadata": {
        "id": "QIJPRqawkp4t"
      }
    },
    {
      "cell_type": "code",
      "source": [
        "test_matrix = np.array(([[[1, 2, 3],\n",
        "    [1, 2, 3],\n",
        "    [1, 2, 3]],\n",
        "\n",
        "   [[4, 5, 6],\n",
        "    [4, 5, 7],\n",
        "    [4, 5, 6]],\n",
        "\n",
        "   [[7, 8, 9],\n",
        "    [7, 8, 9],\n",
        "    [7, 8, 9]]]))\n",
        "\n",
        "print(get_unique_rows(test_matrix))"
      ],
      "metadata": {
        "colab": {
          "base_uri": "https://localhost:8080/"
        },
        "id": "2oVVW0uIkXgC",
        "outputId": "af58e004-db82-4b77-c4fd-5eada03267dd"
      },
      "execution_count": null,
      "outputs": [
        {
          "output_type": "stream",
          "name": "stdout",
          "text": [
            "[[[1 2 3]\n",
            "  [1 2 3]]\n",
            "\n",
            " [[4 5 6]\n",
            "  [4 5 7]]\n",
            "\n",
            " [[7 8 9]\n",
            "  [7 8 9]]]\n"
          ]
        }
      ]
    },
    {
      "cell_type": "markdown",
      "metadata": {
        "id": "SV5MpkyRu_i4"
      },
      "source": [
        "# 3. Pandas & Visualization (4 балла)\n"
      ]
    },
    {
      "cell_type": "markdown",
      "metadata": {
        "id": "etPZTWr3u_i4"
      },
      "source": [
        "Вам предстоит работа с датасетом *Titanic*, который содержит информацию о пассажирах Титаника:\n",
        "- **Survived** - 1 - выжил, 0 - умер (0); **Целевая переменная**\n",
        "- **pclass** - класс пассажира;\n",
        "- **sex** - пол пассажира\n",
        "- **Age** - возраст пассажира в годах\n",
        "- **sibsp**    - есть ли на борту братья и сестры   \n",
        "- **parch**    - есть ли на борту родители или дети\n",
        "- **ticket** - номер билета    \n",
        "- **fare** - цена билета    \n",
        "- **cabin** - номер каюты\n",
        "- **embarked** - порт посадки; C = Cherbourg, Q = Queenstown, S = Southampton\n",
        "\n",
        "**Заметка** Для всех визуализаций используйте  matplotlib или seaborn, но НЕ plotly! Графики Plotly иногда исчезают после сохранения. В этом случае задание оценено не будет.\n",
        "\n",
        "**Заметка** все ваши ответы должны быть поддержаны необходимым кодом, вычислениями, визуализацией и объяснениями. Ответы без кода и объяснений оцениваться не будут.\n",
        "\n",
        "**Задание 0** (0 баллов) \\\n",
        "Загрузите датасет и выведите первые 5 строк"
      ]
    },
    {
      "cell_type": "code",
      "execution_count": null,
      "metadata": {
        "id": "WjVXWqhZu_i5",
        "colab": {
          "base_uri": "https://localhost:8080/",
          "height": 206
        },
        "outputId": "541dfdf5-a7aa-475b-dce4-6a143a9748e3"
      },
      "outputs": [
        {
          "output_type": "execute_result",
          "data": {
            "text/plain": [
              "   PassengerId  Survived  Pclass  \\\n",
              "0            1         0       3   \n",
              "1            2         1       1   \n",
              "2            3         1       3   \n",
              "3            4         1       1   \n",
              "4            5         0       3   \n",
              "\n",
              "                                                Name     Sex   Age  SibSp  \\\n",
              "0                            Braund, Mr. Owen Harris    male  22.0      1   \n",
              "1  Cumings, Mrs. John Bradley (Florence Briggs Th...  female  38.0      1   \n",
              "2                             Heikkinen, Miss. Laina  female  26.0      0   \n",
              "3       Futrelle, Mrs. Jacques Heath (Lily May Peel)  female  35.0      1   \n",
              "4                           Allen, Mr. William Henry    male  35.0      0   \n",
              "\n",
              "   Parch            Ticket     Fare Cabin Embarked  \n",
              "0      0         A/5 21171   7.2500   NaN        S  \n",
              "1      0          PC 17599  71.2833   C85        C  \n",
              "2      0  STON/O2. 3101282   7.9250   NaN        S  \n",
              "3      0            113803  53.1000  C123        S  \n",
              "4      0            373450   8.0500   NaN        S  "
            ],
            "text/html": [
              "\n",
              "  <div id=\"df-2494d672-287a-446c-832f-11079ba5065f\">\n",
              "    <div class=\"colab-df-container\">\n",
              "      <div>\n",
              "<style scoped>\n",
              "    .dataframe tbody tr th:only-of-type {\n",
              "        vertical-align: middle;\n",
              "    }\n",
              "\n",
              "    .dataframe tbody tr th {\n",
              "        vertical-align: top;\n",
              "    }\n",
              "\n",
              "    .dataframe thead th {\n",
              "        text-align: right;\n",
              "    }\n",
              "</style>\n",
              "<table border=\"1\" class=\"dataframe\">\n",
              "  <thead>\n",
              "    <tr style=\"text-align: right;\">\n",
              "      <th></th>\n",
              "      <th>PassengerId</th>\n",
              "      <th>Survived</th>\n",
              "      <th>Pclass</th>\n",
              "      <th>Name</th>\n",
              "      <th>Sex</th>\n",
              "      <th>Age</th>\n",
              "      <th>SibSp</th>\n",
              "      <th>Parch</th>\n",
              "      <th>Ticket</th>\n",
              "      <th>Fare</th>\n",
              "      <th>Cabin</th>\n",
              "      <th>Embarked</th>\n",
              "    </tr>\n",
              "  </thead>\n",
              "  <tbody>\n",
              "    <tr>\n",
              "      <th>0</th>\n",
              "      <td>1</td>\n",
              "      <td>0</td>\n",
              "      <td>3</td>\n",
              "      <td>Braund, Mr. Owen Harris</td>\n",
              "      <td>male</td>\n",
              "      <td>22.0</td>\n",
              "      <td>1</td>\n",
              "      <td>0</td>\n",
              "      <td>A/5 21171</td>\n",
              "      <td>7.2500</td>\n",
              "      <td>NaN</td>\n",
              "      <td>S</td>\n",
              "    </tr>\n",
              "    <tr>\n",
              "      <th>1</th>\n",
              "      <td>2</td>\n",
              "      <td>1</td>\n",
              "      <td>1</td>\n",
              "      <td>Cumings, Mrs. John Bradley (Florence Briggs Th...</td>\n",
              "      <td>female</td>\n",
              "      <td>38.0</td>\n",
              "      <td>1</td>\n",
              "      <td>0</td>\n",
              "      <td>PC 17599</td>\n",
              "      <td>71.2833</td>\n",
              "      <td>C85</td>\n",
              "      <td>C</td>\n",
              "    </tr>\n",
              "    <tr>\n",
              "      <th>2</th>\n",
              "      <td>3</td>\n",
              "      <td>1</td>\n",
              "      <td>3</td>\n",
              "      <td>Heikkinen, Miss. Laina</td>\n",
              "      <td>female</td>\n",
              "      <td>26.0</td>\n",
              "      <td>0</td>\n",
              "      <td>0</td>\n",
              "      <td>STON/O2. 3101282</td>\n",
              "      <td>7.9250</td>\n",
              "      <td>NaN</td>\n",
              "      <td>S</td>\n",
              "    </tr>\n",
              "    <tr>\n",
              "      <th>3</th>\n",
              "      <td>4</td>\n",
              "      <td>1</td>\n",
              "      <td>1</td>\n",
              "      <td>Futrelle, Mrs. Jacques Heath (Lily May Peel)</td>\n",
              "      <td>female</td>\n",
              "      <td>35.0</td>\n",
              "      <td>1</td>\n",
              "      <td>0</td>\n",
              "      <td>113803</td>\n",
              "      <td>53.1000</td>\n",
              "      <td>C123</td>\n",
              "      <td>S</td>\n",
              "    </tr>\n",
              "    <tr>\n",
              "      <th>4</th>\n",
              "      <td>5</td>\n",
              "      <td>0</td>\n",
              "      <td>3</td>\n",
              "      <td>Allen, Mr. William Henry</td>\n",
              "      <td>male</td>\n",
              "      <td>35.0</td>\n",
              "      <td>0</td>\n",
              "      <td>0</td>\n",
              "      <td>373450</td>\n",
              "      <td>8.0500</td>\n",
              "      <td>NaN</td>\n",
              "      <td>S</td>\n",
              "    </tr>\n",
              "  </tbody>\n",
              "</table>\n",
              "</div>\n",
              "      <button class=\"colab-df-convert\" onclick=\"convertToInteractive('df-2494d672-287a-446c-832f-11079ba5065f')\"\n",
              "              title=\"Convert this dataframe to an interactive table.\"\n",
              "              style=\"display:none;\">\n",
              "        \n",
              "  <svg xmlns=\"http://www.w3.org/2000/svg\" height=\"24px\"viewBox=\"0 0 24 24\"\n",
              "       width=\"24px\">\n",
              "    <path d=\"M0 0h24v24H0V0z\" fill=\"none\"/>\n",
              "    <path d=\"M18.56 5.44l.94 2.06.94-2.06 2.06-.94-2.06-.94-.94-2.06-.94 2.06-2.06.94zm-11 1L8.5 8.5l.94-2.06 2.06-.94-2.06-.94L8.5 2.5l-.94 2.06-2.06.94zm10 10l.94 2.06.94-2.06 2.06-.94-2.06-.94-.94-2.06-.94 2.06-2.06.94z\"/><path d=\"M17.41 7.96l-1.37-1.37c-.4-.4-.92-.59-1.43-.59-.52 0-1.04.2-1.43.59L10.3 9.45l-7.72 7.72c-.78.78-.78 2.05 0 2.83L4 21.41c.39.39.9.59 1.41.59.51 0 1.02-.2 1.41-.59l7.78-7.78 2.81-2.81c.8-.78.8-2.07 0-2.86zM5.41 20L4 18.59l7.72-7.72 1.47 1.35L5.41 20z\"/>\n",
              "  </svg>\n",
              "      </button>\n",
              "      \n",
              "  <style>\n",
              "    .colab-df-container {\n",
              "      display:flex;\n",
              "      flex-wrap:wrap;\n",
              "      gap: 12px;\n",
              "    }\n",
              "\n",
              "    .colab-df-convert {\n",
              "      background-color: #E8F0FE;\n",
              "      border: none;\n",
              "      border-radius: 50%;\n",
              "      cursor: pointer;\n",
              "      display: none;\n",
              "      fill: #1967D2;\n",
              "      height: 32px;\n",
              "      padding: 0 0 0 0;\n",
              "      width: 32px;\n",
              "    }\n",
              "\n",
              "    .colab-df-convert:hover {\n",
              "      background-color: #E2EBFA;\n",
              "      box-shadow: 0px 1px 2px rgba(60, 64, 67, 0.3), 0px 1px 3px 1px rgba(60, 64, 67, 0.15);\n",
              "      fill: #174EA6;\n",
              "    }\n",
              "\n",
              "    [theme=dark] .colab-df-convert {\n",
              "      background-color: #3B4455;\n",
              "      fill: #D2E3FC;\n",
              "    }\n",
              "\n",
              "    [theme=dark] .colab-df-convert:hover {\n",
              "      background-color: #434B5C;\n",
              "      box-shadow: 0px 1px 3px 1px rgba(0, 0, 0, 0.15);\n",
              "      filter: drop-shadow(0px 1px 2px rgba(0, 0, 0, 0.3));\n",
              "      fill: #FFFFFF;\n",
              "    }\n",
              "  </style>\n",
              "\n",
              "      <script>\n",
              "        const buttonEl =\n",
              "          document.querySelector('#df-2494d672-287a-446c-832f-11079ba5065f button.colab-df-convert');\n",
              "        buttonEl.style.display =\n",
              "          google.colab.kernel.accessAllowed ? 'block' : 'none';\n",
              "\n",
              "        async function convertToInteractive(key) {\n",
              "          const element = document.querySelector('#df-2494d672-287a-446c-832f-11079ba5065f');\n",
              "          const dataTable =\n",
              "            await google.colab.kernel.invokeFunction('convertToInteractive',\n",
              "                                                     [key], {});\n",
              "          if (!dataTable) return;\n",
              "\n",
              "          const docLinkHtml = 'Like what you see? Visit the ' +\n",
              "            '<a target=\"_blank\" href=https://colab.research.google.com/notebooks/data_table.ipynb>data table notebook</a>'\n",
              "            + ' to learn more about interactive tables.';\n",
              "          element.innerHTML = '';\n",
              "          dataTable['output_type'] = 'display_data';\n",
              "          await google.colab.output.renderOutput(dataTable, element);\n",
              "          const docLink = document.createElement('div');\n",
              "          docLink.innerHTML = docLinkHtml;\n",
              "          element.appendChild(docLink);\n",
              "        }\n",
              "      </script>\n",
              "    </div>\n",
              "  </div>\n",
              "  "
            ]
          },
          "metadata": {},
          "execution_count": 42
        }
      ],
      "source": [
        "df = pd.read_csv(\"https://raw.githubusercontent.com/datasciencedojo/datasets/master/titanic.csv\", sep=\",\")\n",
        "df.head()"
      ]
    },
    {
      "cell_type": "markdown",
      "metadata": {
        "id": "u1DLMGZau_i5"
      },
      "source": [
        "**Задание 1** (1 балл) <br/>\n",
        "Ответьте на следующие вопросы:\n",
        "    \n",
        "    * Есть ли в датасете пропущенные значения? В каких колонках?\n",
        "    * Какой процент пассажирова выжил? Сбалансированы ли классы пассажиров?\n",
        "    * Кого больше, мужчин или женщин?\n",
        "    * Какой наименее популярный порт посадки?\n",
        "    * Сколько классов пассажиров (pclass) было на титанике?\n",
        "    * Какова средняя цена билета? И средняя цена в зависимости от класса пассажира?\n",
        "Пожалуйста, указывайте не только ответ, но и код, с помощью которого вы его получили."
      ]
    },
    {
      "cell_type": "markdown",
      "source": [
        "Есть ли в датасете пропущенные значения? В каких колонках?"
      ],
      "metadata": {
        "id": "gwfTSFG0Cxgv"
      }
    },
    {
      "cell_type": "code",
      "execution_count": null,
      "metadata": {
        "id": "c_xdEapMu_i5",
        "colab": {
          "base_uri": "https://localhost:8080/"
        },
        "outputId": "577d1833-9d77-41b3-b7cc-3cd2cf41a5fc"
      },
      "outputs": [
        {
          "output_type": "execute_result",
          "data": {
            "text/plain": [
              "PassengerId      0\n",
              "Survived         0\n",
              "Pclass           0\n",
              "Name             0\n",
              "Sex              0\n",
              "Age            177\n",
              "SibSp            0\n",
              "Parch            0\n",
              "Ticket           0\n",
              "Fare             0\n",
              "Cabin          687\n",
              "Embarked         2\n",
              "dtype: int64"
            ]
          },
          "metadata": {},
          "execution_count": 342
        }
      ],
      "source": [
        "df.isnull().sum() #да, есть. В колонках Age и Cabin"
      ]
    },
    {
      "cell_type": "markdown",
      "source": [
        "Какой процент пассажирова выжил? Сбалансированы ли классы пассажиров?"
      ],
      "metadata": {
        "id": "ZrzVg2LiDNj-"
      }
    },
    {
      "cell_type": "code",
      "source": [
        "#умерло чуть более 61%, выжило чуть более 38%\n",
        "round(df.Survived.value_counts(normalize=True)*100, 1)"
      ],
      "metadata": {
        "colab": {
          "base_uri": "https://localhost:8080/"
        },
        "id": "vBI4GKyQFCA-",
        "outputId": "4726f6fb-b1c3-438b-9452-009b37f57b3a"
      },
      "execution_count": null,
      "outputs": [
        {
          "output_type": "execute_result",
          "data": {
            "text/plain": [
              "0    61.6\n",
              "1    38.4\n",
              "Name: Survived, dtype: float64"
            ]
          },
          "metadata": {},
          "execution_count": 6
        }
      ]
    },
    {
      "cell_type": "code",
      "source": [
        "#нет, классы не сбалансированны, видно, что в классе 3 умерло более 75% процентов пассажиров, тогда как в классе 1 - менее 40%\n",
        "round(df.groupby(['Pclass']).Survived.value_counts(normalize=True)*100, 1)"
      ],
      "metadata": {
        "colab": {
          "base_uri": "https://localhost:8080/"
        },
        "id": "_lJU_zK7DZdY",
        "outputId": "8fca9bf7-c07e-45f9-fca0-4a78a83d8dad"
      },
      "execution_count": null,
      "outputs": [
        {
          "output_type": "execute_result",
          "data": {
            "text/plain": [
              "Pclass  Survived\n",
              "1       1           63.0\n",
              "        0           37.0\n",
              "2       0           52.7\n",
              "        1           47.3\n",
              "3       0           75.8\n",
              "        1           24.2\n",
              "Name: Survived, dtype: float64"
            ]
          },
          "metadata": {},
          "execution_count": 7
        }
      ]
    },
    {
      "cell_type": "markdown",
      "source": [
        "Кого больше, мужчин или женщин?"
      ],
      "metadata": {
        "id": "HC1uuwJUFw9a"
      }
    },
    {
      "cell_type": "code",
      "source": [
        "#мужчин почти в 2 раза больше, чем женщин (64.8% против 35.2%)\n",
        "round(df.Sex.value_counts(normalize=True)*100, 1)"
      ],
      "metadata": {
        "id": "J9rE61O8FOFf",
        "colab": {
          "base_uri": "https://localhost:8080/"
        },
        "outputId": "b90726aa-abeb-44b2-b1fb-5e6a61e0c3a2"
      },
      "execution_count": null,
      "outputs": [
        {
          "output_type": "execute_result",
          "data": {
            "text/plain": [
              "male      64.8\n",
              "female    35.2\n",
              "Name: Sex, dtype: float64"
            ]
          },
          "metadata": {},
          "execution_count": 8
        }
      ]
    },
    {
      "cell_type": "markdown",
      "source": [
        "Какой наименее популярный порт посадки?"
      ],
      "metadata": {
        "id": "S129yBvPyrDr"
      }
    },
    {
      "cell_type": "code",
      "source": [
        "#Q - наименее популярный порт посадки\n",
        "df.Embarked.value_counts().sort_values()"
      ],
      "metadata": {
        "id": "hCfugingyteS",
        "colab": {
          "base_uri": "https://localhost:8080/"
        },
        "outputId": "4506ef26-2c60-461f-a60f-b004130c49bc"
      },
      "execution_count": null,
      "outputs": [
        {
          "output_type": "execute_result",
          "data": {
            "text/plain": [
              "Q     77\n",
              "C    168\n",
              "S    644\n",
              "Name: Embarked, dtype: int64"
            ]
          },
          "metadata": {},
          "execution_count": 19
        }
      ]
    },
    {
      "cell_type": "markdown",
      "source": [
        "Сколько классов пассажиров (pclass) было на титанике?"
      ],
      "metadata": {
        "id": "TA1eC3ngytzR"
      }
    },
    {
      "cell_type": "code",
      "source": [
        "#всего 3 класса, 491 в 3 классе, 216 во 2 классе и 184 в 1 классе\n",
        "df.Pclass.value_counts()"
      ],
      "metadata": {
        "colab": {
          "base_uri": "https://localhost:8080/"
        },
        "id": "51v2Y81Xywyg",
        "outputId": "1fa99735-d7da-4b64-dc1d-eb5523da9581"
      },
      "execution_count": null,
      "outputs": [
        {
          "output_type": "execute_result",
          "data": {
            "text/plain": [
              "3    491\n",
              "1    216\n",
              "2    184\n",
              "Name: Pclass, dtype: int64"
            ]
          },
          "metadata": {},
          "execution_count": 371
        }
      ]
    },
    {
      "cell_type": "markdown",
      "source": [
        "Какова средняя цена билета? И средняя цена в зависимости от класса пассажира?"
      ],
      "metadata": {
        "id": "MppanbCyyxFq"
      }
    },
    {
      "cell_type": "code",
      "source": [
        "#средняя цена билетов в принципе\n",
        "df['Fare'].mean()"
      ],
      "metadata": {
        "colab": {
          "base_uri": "https://localhost:8080/"
        },
        "id": "FI_b2AR8zqMM",
        "outputId": "c6c2d445-fb55-4277-f54a-2ebd67a8773e"
      },
      "execution_count": null,
      "outputs": [
        {
          "output_type": "execute_result",
          "data": {
            "text/plain": [
              "32.204207968574636"
            ]
          },
          "metadata": {},
          "execution_count": 370
        }
      ]
    },
    {
      "cell_type": "code",
      "source": [
        "#средняя цена билетов по классам\n",
        "df.groupby(['Pclass'])['Fare'].mean()"
      ],
      "metadata": {
        "colab": {
          "base_uri": "https://localhost:8080/"
        },
        "id": "Ua2hegm-y0_J",
        "outputId": "7a97c9c5-41d7-4fe3-ce1e-81a88933168c"
      },
      "execution_count": null,
      "outputs": [
        {
          "output_type": "execute_result",
          "data": {
            "text/plain": [
              "Pclass\n",
              "1    84.154687\n",
              "2    20.662183\n",
              "3    13.675550\n",
              "Name: Fare, dtype: float64"
            ]
          },
          "metadata": {},
          "execution_count": 369
        }
      ]
    },
    {
      "cell_type": "markdown",
      "metadata": {
        "id": "PJoR9Secu_i5"
      },
      "source": [
        "**Задание 2** (0.5 балла) <br/>\n",
        "Визуализируйте распределение возраста (вы можете использовать гистограммы, к примеру).\n",
        "\n",
        "    * Какие максимальный и минимальный возраста пассажиров? Визуализируйте их на графике\n",
        "    * Какой среддний возраст? Также по мужчинам и женщинам в отдельности? Визуализируйте на графике\n",
        "    * Сделайте выводы по графику, который у вас получился"
      ]
    },
    {
      "cell_type": "markdown",
      "source": [
        "Визуализируйте распределение возраста (вы можете использовать гистограммы, к примеру)."
      ],
      "metadata": {
        "id": "BO_aDYSx0v7n"
      }
    },
    {
      "cell_type": "code",
      "source": [
        "plt.hist(df.Age, edgecolor='black', linewidth=1.2, bins=30, density=True)\n",
        "plt.title('Распределение возрастов')\n",
        "plt.xlabel('Возраст')\n",
        "plt.ylabel('Частота');"
      ],
      "metadata": {
        "colab": {
          "base_uri": "https://localhost:8080/",
          "height": 295
        },
        "id": "CT_AwMEM0zmT",
        "outputId": "a5d3779c-6118-4c25-8dc7-026b2deff36e"
      },
      "execution_count": null,
      "outputs": [
        {
          "output_type": "display_data",
          "data": {
            "text/plain": [
              "<Figure size 432x288 with 1 Axes>"
            ],
            "image/png": "[encoded data removed]"
          },
          "metadata": {
            "needs_background": "light"
          }
        }
      ]
    },
    {
      "cell_type": "markdown",
      "source": [
        "Какие максимальный и минимальный возраста пассажиров? Визуализируйте их на графике"
      ],
      "metadata": {
        "id": "2PGGiVGOztCF"
      }
    },
    {
      "cell_type": "code",
      "source": [
        "print('Минимальный возраст:', df.dropna(subset=['Age']).Age.sort_values().iloc[0])\n",
        "print('Максимальный возраст:', df.dropna(subset=['Age']).Age.sort_values(ascending=False).iloc[0])"
      ],
      "metadata": {
        "colab": {
          "base_uri": "https://localhost:8080/"
        },
        "id": "oP8s-ObI3vS3",
        "outputId": "b49f7020-a81e-4835-82e7-72b7dd4eba9c"
      },
      "execution_count": null,
      "outputs": [
        {
          "output_type": "stream",
          "name": "stdout",
          "text": [
            "Минимальный возраст: 0.42\n",
            "Максимальный возраст: 80.0\n"
          ]
        }
      ]
    },
    {
      "cell_type": "code",
      "execution_count": null,
      "metadata": {
        "id": "aEjlHQQlu_i5",
        "colab": {
          "base_uri": "https://localhost:8080/",
          "height": 350
        },
        "outputId": "3b71bd06-3edd-492b-9082-5d3ef2f6f72d"
      },
      "outputs": [
        {
          "output_type": "display_data",
          "data": {
            "text/plain": [
              "<Figure size 1656x360 with 2 Axes>"
            ],
            "image/png": "[encoded data removed]"
          },
          "metadata": {
            "needs_background": "light"
          }
        }
      ],
      "source": [
        "fig, axes = plt.subplots(1, 2, figsize=(23,5))\n",
        "N, bins, patches = axes[0].hist(df.Age, edgecolor='black', linewidth=1.2, bins=90, density=True)\n",
        "N1, bins1, patches1 = axes[1].hist(df[df.Age < 1].Age, edgecolor='black', linewidth=1.2, density=True)\n",
        "\n",
        "patches[0].set_facecolor('red')\n",
        "patches[-1].set_facecolor('red')\n",
        "patches1[0].set_facecolor('red')\n",
        "\n",
        "\n",
        "axes[0].set_title('Распределение возрастов, все возраста')\n",
        "axes[1].set_title('Распределение возрастов, младенцы до года')\n",
        "axes[0].set_xlabel('Возраст')\n",
        "axes[1].set_xlabel('Возраст')\n",
        "axes[0].set_ylabel('Частота')\n",
        "axes[1].set_ylabel('Частота');"
      ]
    },
    {
      "cell_type": "markdown",
      "source": [
        "Какой среддний возраст? Также по мужчинам и женщинам в отдельности? Визуализируйте на графике"
      ],
      "metadata": {
        "id": "P2f96EKNztb8"
      }
    },
    {
      "cell_type": "code",
      "source": [
        "print('Средний возраст для женщин', df[df.Sex=='female'].Age.mean())\n",
        "print('Средний возраст для мужчин', df[df.Sex=='male'].Age.mean())\n",
        "print('Средний возраст для всех', df.Age.mean())"
      ],
      "metadata": {
        "colab": {
          "base_uri": "https://localhost:8080/"
        },
        "id": "NEUeZiXV_1cT",
        "outputId": "8543bc89-fd6b-4183-bad0-591e983b985b"
      },
      "execution_count": null,
      "outputs": [
        {
          "output_type": "stream",
          "name": "stdout",
          "text": [
            "Средний возраст для женщин 27.915708812260537\n",
            "Средний возраст для мужчин 30.72664459161148\n",
            "Средний возраст для всех 29.69911764705882\n"
          ]
        }
      ]
    },
    {
      "cell_type": "code",
      "source": [
        "fig, ax = plt.subplots(figsize=(25, 6))\n",
        "ax1 = sns.lineplot(data=df, x=\"Age\", y=df.Age.value_counts(), hue='Sex',\n",
        "                palette=['b', 'r'], ci=None, alpha=0.4, linewidth=2, linestyle=\"dashed\").set(ylabel='Number', title='Возраста и средние по полу')\n",
        "\n",
        "\n",
        "ax.vlines(x=df[df.Sex=='female'].Age.mean(), ymin=0, ymax=30, linewidth=2, color='r')\n",
        "ax.vlines(x=df.Age.mean(), ymin=0, ymax=30, linewidth=2, color='g')\n",
        "ax.vlines(x=df[df.Sex=='male'].Age.mean(), ymin=0, ymax=30, linewidth=2, color='b')\n",
        "\n",
        "ax.text(23, 18, f'Average age \\nfor females: {round(df[df.Sex==\"female\"].Age.mean(), 1)}', size=14, color='red', bbox=dict(boxstyle='round', facecolor='white', alpha=0.9))\n",
        "ax.text(30.5, 13, f'Average age \\nfor males: {round(df[df.Sex==\"male\"].Age.mean(), 1)}', size=14, color='blue', bbox=dict(boxstyle='round', facecolor='white', alpha=0.9));\n",
        "ax.text(27, 25,  f'Average age \\nfor all: {round(df.Age.mean(), 1)}', size=14, color='green', bbox=dict(boxstyle='round', facecolor='white', alpha=0.9));"
      ],
      "metadata": {
        "colab": {
          "base_uri": "https://localhost:8080/",
          "height": 396
        },
        "id": "Umbvz-qoGyCG",
        "outputId": "8ef48a9f-da13-449f-b36a-0e33d48af64d"
      },
      "execution_count": null,
      "outputs": [
        {
          "output_type": "display_data",
          "data": {
            "text/plain": [
              "<Figure size 1800x432 with 1 Axes>"
            ],
            "image/png": "[encoded data removed]"
          },
          "metadata": {
            "needs_background": "light"
          }
        }
      ]
    },
    {
      "cell_type": "code",
      "source": [
        "#Интересное наблюдение, что в 1 классе люди старше, а в 3 - самые младшие (в среднем)\n",
        "#Также возрастное неравенство в плане гендера больше всего наблюдается в 1 классе и меньше всего во 2 классе\n",
        "ax = sns.barplot(x = \"Pclass\", y = \"Age\", hue=\"Sex\", palette = ['b', 'r'], alpha = 0.8, data = df, errwidth=0)\n",
        "for i in ax.containers:\n",
        "    ax.bar_label(i,)\n",
        "ax.set_title(\"Average age for men and women by Pclass\");"
      ],
      "metadata": {
        "colab": {
          "base_uri": "https://localhost:8080/",
          "height": 295
        },
        "id": "xZUPrQjFetLm",
        "outputId": "44034803-038b-4b5a-d556-950f243172d0"
      },
      "execution_count": null,
      "outputs": [
        {
          "output_type": "display_data",
          "data": {
            "text/plain": [
              "<Figure size 432x288 with 1 Axes>"
            ],
            "image/png": "[encoded data removed]"
          },
          "metadata": {
            "needs_background": "light"
          }
        }
      ]
    },
    {
      "cell_type": "code",
      "source": [
        "print('квартили 0.1 и 0.95 для мужчин', df[df.Sex=='male'].Age.quantile(0.1), df[df.Sex=='male'].Age.quantile(0.95))\n",
        "print('квартили 0.1 и 0.95 для женщин', df[df.Sex=='female'].Age.quantile(0.1), df[df.Sex=='female'].Age.quantile(0.95))"
      ],
      "metadata": {
        "colab": {
          "base_uri": "https://localhost:8080/"
        },
        "id": "tgHWPE_Dgrlp",
        "outputId": "cb145a27-4026-4544-a942-37c0e33de729"
      },
      "execution_count": null,
      "outputs": [
        {
          "output_type": "stream",
          "name": "stdout",
          "text": [
            "квартили 0.1 и 0.95 для мужчин 16.0 59.0\n",
            "квартили 0.1 и 0.95 для женщин 9.0 53.0\n"
          ]
        }
      ]
    },
    {
      "cell_type": "markdown",
      "source": [
        " Сделайте выводы по графику, который у вас получился"
      ],
      "metadata": {
        "id": "0ke-x3O_zuIH"
      }
    },
    {
      "cell_type": "code",
      "source": [
        "'''\n",
        "Как мы видим, в возрасте до 15 лет абсолютное большинство - представители женского пола\n",
        "После где-то 25 лет большинство - представители мужского пола\n",
        "При этом нет женщин старше 60 лет, хотя мужчин старше 60 лет достаточно много (более 25).\n",
        "\n",
        "В целом средние не особо отличаются (27.9 против 30.7), если посмотреть на медиану и квартили,\n",
        "то различие не больше 3 лет. Но если посмотреть квантили в районе 10% и 95%, то тут отличие уже 7 лет и 6 лет\n",
        "\n",
        "Общий вывод: для пассажиров старше 15 лет и младше 50 лет отличие по количеству в разрезе пола не сильное.\n",
        "Среди пассажиров младше 15 лет больше женщин.\n",
        "Среди пассажиров старше 50 лет больше мужчин.\n",
        "'''"
      ],
      "metadata": {
        "id": "V30c4y06zubx"
      },
      "execution_count": null,
      "outputs": []
    },
    {
      "cell_type": "markdown",
      "metadata": {
        "id": "ZpS0m8zXu_i5"
      },
      "source": [
        "**Задание 3** (1 балла) <br/>\n",
        "Найдите все титулы пассажиров (например, *Capt., Mr.,Mme.*), которые записаны в колонке Name, и ответьте на следующие вопросы:\n",
        "\n",
        "    * Сколько всего уникальных титулов?\n",
        "    * Сколько всего пассажиров по каждому титулу??\n",
        "    * Какой наиболее популярный титул у мужчин? У женщин?\n",
        "    \n",
        "**Подсказка** Вы можете извлечь титул из имени, так как это слово, которое содержит точку."
      ]
    },
    {
      "cell_type": "code",
      "source": [
        "df.Name.head(10)"
      ],
      "metadata": {
        "colab": {
          "base_uri": "https://localhost:8080/"
        },
        "id": "cXjuTqgVh-5J",
        "outputId": "ae43ec5d-51eb-4a60-e56d-7dc0592d69ad"
      },
      "execution_count": null,
      "outputs": [
        {
          "output_type": "execute_result",
          "data": {
            "text/plain": [
              "0                              Braund, Mr. Owen Harris\n",
              "1    Cumings, Mrs. John Bradley (Florence Briggs Th...\n",
              "2                               Heikkinen, Miss. Laina\n",
              "3         Futrelle, Mrs. Jacques Heath (Lily May Peel)\n",
              "4                             Allen, Mr. William Henry\n",
              "5                                     Moran, Mr. James\n",
              "6                              McCarthy, Mr. Timothy J\n",
              "7                       Palsson, Master. Gosta Leonard\n",
              "8    Johnson, Mrs. Oscar W (Elisabeth Vilhelmina Berg)\n",
              "9                  Nasser, Mrs. Nicholas (Adele Achem)\n",
              "Name: Name, dtype: object"
            ]
          },
          "metadata": {},
          "execution_count": 20
        }
      ]
    },
    {
      "cell_type": "markdown",
      "source": [
        "Верное решение"
      ],
      "metadata": {
        "id": "oNdaKO3LobTT"
      }
    },
    {
      "cell_type": "code",
      "source": [
        "import re\n",
        "df1 = df.copy()\n",
        "df1['title'] = df.Name.str.extract(r'(\\w*\\.)')\n",
        "df1['title'].unique()"
      ],
      "metadata": {
        "colab": {
          "base_uri": "https://localhost:8080/"
        },
        "id": "aj5CJ4OYiN26",
        "outputId": "ccacfabd-278a-406c-a19a-ab8806edd603"
      },
      "execution_count": null,
      "outputs": [
        {
          "output_type": "execute_result",
          "data": {
            "text/plain": [
              "array(['Mr.', 'Mrs.', 'Miss.', 'Master.', 'Don.', 'Rev.', 'Dr.', 'Mme.',\n",
              "       'Ms.', 'Major.', 'Lady.', 'Sir.', 'Mlle.', 'Col.', 'Capt.',\n",
              "       'Countess.', 'Jonkheer.'], dtype=object)"
            ]
          },
          "metadata": {},
          "execution_count": 59
        }
      ]
    },
    {
      "cell_type": "markdown",
      "source": [
        "Не очень верное решение, которое не дает вытащить Countess"
      ],
      "metadata": {
        "id": "jkIZVU6Ek8kL"
      }
    },
    {
      "cell_type": "code",
      "source": [
        "wrong = df.Name.apply(lambda x: pd.Series(x.split(\", \")[1].split()[0]))\n",
        "wrong[0].unique()"
      ],
      "metadata": {
        "colab": {
          "base_uri": "https://localhost:8080/"
        },
        "id": "9INgRXs2k8GB",
        "outputId": "8f1cc380-17e0-46b4-9653-71b18e49daee"
      },
      "execution_count": null,
      "outputs": [
        {
          "output_type": "execute_result",
          "data": {
            "text/plain": [
              "array(['Mr.', 'Mrs.', 'Miss.', 'Master.', 'Don.', 'Rev.', 'Dr.', 'Mme.',\n",
              "       'Ms.', 'Major.', 'Lady.', 'Sir.', 'Mlle.', 'Col.', 'Capt.', 'the',\n",
              "       'Jonkheer.'], dtype=object)"
            ]
          },
          "metadata": {},
          "execution_count": 52
        }
      ]
    },
    {
      "cell_type": "code",
      "source": [
        "wrong[wrong[0]=='the'] #смотрим, что за человек со званием the и видим, что такой всего 1"
      ],
      "metadata": {
        "colab": {
          "base_uri": "https://localhost:8080/",
          "height": 81
        },
        "id": "uWDle9EXiW38",
        "outputId": "2d02467c-ce16-4626-a80a-fdeb8acf5e00"
      },
      "execution_count": null,
      "outputs": [
        {
          "output_type": "execute_result",
          "data": {
            "text/plain": [
              "       0\n",
              "759  the"
            ],
            "text/html": [
              "\n",
              "  <div id=\"df-c28d2767-1d80-4879-a329-5b40d7626289\">\n",
              "    <div class=\"colab-df-container\">\n",
              "      <div>\n",
              "<style scoped>\n",
              "    .dataframe tbody tr th:only-of-type {\n",
              "        vertical-align: middle;\n",
              "    }\n",
              "\n",
              "    .dataframe tbody tr th {\n",
              "        vertical-align: top;\n",
              "    }\n",
              "\n",
              "    .dataframe thead th {\n",
              "        text-align: right;\n",
              "    }\n",
              "</style>\n",
              "<table border=\"1\" class=\"dataframe\">\n",
              "  <thead>\n",
              "    <tr style=\"text-align: right;\">\n",
              "      <th></th>\n",
              "      <th>0</th>\n",
              "    </tr>\n",
              "  </thead>\n",
              "  <tbody>\n",
              "    <tr>\n",
              "      <th>759</th>\n",
              "      <td>the</td>\n",
              "    </tr>\n",
              "  </tbody>\n",
              "</table>\n",
              "</div>\n",
              "      <button class=\"colab-df-convert\" onclick=\"convertToInteractive('df-c28d2767-1d80-4879-a329-5b40d7626289')\"\n",
              "              title=\"Convert this dataframe to an interactive table.\"\n",
              "              style=\"display:none;\">\n",
              "        \n",
              "  <svg xmlns=\"http://www.w3.org/2000/svg\" height=\"24px\"viewBox=\"0 0 24 24\"\n",
              "       width=\"24px\">\n",
              "    <path d=\"M0 0h24v24H0V0z\" fill=\"none\"/>\n",
              "    <path d=\"M18.56 5.44l.94 2.06.94-2.06 2.06-.94-2.06-.94-.94-2.06-.94 2.06-2.06.94zm-11 1L8.5 8.5l.94-2.06 2.06-.94-2.06-.94L8.5 2.5l-.94 2.06-2.06.94zm10 10l.94 2.06.94-2.06 2.06-.94-2.06-.94-.94-2.06-.94 2.06-2.06.94z\"/><path d=\"M17.41 7.96l-1.37-1.37c-.4-.4-.92-.59-1.43-.59-.52 0-1.04.2-1.43.59L10.3 9.45l-7.72 7.72c-.78.78-.78 2.05 0 2.83L4 21.41c.39.39.9.59 1.41.59.51 0 1.02-.2 1.41-.59l7.78-7.78 2.81-2.81c.8-.78.8-2.07 0-2.86zM5.41 20L4 18.59l7.72-7.72 1.47 1.35L5.41 20z\"/>\n",
              "  </svg>\n",
              "      </button>\n",
              "      \n",
              "  <style>\n",
              "    .colab-df-container {\n",
              "      display:flex;\n",
              "      flex-wrap:wrap;\n",
              "      gap: 12px;\n",
              "    }\n",
              "\n",
              "    .colab-df-convert {\n",
              "      background-color: #E8F0FE;\n",
              "      border: none;\n",
              "      border-radius: 50%;\n",
              "      cursor: pointer;\n",
              "      display: none;\n",
              "      fill: #1967D2;\n",
              "      height: 32px;\n",
              "      padding: 0 0 0 0;\n",
              "      width: 32px;\n",
              "    }\n",
              "\n",
              "    .colab-df-convert:hover {\n",
              "      background-color: #E2EBFA;\n",
              "      box-shadow: 0px 1px 2px rgba(60, 64, 67, 0.3), 0px 1px 3px 1px rgba(60, 64, 67, 0.15);\n",
              "      fill: #174EA6;\n",
              "    }\n",
              "\n",
              "    [theme=dark] .colab-df-convert {\n",
              "      background-color: #3B4455;\n",
              "      fill: #D2E3FC;\n",
              "    }\n",
              "\n",
              "    [theme=dark] .colab-df-convert:hover {\n",
              "      background-color: #434B5C;\n",
              "      box-shadow: 0px 1px 3px 1px rgba(0, 0, 0, 0.15);\n",
              "      filter: drop-shadow(0px 1px 2px rgba(0, 0, 0, 0.3));\n",
              "      fill: #FFFFFF;\n",
              "    }\n",
              "  </style>\n",
              "\n",
              "      <script>\n",
              "        const buttonEl =\n",
              "          document.querySelector('#df-c28d2767-1d80-4879-a329-5b40d7626289 button.colab-df-convert');\n",
              "        buttonEl.style.display =\n",
              "          google.colab.kernel.accessAllowed ? 'block' : 'none';\n",
              "\n",
              "        async function convertToInteractive(key) {\n",
              "          const element = document.querySelector('#df-c28d2767-1d80-4879-a329-5b40d7626289');\n",
              "          const dataTable =\n",
              "            await google.colab.kernel.invokeFunction('convertToInteractive',\n",
              "                                                     [key], {});\n",
              "          if (!dataTable) return;\n",
              "\n",
              "          const docLinkHtml = 'Like what you see? Visit the ' +\n",
              "            '<a target=\"_blank\" href=https://colab.research.google.com/notebooks/data_table.ipynb>data table notebook</a>'\n",
              "            + ' to learn more about interactive tables.';\n",
              "          element.innerHTML = '';\n",
              "          dataTable['output_type'] = 'display_data';\n",
              "          await google.colab.output.renderOutput(dataTable, element);\n",
              "          const docLink = document.createElement('div');\n",
              "          docLink.innerHTML = docLinkHtml;\n",
              "          element.appendChild(docLink);\n",
              "        }\n",
              "      </script>\n",
              "    </div>\n",
              "  </div>\n",
              "  "
            ]
          },
          "metadata": {},
          "execution_count": 53
        }
      ]
    },
    {
      "cell_type": "code",
      "source": [
        "df.iloc[759].Name"
      ],
      "metadata": {
        "colab": {
          "base_uri": "https://localhost:8080/",
          "height": 35
        },
        "id": "fOY67EZQiw8E",
        "outputId": "fe5f3d33-1f1b-4576-a178-55f388917ab3"
      },
      "execution_count": null,
      "outputs": [
        {
          "output_type": "execute_result",
          "data": {
            "text/plain": [
              "'Rothes, the Countess. of (Lucy Noel Martha Dyer-Edwards)'"
            ],
            "application/vnd.google.colaboratory.intrinsic+json": {
              "type": "string"
            }
          },
          "metadata": {},
          "execution_count": 54
        }
      ]
    },
    {
      "cell_type": "markdown",
      "source": [
        "**Сколько всего уникальных титулов?**"
      ],
      "metadata": {
        "id": "vFSGuqHvhk3x"
      }
    },
    {
      "cell_type": "code",
      "execution_count": null,
      "metadata": {
        "id": "RS_PH70Xu_i5",
        "colab": {
          "base_uri": "https://localhost:8080/"
        },
        "outputId": "50dbdb4c-0d48-4f19-f578-fa7aa865cb2d"
      },
      "outputs": [
        {
          "output_type": "execute_result",
          "data": {
            "text/plain": [
              "17"
            ]
          },
          "metadata": {},
          "execution_count": 60
        }
      ],
      "source": [
        "len(df1['title'].unique())"
      ]
    },
    {
      "cell_type": "markdown",
      "source": [
        "**Сколько всего пассажиров по каждому титулу?**"
      ],
      "metadata": {
        "id": "ze-hBmRfhlOY"
      }
    },
    {
      "cell_type": "code",
      "source": [
        "df1['title'].value_counts()"
      ],
      "metadata": {
        "colab": {
          "base_uri": "https://localhost:8080/"
        },
        "id": "dZD0GqHohmIk",
        "outputId": "8a36ff1c-301a-4f37-ab03-cf0f1307bf47"
      },
      "execution_count": null,
      "outputs": [
        {
          "output_type": "execute_result",
          "data": {
            "text/plain": [
              "Mr.          517\n",
              "Miss.        182\n",
              "Mrs.         125\n",
              "Master.       40\n",
              "Dr.            7\n",
              "Rev.           6\n",
              "Mlle.          2\n",
              "Major.         2\n",
              "Col.           2\n",
              "Countess.      1\n",
              "Capt.          1\n",
              "Ms.            1\n",
              "Sir.           1\n",
              "Lady.          1\n",
              "Mme.           1\n",
              "Don.           1\n",
              "Jonkheer.      1\n",
              "Name: title, dtype: int64"
            ]
          },
          "metadata": {},
          "execution_count": 61
        }
      ]
    },
    {
      "cell_type": "markdown",
      "source": [
        "**Какой наиболее популярный титул у мужчин? У женщин?**"
      ],
      "metadata": {
        "id": "4mpQ1dWPhloh"
      }
    },
    {
      "cell_type": "code",
      "source": [
        "df1.groupby(['title', 'Sex'])['PassengerId'].count().sort_values(ascending=False)\n",
        "#cамый популярный титул в целом - Mr\n",
        "#самый популярный у мужчин - Mr\n",
        "#самый популярный у женщин - Miss."
      ],
      "metadata": {
        "colab": {
          "base_uri": "https://localhost:8080/"
        },
        "id": "BvSlhqO8hrWz",
        "outputId": "706df1a2-4e77-4358-92d5-409c2ec24a8f"
      },
      "execution_count": null,
      "outputs": [
        {
          "output_type": "execute_result",
          "data": {
            "text/plain": [
              "title      Sex   \n",
              "Mr.        male      517\n",
              "Miss.      female    182\n",
              "Mrs.       female    125\n",
              "Master.    male       40\n",
              "Rev.       male        6\n",
              "Dr.        male        6\n",
              "Mlle.      female      2\n",
              "Major.     male        2\n",
              "Col.       male        2\n",
              "Ms.        female      1\n",
              "Mme.       female      1\n",
              "Capt.      male        1\n",
              "Lady.      female      1\n",
              "Jonkheer.  male        1\n",
              "Dr.        female      1\n",
              "Don.       male        1\n",
              "Countess.  female      1\n",
              "Sir.       male        1\n",
              "Name: PassengerId, dtype: int64"
            ]
          },
          "metadata": {},
          "execution_count": 73
        }
      ]
    },
    {
      "cell_type": "markdown",
      "metadata": {
        "id": "Y3JTpdobu_i5"
      },
      "source": [
        "**Задание 4** (0.5 балла) <br/>\n",
        "Присутствует ли корреляция между *pclass* и *ticket price*? Посчитайте среднюю цену для каждого класса и визуализируйте распределение цен по каждому классу. Сделайие выводы по графику\n",
        "\n",
        "Подсказка: вы можете сделать разные типы графиков, такие как box, violine, pair, histogram. Обоснуйте выбор графиков и сделайте значимые выводы\n",
        "\n"
      ]
    },
    {
      "cell_type": "markdown",
      "source": [
        "Присутствует ли корреляция между pclass и ticket price?"
      ],
      "metadata": {
        "id": "OhT-zGsumibk"
      }
    },
    {
      "cell_type": "code",
      "source": [
        "df.corr() #как мы видим, корреляция -0.55 - \"заметная\" (можно условно считать 1, 2 и 3 класс порядковыми числительными)"
      ],
      "metadata": {
        "colab": {
          "base_uri": "https://localhost:8080/",
          "height": 269
        },
        "id": "6gQlsH_RqMn8",
        "outputId": "f3b706ae-f3d1-4511-910d-ff8dcabd0fa7"
      },
      "execution_count": null,
      "outputs": [
        {
          "output_type": "execute_result",
          "data": {
            "text/plain": [
              "             PassengerId  Survived    Pclass       Age     SibSp     Parch  \\\n",
              "PassengerId     1.000000 -0.005007 -0.035144  0.036847 -0.057527 -0.001652   \n",
              "Survived       -0.005007  1.000000 -0.338481 -0.077221 -0.035322  0.081629   \n",
              "Pclass         -0.035144 -0.338481  1.000000 -0.369226  0.083081  0.018443   \n",
              "Age             0.036847 -0.077221 -0.369226  1.000000 -0.308247 -0.189119   \n",
              "SibSp          -0.057527 -0.035322  0.083081 -0.308247  1.000000  0.414838   \n",
              "Parch          -0.001652  0.081629  0.018443 -0.189119  0.414838  1.000000   \n",
              "Fare            0.012658  0.257307 -0.549500  0.096067  0.159651  0.216225   \n",
              "\n",
              "                 Fare  \n",
              "PassengerId  0.012658  \n",
              "Survived     0.257307  \n",
              "Pclass      -0.549500  \n",
              "Age          0.096067  \n",
              "SibSp        0.159651  \n",
              "Parch        0.216225  \n",
              "Fare         1.000000  "
            ],
            "text/html": [
              "\n",
              "  <div id=\"df-2636e527-67fa-4296-86a8-a1fcda8ddf36\">\n",
              "    <div class=\"colab-df-container\">\n",
              "      <div>\n",
              "<style scoped>\n",
              "    .dataframe tbody tr th:only-of-type {\n",
              "        vertical-align: middle;\n",
              "    }\n",
              "\n",
              "    .dataframe tbody tr th {\n",
              "        vertical-align: top;\n",
              "    }\n",
              "\n",
              "    .dataframe thead th {\n",
              "        text-align: right;\n",
              "    }\n",
              "</style>\n",
              "<table border=\"1\" class=\"dataframe\">\n",
              "  <thead>\n",
              "    <tr style=\"text-align: right;\">\n",
              "      <th></th>\n",
              "      <th>PassengerId</th>\n",
              "      <th>Survived</th>\n",
              "      <th>Pclass</th>\n",
              "      <th>Age</th>\n",
              "      <th>SibSp</th>\n",
              "      <th>Parch</th>\n",
              "      <th>Fare</th>\n",
              "    </tr>\n",
              "  </thead>\n",
              "  <tbody>\n",
              "    <tr>\n",
              "      <th>PassengerId</th>\n",
              "      <td>1.000000</td>\n",
              "      <td>-0.005007</td>\n",
              "      <td>-0.035144</td>\n",
              "      <td>0.036847</td>\n",
              "      <td>-0.057527</td>\n",
              "      <td>-0.001652</td>\n",
              "      <td>0.012658</td>\n",
              "    </tr>\n",
              "    <tr>\n",
              "      <th>Survived</th>\n",
              "      <td>-0.005007</td>\n",
              "      <td>1.000000</td>\n",
              "      <td>-0.338481</td>\n",
              "      <td>-0.077221</td>\n",
              "      <td>-0.035322</td>\n",
              "      <td>0.081629</td>\n",
              "      <td>0.257307</td>\n",
              "    </tr>\n",
              "    <tr>\n",
              "      <th>Pclass</th>\n",
              "      <td>-0.035144</td>\n",
              "      <td>-0.338481</td>\n",
              "      <td>1.000000</td>\n",
              "      <td>-0.369226</td>\n",
              "      <td>0.083081</td>\n",
              "      <td>0.018443</td>\n",
              "      <td>-0.549500</td>\n",
              "    </tr>\n",
              "    <tr>\n",
              "      <th>Age</th>\n",
              "      <td>0.036847</td>\n",
              "      <td>-0.077221</td>\n",
              "      <td>-0.369226</td>\n",
              "      <td>1.000000</td>\n",
              "      <td>-0.308247</td>\n",
              "      <td>-0.189119</td>\n",
              "      <td>0.096067</td>\n",
              "    </tr>\n",
              "    <tr>\n",
              "      <th>SibSp</th>\n",
              "      <td>-0.057527</td>\n",
              "      <td>-0.035322</td>\n",
              "      <td>0.083081</td>\n",
              "      <td>-0.308247</td>\n",
              "      <td>1.000000</td>\n",
              "      <td>0.414838</td>\n",
              "      <td>0.159651</td>\n",
              "    </tr>\n",
              "    <tr>\n",
              "      <th>Parch</th>\n",
              "      <td>-0.001652</td>\n",
              "      <td>0.081629</td>\n",
              "      <td>0.018443</td>\n",
              "      <td>-0.189119</td>\n",
              "      <td>0.414838</td>\n",
              "      <td>1.000000</td>\n",
              "      <td>0.216225</td>\n",
              "    </tr>\n",
              "    <tr>\n",
              "      <th>Fare</th>\n",
              "      <td>0.012658</td>\n",
              "      <td>0.257307</td>\n",
              "      <td>-0.549500</td>\n",
              "      <td>0.096067</td>\n",
              "      <td>0.159651</td>\n",
              "      <td>0.216225</td>\n",
              "      <td>1.000000</td>\n",
              "    </tr>\n",
              "  </tbody>\n",
              "</table>\n",
              "</div>\n",
              "      <button class=\"colab-df-convert\" onclick=\"convertToInteractive('df-2636e527-67fa-4296-86a8-a1fcda8ddf36')\"\n",
              "              title=\"Convert this dataframe to an interactive table.\"\n",
              "              style=\"display:none;\">\n",
              "        \n",
              "  <svg xmlns=\"http://www.w3.org/2000/svg\" height=\"24px\"viewBox=\"0 0 24 24\"\n",
              "       width=\"24px\">\n",
              "    <path d=\"M0 0h24v24H0V0z\" fill=\"none\"/>\n",
              "    <path d=\"M18.56 5.44l.94 2.06.94-2.06 2.06-.94-2.06-.94-.94-2.06-.94 2.06-2.06.94zm-11 1L8.5 8.5l.94-2.06 2.06-.94-2.06-.94L8.5 2.5l-.94 2.06-2.06.94zm10 10l.94 2.06.94-2.06 2.06-.94-2.06-.94-.94-2.06-.94 2.06-2.06.94z\"/><path d=\"M17.41 7.96l-1.37-1.37c-.4-.4-.92-.59-1.43-.59-.52 0-1.04.2-1.43.59L10.3 9.45l-7.72 7.72c-.78.78-.78 2.05 0 2.83L4 21.41c.39.39.9.59 1.41.59.51 0 1.02-.2 1.41-.59l7.78-7.78 2.81-2.81c.8-.78.8-2.07 0-2.86zM5.41 20L4 18.59l7.72-7.72 1.47 1.35L5.41 20z\"/>\n",
              "  </svg>\n",
              "      </button>\n",
              "      \n",
              "  <style>\n",
              "    .colab-df-container {\n",
              "      display:flex;\n",
              "      flex-wrap:wrap;\n",
              "      gap: 12px;\n",
              "    }\n",
              "\n",
              "    .colab-df-convert {\n",
              "      background-color: #E8F0FE;\n",
              "      border: none;\n",
              "      border-radius: 50%;\n",
              "      cursor: pointer;\n",
              "      display: none;\n",
              "      fill: #1967D2;\n",
              "      height: 32px;\n",
              "      padding: 0 0 0 0;\n",
              "      width: 32px;\n",
              "    }\n",
              "\n",
              "    .colab-df-convert:hover {\n",
              "      background-color: #E2EBFA;\n",
              "      box-shadow: 0px 1px 2px rgba(60, 64, 67, 0.3), 0px 1px 3px 1px rgba(60, 64, 67, 0.15);\n",
              "      fill: #174EA6;\n",
              "    }\n",
              "\n",
              "    [theme=dark] .colab-df-convert {\n",
              "      background-color: #3B4455;\n",
              "      fill: #D2E3FC;\n",
              "    }\n",
              "\n",
              "    [theme=dark] .colab-df-convert:hover {\n",
              "      background-color: #434B5C;\n",
              "      box-shadow: 0px 1px 3px 1px rgba(0, 0, 0, 0.15);\n",
              "      filter: drop-shadow(0px 1px 2px rgba(0, 0, 0, 0.3));\n",
              "      fill: #FFFFFF;\n",
              "    }\n",
              "  </style>\n",
              "\n",
              "      <script>\n",
              "        const buttonEl =\n",
              "          document.querySelector('#df-2636e527-67fa-4296-86a8-a1fcda8ddf36 button.colab-df-convert');\n",
              "        buttonEl.style.display =\n",
              "          google.colab.kernel.accessAllowed ? 'block' : 'none';\n",
              "\n",
              "        async function convertToInteractive(key) {\n",
              "          const element = document.querySelector('#df-2636e527-67fa-4296-86a8-a1fcda8ddf36');\n",
              "          const dataTable =\n",
              "            await google.colab.kernel.invokeFunction('convertToInteractive',\n",
              "                                                     [key], {});\n",
              "          if (!dataTable) return;\n",
              "\n",
              "          const docLinkHtml = 'Like what you see? Visit the ' +\n",
              "            '<a target=\"_blank\" href=https://colab.research.google.com/notebooks/data_table.ipynb>data table notebook</a>'\n",
              "            + ' to learn more about interactive tables.';\n",
              "          element.innerHTML = '';\n",
              "          dataTable['output_type'] = 'display_data';\n",
              "          await google.colab.output.renderOutput(dataTable, element);\n",
              "          const docLink = document.createElement('div');\n",
              "          docLink.innerHTML = docLinkHtml;\n",
              "          element.appendChild(docLink);\n",
              "        }\n",
              "      </script>\n",
              "    </div>\n",
              "  </div>\n",
              "  "
            ]
          },
          "metadata": {},
          "execution_count": 112
        }
      ]
    },
    {
      "cell_type": "markdown",
      "source": [
        "Распределение"
      ],
      "metadata": {
        "id": "mtiEpCBKh4Oa"
      }
    },
    {
      "cell_type": "code",
      "execution_count": null,
      "metadata": {
        "id": "xatx39xOu_i5",
        "colab": {
          "base_uri": "https://localhost:8080/",
          "height": 404
        },
        "outputId": "f04efa8c-2004-4791-ccf7-515eb418ccb4"
      },
      "outputs": [
        {
          "output_type": "display_data",
          "data": {
            "text/plain": [
              "<Figure size 1440x432 with 2 Axes>"
            ],
            "image/png": "[encoded data removed]"
          },
          "metadata": {
            "needs_background": "light"
          }
        }
      ],
      "source": [
        "#в целом, видно, что у 2 и 3 класса не сильно отличаются цены, тогда как у 1 класса самые дорогие билеты => скорее всего корреляция есть, 100%\n",
        "#при этом более где-то 75% цен 3 класса - меньше 50\n",
        "fig, ax = plt.subplots(1, 2, figsize=(20, 6))\n",
        "plt.subplot(1, 2, 1)\n",
        "plt.hist([df[(df.Pclass==1)].Fare, df[(df.Pclass==2)].Fare, df[(df.Pclass==3)].Fare],\n",
        "        density = True, edgecolor='black', color=['r', 'g', 'b'],\n",
        "        label=['1 class', '2 class', '3 class'], bins=25, alpha=0.8)\n",
        "plt.legend(loc='upper right')\n",
        "plt.title('Цены по классам')\n",
        "\n",
        "plt.subplot(1, 2, 2)\n",
        "sns.lineplot(data=df, y=df.Fare.value_counts(normalize=True),x='Fare', hue='Pclass', palette = ['r', 'g', 'b'],\n",
        "                ci=None, alpha=0.6).set(ylabel='Number', title='Цены по классам');"
      ]
    },
    {
      "cell_type": "markdown",
      "source": [
        "Посчитаем среднее"
      ],
      "metadata": {
        "id": "g8TaI-OAhnhf"
      }
    },
    {
      "cell_type": "code",
      "source": [
        "df.groupby(['Pclass'])['Fare'].mean()"
      ],
      "metadata": {
        "colab": {
          "base_uri": "https://localhost:8080/"
        },
        "id": "9mbVGL1xedFI",
        "outputId": "60902540-a7bf-4a65-95aa-8949981ef77d"
      },
      "execution_count": null,
      "outputs": [
        {
          "output_type": "execute_result",
          "data": {
            "text/plain": [
              "Pclass\n",
              "1    84.154687\n",
              "2    20.662183\n",
              "3    13.675550\n",
              "Name: Fare, dtype: float64"
            ]
          },
          "metadata": {},
          "execution_count": 10
        }
      ]
    },
    {
      "cell_type": "code",
      "source": [
        "ax = sns.barplot(x = \"Pclass\", y = \"Fare\", data = df, palette = ['r', 'g', 'b'], alpha = 0.8, errwidth=0)\n",
        "ax.bar_label(ax.containers[0]);"
      ],
      "metadata": {
        "colab": {
          "base_uri": "https://localhost:8080/",
          "height": 283
        },
        "id": "PreXV1S2eMRl",
        "outputId": "3c6eaeed-1b61-4e6b-f918-89901ae79f78"
      },
      "execution_count": null,
      "outputs": [
        {
          "output_type": "display_data",
          "data": {
            "text/plain": [
              "<Figure size 432x288 with 1 Axes>"
            ],
            "image/png": "[encoded data removed]"
          },
          "metadata": {
            "needs_background": "light"
          }
        }
      ]
    },
    {
      "cell_type": "code",
      "source": [
        "plt.hist([df[(df.Pclass==1)].Fare, df[(df.Pclass==2)].Fare, df[(df.Pclass==3)].Fare],\n",
        "        density = True, edgecolor='black', color=['r', 'g', 'b'],\n",
        "        label=['1 class', '2 class', '3 class'], bins=25, alpha=0.8)\n",
        "plt.legend(loc='upper right')\n",
        "plt.title('Цены по классам')"
      ],
      "metadata": {
        "id": "McWhnSchkwGB"
      },
      "execution_count": null,
      "outputs": []
    },
    {
      "cell_type": "code",
      "source": [
        "df1 = df.copy()\n",
        "df1['Embarked']"
      ],
      "metadata": {
        "colab": {
          "base_uri": "https://localhost:8080/",
          "height": 269
        },
        "id": "IxRkbyGliP_u",
        "outputId": "ae09acd0-33f6-4b5c-87d9-2b680938e4c3"
      },
      "execution_count": null,
      "outputs": [
        {
          "output_type": "execute_result",
          "data": {
            "text/plain": [
              "             PassengerId  Survived    Pclass       Age     SibSp     Parch  \\\n",
              "PassengerId     1.000000 -0.005007 -0.035144  0.036847 -0.057527 -0.001652   \n",
              "Survived       -0.005007  1.000000 -0.338481 -0.077221 -0.035322  0.081629   \n",
              "Pclass         -0.035144 -0.338481  1.000000 -0.369226  0.083081  0.018443   \n",
              "Age             0.036847 -0.077221 -0.369226  1.000000 -0.308247 -0.189119   \n",
              "SibSp          -0.057527 -0.035322  0.083081 -0.308247  1.000000  0.414838   \n",
              "Parch          -0.001652  0.081629  0.018443 -0.189119  0.414838  1.000000   \n",
              "Fare            0.012658  0.257307 -0.549500  0.096067  0.159651  0.216225   \n",
              "\n",
              "                 Fare  \n",
              "PassengerId  0.012658  \n",
              "Survived     0.257307  \n",
              "Pclass      -0.549500  \n",
              "Age          0.096067  \n",
              "SibSp        0.159651  \n",
              "Parch        0.216225  \n",
              "Fare         1.000000  "
            ],
            "text/html": [
              "\n",
              "  <div id=\"df-bc6d4c1a-581e-4be2-993d-566b01713b6e\">\n",
              "    <div class=\"colab-df-container\">\n",
              "      <div>\n",
              "<style scoped>\n",
              "    .dataframe tbody tr th:only-of-type {\n",
              "        vertical-align: middle;\n",
              "    }\n",
              "\n",
              "    .dataframe tbody tr th {\n",
              "        vertical-align: top;\n",
              "    }\n",
              "\n",
              "    .dataframe thead th {\n",
              "        text-align: right;\n",
              "    }\n",
              "</style>\n",
              "<table border=\"1\" class=\"dataframe\">\n",
              "  <thead>\n",
              "    <tr style=\"text-align: right;\">\n",
              "      <th></th>\n",
              "      <th>PassengerId</th>\n",
              "      <th>Survived</th>\n",
              "      <th>Pclass</th>\n",
              "      <th>Age</th>\n",
              "      <th>SibSp</th>\n",
              "      <th>Parch</th>\n",
              "      <th>Fare</th>\n",
              "    </tr>\n",
              "  </thead>\n",
              "  <tbody>\n",
              "    <tr>\n",
              "      <th>PassengerId</th>\n",
              "      <td>1.000000</td>\n",
              "      <td>-0.005007</td>\n",
              "      <td>-0.035144</td>\n",
              "      <td>0.036847</td>\n",
              "      <td>-0.057527</td>\n",
              "      <td>-0.001652</td>\n",
              "      <td>0.012658</td>\n",
              "    </tr>\n",
              "    <tr>\n",
              "      <th>Survived</th>\n",
              "      <td>-0.005007</td>\n",
              "      <td>1.000000</td>\n",
              "      <td>-0.338481</td>\n",
              "      <td>-0.077221</td>\n",
              "      <td>-0.035322</td>\n",
              "      <td>0.081629</td>\n",
              "      <td>0.257307</td>\n",
              "    </tr>\n",
              "    <tr>\n",
              "      <th>Pclass</th>\n",
              "      <td>-0.035144</td>\n",
              "      <td>-0.338481</td>\n",
              "      <td>1.000000</td>\n",
              "      <td>-0.369226</td>\n",
              "      <td>0.083081</td>\n",
              "      <td>0.018443</td>\n",
              "      <td>-0.549500</td>\n",
              "    </tr>\n",
              "    <tr>\n",
              "      <th>Age</th>\n",
              "      <td>0.036847</td>\n",
              "      <td>-0.077221</td>\n",
              "      <td>-0.369226</td>\n",
              "      <td>1.000000</td>\n",
              "      <td>-0.308247</td>\n",
              "      <td>-0.189119</td>\n",
              "      <td>0.096067</td>\n",
              "    </tr>\n",
              "    <tr>\n",
              "      <th>SibSp</th>\n",
              "      <td>-0.057527</td>\n",
              "      <td>-0.035322</td>\n",
              "      <td>0.083081</td>\n",
              "      <td>-0.308247</td>\n",
              "      <td>1.000000</td>\n",
              "      <td>0.414838</td>\n",
              "      <td>0.159651</td>\n",
              "    </tr>\n",
              "    <tr>\n",
              "      <th>Parch</th>\n",
              "      <td>-0.001652</td>\n",
              "      <td>0.081629</td>\n",
              "      <td>0.018443</td>\n",
              "      <td>-0.189119</td>\n",
              "      <td>0.414838</td>\n",
              "      <td>1.000000</td>\n",
              "      <td>0.216225</td>\n",
              "    </tr>\n",
              "    <tr>\n",
              "      <th>Fare</th>\n",
              "      <td>0.012658</td>\n",
              "      <td>0.257307</td>\n",
              "      <td>-0.549500</td>\n",
              "      <td>0.096067</td>\n",
              "      <td>0.159651</td>\n",
              "      <td>0.216225</td>\n",
              "      <td>1.000000</td>\n",
              "    </tr>\n",
              "  </tbody>\n",
              "</table>\n",
              "</div>\n",
              "      <button class=\"colab-df-convert\" onclick=\"convertToInteractive('df-bc6d4c1a-581e-4be2-993d-566b01713b6e')\"\n",
              "              title=\"Convert this dataframe to an interactive table.\"\n",
              "              style=\"display:none;\">\n",
              "        \n",
              "  <svg xmlns=\"http://www.w3.org/2000/svg\" height=\"24px\"viewBox=\"0 0 24 24\"\n",
              "       width=\"24px\">\n",
              "    <path d=\"M0 0h24v24H0V0z\" fill=\"none\"/>\n",
              "    <path d=\"M18.56 5.44l.94 2.06.94-2.06 2.06-.94-2.06-.94-.94-2.06-.94 2.06-2.06.94zm-11 1L8.5 8.5l.94-2.06 2.06-.94-2.06-.94L8.5 2.5l-.94 2.06-2.06.94zm10 10l.94 2.06.94-2.06 2.06-.94-2.06-.94-.94-2.06-.94 2.06-2.06.94z\"/><path d=\"M17.41 7.96l-1.37-1.37c-.4-.4-.92-.59-1.43-.59-.52 0-1.04.2-1.43.59L10.3 9.45l-7.72 7.72c-.78.78-.78 2.05 0 2.83L4 21.41c.39.39.9.59 1.41.59.51 0 1.02-.2 1.41-.59l7.78-7.78 2.81-2.81c.8-.78.8-2.07 0-2.86zM5.41 20L4 18.59l7.72-7.72 1.47 1.35L5.41 20z\"/>\n",
              "  </svg>\n",
              "      </button>\n",
              "      \n",
              "  <style>\n",
              "    .colab-df-container {\n",
              "      display:flex;\n",
              "      flex-wrap:wrap;\n",
              "      gap: 12px;\n",
              "    }\n",
              "\n",
              "    .colab-df-convert {\n",
              "      background-color: #E8F0FE;\n",
              "      border: none;\n",
              "      border-radius: 50%;\n",
              "      cursor: pointer;\n",
              "      display: none;\n",
              "      fill: #1967D2;\n",
              "      height: 32px;\n",
              "      padding: 0 0 0 0;\n",
              "      width: 32px;\n",
              "    }\n",
              "\n",
              "    .colab-df-convert:hover {\n",
              "      background-color: #E2EBFA;\n",
              "      box-shadow: 0px 1px 2px rgba(60, 64, 67, 0.3), 0px 1px 3px 1px rgba(60, 64, 67, 0.15);\n",
              "      fill: #174EA6;\n",
              "    }\n",
              "\n",
              "    [theme=dark] .colab-df-convert {\n",
              "      background-color: #3B4455;\n",
              "      fill: #D2E3FC;\n",
              "    }\n",
              "\n",
              "    [theme=dark] .colab-df-convert:hover {\n",
              "      background-color: #434B5C;\n",
              "      box-shadow: 0px 1px 3px 1px rgba(0, 0, 0, 0.15);\n",
              "      filter: drop-shadow(0px 1px 2px rgba(0, 0, 0, 0.3));\n",
              "      fill: #FFFFFF;\n",
              "    }\n",
              "  </style>\n",
              "\n",
              "      <script>\n",
              "        const buttonEl =\n",
              "          document.querySelector('#df-bc6d4c1a-581e-4be2-993d-566b01713b6e button.colab-df-convert');\n",
              "        buttonEl.style.display =\n",
              "          google.colab.kernel.accessAllowed ? 'block' : 'none';\n",
              "\n",
              "        async function convertToInteractive(key) {\n",
              "          const element = document.querySelector('#df-bc6d4c1a-581e-4be2-993d-566b01713b6e');\n",
              "          const dataTable =\n",
              "            await google.colab.kernel.invokeFunction('convertToInteractive',\n",
              "                                                     [key], {});\n",
              "          if (!dataTable) return;\n",
              "\n",
              "          const docLinkHtml = 'Like what you see? Visit the ' +\n",
              "            '<a target=\"_blank\" href=https://colab.research.google.com/notebooks/data_table.ipynb>data table notebook</a>'\n",
              "            + ' to learn more about interactive tables.';\n",
              "          element.innerHTML = '';\n",
              "          dataTable['output_type'] = 'display_data';\n",
              "          await google.colab.output.renderOutput(dataTable, element);\n",
              "          const docLink = document.createElement('div');\n",
              "          docLink.innerHTML = docLinkHtml;\n",
              "          element.appendChild(docLink);\n",
              "        }\n",
              "      </script>\n",
              "    </div>\n",
              "  </div>\n",
              "  "
            ]
          },
          "metadata": {},
          "execution_count": 31
        }
      ]
    },
    {
      "cell_type": "markdown",
      "metadata": {
        "id": "t_Noc9_5u_i5"
      },
      "source": [
        "**Задание 5** (0.5 балла) <br/>\n",
        "Такие же вопросы, как и в задании 4, но про корреляцию между *embarked* и *ticket priсe*."
      ]
    },
    {
      "cell_type": "markdown",
      "source": [
        "Среднее"
      ],
      "metadata": {
        "id": "Lf8UMMXNh9WO"
      }
    },
    {
      "cell_type": "code",
      "source": [
        "#как мы видим, выглядит так, что С - самый дорогой порт, Q - самый дешевый\n",
        "ax = sns.barplot(x = \"Embarked\", y = \"Fare\", data = df, palette = ['r', 'g', 'b'], alpha = 0.8, errwidth=0)\n",
        "ax.bar_label(ax.containers[0])\n",
        "ax.set_title(\"Average Fare for ports\");"
      ],
      "metadata": {
        "colab": {
          "base_uri": "https://localhost:8080/",
          "height": 295
        },
        "id": "cKZgNeh6hsBz",
        "outputId": "803b2467-c06e-40bc-b98d-693d8d61caa0"
      },
      "execution_count": null,
      "outputs": [
        {
          "output_type": "display_data",
          "data": {
            "text/plain": [
              "<Figure size 432x288 with 1 Axes>"
            ],
            "image/png": "[encoded data removed]"
          },
          "metadata": {
            "needs_background": "light"
          }
        }
      ]
    },
    {
      "cell_type": "code",
      "source": [
        "#Диграмма может показаться странной, но мне нравится, что тут видно, что нет цен выше 300 нигде кроме порта С.\n",
        "#При этом все в порте S закупались по ценам ниже 100, а большинство вообще по минимальной цене\n",
        "#Несмотря на то, что посетители порта С самые богатые, они тоже закупались по минимальным ценам\n",
        "#Посетители порта Q не покупали билетов меньше 300, но при этом у них наибольший разборс цен от минимальной до 300.\n",
        "#Если бы не люди, которые купили билет за 500, то порт Q мог бы считаться таким же элитным, как и порт C\n",
        "\n",
        "ax = sns.histplot(data=df, y=\"Fare\", hue=\"Embarked\", multiple='fill',\n",
        "             bins=30, palette=['r', 'g', 'b'], alpha=0.6).set(title=\"Ports and prices\")\n",
        "plt.legend(loc='upper right', labels=['S', 'C', 'Q'], title='Port'); #иначе легенда почему-то была слева и закрывала синих =("
      ],
      "metadata": {
        "colab": {
          "base_uri": "https://localhost:8080/",
          "height": 295
        },
        "id": "3YECu2WynMrc",
        "outputId": "9aa31e2f-5b07-4c64-dee3-968074f57a20"
      },
      "execution_count": null,
      "outputs": [
        {
          "output_type": "display_data",
          "data": {
            "text/plain": [
              "<Figure size 432x288 with 1 Axes>"
            ],
            "image/png": "[encoded data removed]"
          },
          "metadata": {
            "needs_background": "light"
          }
        }
      ]
    },
    {
      "cell_type": "code",
      "source": [
        "#Если нарисовать каждое распределение отдельно, то видно, что во всех портах большинство людей брали билеты подешевле\n",
        "sns.displot(data=df[(df.Embarked=='S')], x='Fare', kde=True, bins=30, hue='Embarked', palette=['r'])\n",
        "sns.displot(data=df[(df.Embarked=='C')], x='Fare', kde=True, bins=30, hue='Embarked', palette=['g'])\n",
        "sns.displot(data=df[(df.Embarked=='Q')], x='Fare', kde=True, bins=30, hue='Embarked', palette=['b'])"
      ],
      "metadata": {
        "colab": {
          "base_uri": "https://localhost:8080/",
          "height": 1000
        },
        "id": "fdR1s_mZsyQQ",
        "outputId": "756676d5-acf9-4512-8feb-066553093e82"
      },
      "execution_count": null,
      "outputs": [
        {
          "output_type": "execute_result",
          "data": {
            "text/plain": [
              "<seaborn.axisgrid.FacetGrid at 0x7f0c3fb5c490>"
            ]
          },
          "metadata": {},
          "execution_count": 96
        },
        {
          "output_type": "display_data",
          "data": {
            "text/plain": [
              "<Figure size 418.25x360 with 1 Axes>"
            ],
            "image/png": "[encoded data removed]"
          },
          "metadata": {
            "needs_background": "light"
          }
        },
        {
          "output_type": "display_data",
          "data": {
            "text/plain": [
              "<Figure size 418.25x360 with 1 Axes>"
            ],
            "image/png": "[encoded data removed]"
          },
          "metadata": {
            "needs_background": "light"
          }
        },
        {
          "output_type": "display_data",
          "data": {
            "text/plain": [
              "<Figure size 418.25x360 with 1 Axes>"
            ],
            "image/png": "[encoded data removed]"
          },
          "metadata": {
            "needs_background": "light"
          }
        }
      ]
    },
    {
      "cell_type": "markdown",
      "metadata": {
        "id": "_BOVWuUzu_i5"
      },
      "source": [
        "**Задание 6** (0.5 балла) <br/>\n",
        "Визуализируйте распределение возарста для выживших и погибших пассажиров по отдельности, посчитайте средний возраст по выжившим и погибшим. Отличаются ли они? Постройте визуализацию для мужчин и женщин по отдельности. Сделайте выводы о том, что вы видите на графиках"
      ]
    },
    {
      "cell_type": "markdown",
      "source": [
        "Визуализируйте распределение возарста для выживших и погибших пассажиров по отдельности, посчитайте средний возраст по выжившим и погибшим."
      ],
      "metadata": {
        "id": "kQLoQtdrwW-7"
      }
    },
    {
      "cell_type": "code",
      "execution_count": null,
      "metadata": {
        "id": "3SWpSpR3u_i5",
        "colab": {
          "base_uri": "https://localhost:8080/",
          "height": 753
        },
        "outputId": "ff7e6ad2-f74a-4acf-b732-dad62e05efb7"
      },
      "outputs": [
        {
          "output_type": "display_data",
          "data": {
            "text/plain": [
              "<Figure size 445.375x360 with 1 Axes>"
            ],
            "image/png": "[encoded data removed]"
          },
          "metadata": {
            "needs_background": "light"
          }
        },
        {
          "output_type": "display_data",
          "data": {
            "text/plain": [
              "<Figure size 445.375x360 with 1 Axes>"
            ],
            "image/png": "[encoded data removed]"
          },
          "metadata": {
            "needs_background": "light"
          }
        }
      ],
      "source": [
        "hue_color = df.Age.apply(lambda x: 'дети' if x < 16 else ('пожилые' if x > 60 else 'взрослые'))\n",
        "sns.displot(data=df[df.Survived==0], x='Age', kde=True, bins=30, hue=hue_color).set(title='Dead')\n",
        "sns.displot(data=df[df.Survived==1], x='Age', kde=True, bins=30, hue=hue_color).set(title='Alive')\n",
        "plt.show()"
      ]
    },
    {
      "cell_type": "code",
      "source": [
        "\"\"\"\n",
        "Как мы видим, детей (до 16 лет) хорошо пытались спасать, а взрослых где-то после 60 лет вообще почти не спасали, на них будто забили.\n",
        "Лучше всего спаслись младенчики (2/3 выжили)\n",
        "\"\"\""
      ],
      "metadata": {
        "id": "Yoejn-fiwdHW"
      },
      "execution_count": null,
      "outputs": []
    },
    {
      "cell_type": "code",
      "source": [
        "\n",
        "from scipy.stats import beta\n",
        "import numpy as np\n",
        "from calc_prob import calc_prob_between\n",
        "\n",
        "#This is the known data: impressions and conversions for the Control and Test set\n",
        "imps_ctrl,convs_ctrl=6076, 621\n",
        "imps_test, convs_test=6076, 745\n",
        "\n",
        "#here we create the Beta functions for the two sets\n",
        "a_C, b_C = convs_ctrl+1, imps_ctrl-convs_ctrl+1\n",
        "beta_C = beta(a_C, b_C)\n",
        "a_T, b_T = convs_test+1, imps_test-convs_test+1\n",
        "beta_T = beta(a_T, b_T)\n",
        "\n",
        "#calculating the lift\n",
        "lift=(beta_T.mean()-beta_C.mean())/beta_C.mean()\n",
        "\n",
        "#calculating the probability for Test to be better than Control\n",
        "prob=calc_prob_between(beta_T, beta_C)\n",
        "\n",
        "print (f\"Test option lift Conversion Rates by {lift*100:2.2f}% with {prob*100:2.1f}% probability.\")"
      ],
      "metadata": {
        "id": "EsPCOFH_xcVS",
        "outputId": "0845c462-1033-4f54-ae3b-38909644f813",
        "colab": {
          "base_uri": "https://localhost:8080/",
          "height": 373
        }
      },
      "execution_count": null,
      "outputs": [
        {
          "output_type": "error",
          "ename": "ModuleNotFoundError",
          "evalue": "ignored",
          "traceback": [
            "\u001b[0;31m---------------------------------------------------------------------------\u001b[0m",
            "\u001b[0;31mModuleNotFoundError\u001b[0m                       Traceback (most recent call last)",
            "\u001b[0;32m<ipython-input-1-9c0dbf446cb8>\u001b[0m in \u001b[0;36m<cell line: 3>\u001b[0;34m()\u001b[0m\n\u001b[1;32m      1\u001b[0m \u001b[0;32mfrom\u001b[0m \u001b[0mscipy\u001b[0m\u001b[0;34m.\u001b[0m\u001b[0mstats\u001b[0m \u001b[0;32mimport\u001b[0m \u001b[0mbeta\u001b[0m\u001b[0;34m\u001b[0m\u001b[0;34m\u001b[0m\u001b[0m\n\u001b[1;32m      2\u001b[0m \u001b[0;32mimport\u001b[0m \u001b[0mnumpy\u001b[0m \u001b[0;32mas\u001b[0m \u001b[0mnp\u001b[0m\u001b[0;34m\u001b[0m\u001b[0;34m\u001b[0m\u001b[0m\n\u001b[0;32m----> 3\u001b[0;31m \u001b[0;32mfrom\u001b[0m \u001b[0mcalc_prob\u001b[0m \u001b[0;32mimport\u001b[0m \u001b[0mcalc_prob_between\u001b[0m\u001b[0;34m\u001b[0m\u001b[0;34m\u001b[0m\u001b[0m\n\u001b[0m\u001b[1;32m      4\u001b[0m \u001b[0;34m\u001b[0m\u001b[0m\n\u001b[1;32m      5\u001b[0m \u001b[0;31m#This is the known data: impressions and conversions for the Control and Test set\u001b[0m\u001b[0;34m\u001b[0m\u001b[0;34m\u001b[0m\u001b[0m\n",
            "\u001b[0;31mModuleNotFoundError\u001b[0m: No module named 'calc_prob'",
            "",
            "\u001b[0;31m---------------------------------------------------------------------------\u001b[0;32m\nNOTE: If your import is failing due to a missing package, you can\nmanually install dependencies using either !pip or !apt.\n\nTo view examples of installing some common dependencies, click the\n\"Open Examples\" button below.\n\u001b[0;31m---------------------------------------------------------------------------\u001b[0m\n"
          ],
          "errorDetails": {
            "actions": [
              {
                "action": "open_url",
                "actionText": "Open Examples",
                "url": "/notebooks/snippets/importing_libraries.ipynb"
              }
            ]
          }
        }
      ]
    },
    {
      "cell_type": "code",
      "source": [],
      "metadata": {
        "id": "Glhzzqu-xhhl"
      },
      "execution_count": null,
      "outputs": []
    }
  ],
  "metadata": {
    "kernelspec": {
      "display_name": "Python 3 (ipykernel)",
      "language": "python",
      "name": "python3"
    },
    "language_info": {
      "codemirror_mode": {
        "name": "ipython",
        "version": 3
      },
      "file_extension": ".py",
      "mimetype": "text/x-python",
      "name": "python",
      "nbconvert_exporter": "python",
      "pygments_lexer": "ipython3",
      "version": "3.9.7"
    },
    "colab": {
      "provenance": [],
      "machine_shape": "hm"
    },
    "gpuClass": "standard"
  },
  "nbformat": 4,
  "nbformat_minor": 0
}